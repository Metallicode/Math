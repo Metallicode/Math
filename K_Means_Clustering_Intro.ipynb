{
  "nbformat": 4,
  "nbformat_minor": 0,
  "metadata": {
    "colab": {
      "provenance": [],
      "authorship_tag": "ABX9TyP99zvuApV69mwu7dAqXOGf",
      "include_colab_link": true
    },
    "kernelspec": {
      "name": "python3",
      "display_name": "Python 3"
    },
    "language_info": {
      "name": "python"
    }
  },
  "cells": [
    {
      "cell_type": "markdown",
      "metadata": {
        "id": "view-in-github",
        "colab_type": "text"
      },
      "source": [
        "<a href=\"https://colab.research.google.com/github/Metallicode/Math/blob/main/K_Means_Clustering_Intro.ipynb\" target=\"_parent\"><img src=\"https://colab.research.google.com/assets/colab-badge.svg\" alt=\"Open In Colab\"/></a>"
      ]
    },
    {
      "cell_type": "markdown",
      "source": [
        "#Unsupervised Learning: An Overview"
      ],
      "metadata": {
        "id": "od8kltcQfJ6N"
      }
    },
    {
      "cell_type": "markdown",
      "source": [
        "\n",
        "**Definition:**\n",
        "\n",
        "> Unsupervised learning is a machine learning paradigm where models are trained on data without explicit labels. Instead of being taught what to look for, these models learn inherent patterns or structures within the data on their own.\n",
        "\n",
        "###Key Concepts:\n",
        "\n",
        "**Clustering:**\n",
        "\n",
        "> Goal: Group similar data points together based on certain features.\n",
        "Common Algorithms: K-Means, Hierarchical clustering, DBSCAN.\n",
        "Applications: Customer segmentation, Image compression.\n",
        "\n",
        "\n",
        "**Dimensionality Reduction:**\n",
        "\n",
        "> Goal: Reduce the number of random variables under consideration by obtaining a set of principal variables, while retaining as much variance as possible.\n",
        "Common Algorithms: Principal Component Analysis (PCA), t-Distributed Stochastic Neighbor Embedding (t-SNE), Autoencoders.\n",
        "Applications: Data visualization, Feature extraction.\n",
        "\n",
        "\n",
        "**Association:**\n",
        "\n",
        "> Goal: Discover interesting relations between variables in large datasets.\n",
        "Common Algorithms: Apriori, Eclat.\n",
        "Applications: Market basket analysis, Website recommendation.\n",
        "\n",
        "\n",
        "**Density Estimation:**\n",
        "\n",
        "> Goal: Determine the distribution of data within the dataset.\n",
        "Common Techniques: Kernel Density Estimation, Gaussian Mixture Model.\n",
        "Applications: Anomaly detection, Data generation.\n",
        "\n",
        "\n",
        "**Advantages:**\n",
        "\n",
        "> Can be used when labeled data is scarce or expensive to obtain.\n",
        "Useful for initial exploration and understanding of the data.\n",
        "Can lead to insights that might not be apparent with supervised approaches.\n",
        "\n",
        "\n",
        "**Challenges:**\n",
        "\n",
        "> Less straightforward than supervised learning; results can sometimes be hard to interpret.\n",
        "Requires a larger amount of data to detect patterns effectively.\n",
        "No straightforward metric for evaluation, as there are no true labels to validate against."
      ],
      "metadata": {
        "id": "ZVcbB9GefG-9"
      }
    },
    {
      "cell_type": "markdown",
      "source": [
        "# K-Means_Clustering"
      ],
      "metadata": {
        "id": "dSaA7J0iWuUa"
      }
    },
    {
      "cell_type": "markdown",
      "source": [
        "\n",
        "### **K-Means Clustering: A Simple Explanation**\n",
        "\n",
        "Imagine you have a bunch of marbles scattered on the floor, and you want to group them based on their colors, but you're blindfolded. K-Means is like having a friend who also can't see the colors but helps you group the marbles based on their proximity to each other.\n",
        "\n",
        "**Step-by-step Process**:\n",
        "\n",
        "1. **Initialization**:\n",
        "   - Decide how many groups (clusters) you want (let's say K groups).\n",
        "   - Randomly place K points (called 'centroids') on the area where the marbles are scattered.\n",
        "\n",
        "2. **Assignment**:\n",
        "   - For each marble, find out which centroid it is closest to. Assign the marble to that centroid's group.\n",
        "\n",
        "3. **Update Centroids**:\n",
        "   - Once all marbles are assigned, calculate the center point of the marbles in each group. This new center point becomes your updated centroid.\n",
        "\n",
        "4. **Repeat**:\n",
        "   - With the new centroids, repeat the assignment step and the update centroid step until the centroids don't move much anymore or a set number of iterations is reached.\n",
        "\n",
        "**The Math Behind It**:\n",
        "\n",
        "The goal of K-Means is to minimize the distance between points in the same cluster and maximize the distance between different clusters.\n",
        "\n",
        "\n",
        "\n",
        "K-Means is like grouping marbles based on how close they are to each other. You keep adjusting your groups until you find the best way to group them. The \"best\" way is when the marbles are as close as possible to the center of their group and as far apart as possible from marbles in other groups."
      ],
      "metadata": {
        "id": "OFqB13PdlWtK"
      }
    },
    {
      "cell_type": "markdown",
      "source": [
        "##Simplified formula:\n",
        "\n",
        "[wiki](https://en.wikipedia.org/wiki/K-means_clustering)\n",
        "\n",
        "The objective of the K-Means algorithm is to minimize the within-cluster sum of squares (WCSS), which is the sum of the squared distances between each point and the centroid of its cluster.\n",
        "\n",
        "![k-Means Equation1.jpg](data:image/jpeg;base64,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)"
      ],
      "metadata": {
        "id": "2KPUbjrcmaMd"
      }
    },
    {
      "cell_type": "code",
      "execution_count": null,
      "metadata": {
        "id": "C2y1kcmKWlOH"
      },
      "outputs": [],
      "source": [
        "import numpy as np\n",
        "import matplotlib.pyplot as plt\n",
        "\n",
        "# Generate some sample data\n",
        "np.random.seed(42)\n",
        "data = np.vstack([np.random.randn(100, 2) * 0.75 + [3, 3],\n",
        "                  np.random.randn(100, 2) * 0.5 + [0, 0],\n",
        "                  np.random.randn(100, 2) * 0.6 + [1, 4]])\n",
        "\n",
        "# Randomly initialize centroids\n",
        "num_clusters = 3\n",
        "centroids = data[np.random.choice(data.shape[0], num_clusters, replace=False)]\n",
        "\n",
        "def euclidean_distance(a, b):\n",
        "    return np.sqrt(np.sum((a - b) ** 2))\n",
        "\n",
        "def closest_centroid(point, centroids):\n",
        "    distances = [euclidean_distance(point, centroid) for centroid in centroids]\n",
        "    return np.argmin(distances)\n",
        "\n",
        "plt.scatter(data[:, 0], data[:, 1], alpha=0.5)\n",
        "plt.scatter(centroids[:, 0], centroids[:, 1], color='red')\n",
        "plt.title(\"Initial Centroids\")\n",
        "plt.show()\n",
        "\n",
        "# K-Means algorithm\n",
        "for step in range(10):  # let's run 10 iterations\n",
        "    labels = [closest_centroid(point, centroids) for point in data]\n",
        "    for i in range(num_clusters):\n",
        "        centroids[i] = np.mean(data[np.array(labels) == i], axis=0)\n",
        "    plt.scatter(data[:, 0], data[:, 1], c=labels, alpha=0.5)\n",
        "    plt.scatter(centroids[:, 0], centroids[:, 1], color='red')\n",
        "    plt.title(f\"Iteration {step + 1}\")\n",
        "    plt.show()\n",
        "\n",
        "print(\"Final Centroids:\", centroids)\n"
      ]
    },
    {
      "cell_type": "markdown",
      "source": [
        "\n",
        "### Hard vs. Soft Clustering:\n",
        "\n",
        "**1. Definition:**\n",
        "- **Hard Clustering:** In this approach, each data point either belongs to a cluster completely or not. There's a clear-cut boundary, and every point belongs to one and only one cluster.\n",
        "  - **Example:** In k-means clustering, each point is assigned to the nearest centroid, and it exclusively belongs to that one cluster.\n",
        "\n",
        "- **Soft (or Fuzzy) Clustering:** Here, instead of putting each data point into a separate cluster, a probability or likelihood of that data point to be in those clusters is assigned. Each point can belong to multiple clusters with varying degrees of membership.\n",
        "  - **Example:** Fuzzy C-Means clustering works on the principle of soft clustering. Each point has a degree of belonging to clusters, rather than belonging completely to one cluster.\n",
        "\n",
        "**2. Use Cases:**\n",
        "- **Hard Clustering:** Useful when the dataset has distinct separations, and there's a clear demarcation among the clusters.\n",
        "- **Soft Clustering:** Useful when the structure of the data is overlapping, and it's essential to understand the degree of association rather than forcing an either-or categorization.\n",
        "\n",
        "**3. Flexibility & Interpretability:**\n",
        "- **Hard Clustering:** Easier to interpret as every data point is definitively categorized. However, it might not capture the nuances in more complex datasets.\n",
        "- **Soft Clustering:** Offers more flexibility in representing the uncertainty of cluster assignments but can be more challenging to interpret due to the probabilistic nature of assignments.\n",
        "\n",
        "\n",
        "In essence, the choice between hard and soft clustering often depends on the nature of your data and the specific problem you're trying to solve. Some scenarios clearly demand crisp boundaries (hard clustering), while others benefit from a more nuanced, probabilistic approach (soft clustering)."
      ],
      "metadata": {
        "id": "GaIjEf5qi5qf"
      }
    }
  ]
}