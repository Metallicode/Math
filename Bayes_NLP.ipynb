{
  "nbformat": 4,
  "nbformat_minor": 0,
  "metadata": {
    "colab": {
      "provenance": [],
      "authorship_tag": "ABX9TyNRdpAX40/Esa632UUYHFj/",
      "include_colab_link": true
    },
    "kernelspec": {
      "name": "python3",
      "display_name": "Python 3"
    },
    "language_info": {
      "name": "python"
    }
  },
  "cells": [
    {
      "cell_type": "markdown",
      "metadata": {
        "id": "view-in-github",
        "colab_type": "text"
      },
      "source": [
        "<a href=\"https://colab.research.google.com/github/Metallicode/Math/blob/main/Bayes_NLP.ipynb\" target=\"_parent\"><img src=\"https://colab.research.google.com/assets/colab-badge.svg\" alt=\"Open In Colab\"/></a>"
      ]
    },
    {
      "cell_type": "markdown",
      "source": [
        "##Simple Naive Bayes classifier"
      ],
      "metadata": {
        "id": "lQnsRrW_4kon"
      }
    },
    {
      "cell_type": "code",
      "execution_count": 1,
      "metadata": {
        "id": "3Svv_5nx4Rvy"
      },
      "outputs": [],
      "source": [
        "import numpy as np\n",
        "import pandas as pd\n",
        "import matplotlib.pyplot as plt\n",
        "import seaborn as sns"
      ]
    },
    {
      "cell_type": "code",
      "source": [
        "df = pd.read_csv(\"O_movies_reviews.csv\")"
      ],
      "metadata": {
        "id": "LtA87dRq604w"
      },
      "execution_count": 79,
      "outputs": []
    },
    {
      "cell_type": "code",
      "source": [
        "df.head()"
      ],
      "metadata": {
        "colab": {
          "base_uri": "https://localhost:8080/",
          "height": 236
        },
        "id": "pMs2oiJ27GZe",
        "outputId": "98342a43-cedd-4972-f96e-bea00c744ac8"
      },
      "execution_count": 80,
      "outputs": [
        {
          "output_type": "execute_result",
          "data": {
            "text/plain": [
              "                                              Review  Label\n",
              "0                 The plot was dull and predictable.      0\n",
              "1        The cinematography was absolutely stunning!      1\n",
              "2  Terrible acting and poor direction ruined the ...      0\n",
              "3  The lead actor's performance was breathtaking ...      1\n",
              "4        I wasted two hours of my life on this film.      0"
            ],
            "text/html": [
              "\n",
              "  <div id=\"df-fa055d17-2aae-4486-b9c6-fac7813c3c68\" class=\"colab-df-container\">\n",
              "    <div>\n",
              "<style scoped>\n",
              "    .dataframe tbody tr th:only-of-type {\n",
              "        vertical-align: middle;\n",
              "    }\n",
              "\n",
              "    .dataframe tbody tr th {\n",
              "        vertical-align: top;\n",
              "    }\n",
              "\n",
              "    .dataframe thead th {\n",
              "        text-align: right;\n",
              "    }\n",
              "</style>\n",
              "<table border=\"1\" class=\"dataframe\">\n",
              "  <thead>\n",
              "    <tr style=\"text-align: right;\">\n",
              "      <th></th>\n",
              "      <th>Review</th>\n",
              "      <th>Label</th>\n",
              "    </tr>\n",
              "  </thead>\n",
              "  <tbody>\n",
              "    <tr>\n",
              "      <th>0</th>\n",
              "      <td>The plot was dull and predictable.</td>\n",
              "      <td>0</td>\n",
              "    </tr>\n",
              "    <tr>\n",
              "      <th>1</th>\n",
              "      <td>The cinematography was absolutely stunning!</td>\n",
              "      <td>1</td>\n",
              "    </tr>\n",
              "    <tr>\n",
              "      <th>2</th>\n",
              "      <td>Terrible acting and poor direction ruined the ...</td>\n",
              "      <td>0</td>\n",
              "    </tr>\n",
              "    <tr>\n",
              "      <th>3</th>\n",
              "      <td>The lead actor's performance was breathtaking ...</td>\n",
              "      <td>1</td>\n",
              "    </tr>\n",
              "    <tr>\n",
              "      <th>4</th>\n",
              "      <td>I wasted two hours of my life on this film.</td>\n",
              "      <td>0</td>\n",
              "    </tr>\n",
              "  </tbody>\n",
              "</table>\n",
              "</div>\n",
              "    <div class=\"colab-df-buttons\">\n",
              "\n",
              "  <div class=\"colab-df-container\">\n",
              "    <button class=\"colab-df-convert\" onclick=\"convertToInteractive('df-fa055d17-2aae-4486-b9c6-fac7813c3c68')\"\n",
              "            title=\"Convert this dataframe to an interactive table.\"\n",
              "            style=\"display:none;\">\n",
              "\n",
              "  <svg xmlns=\"http://www.w3.org/2000/svg\" height=\"24px\" viewBox=\"0 -960 960 960\">\n",
              "    <path d=\"M120-120v-720h720v720H120Zm60-500h600v-160H180v160Zm220 220h160v-160H400v160Zm0 220h160v-160H400v160ZM180-400h160v-160H180v160Zm440 0h160v-160H620v160ZM180-180h160v-160H180v160Zm440 0h160v-160H620v160Z\"/>\n",
              "  </svg>\n",
              "    </button>\n",
              "\n",
              "  <style>\n",
              "    .colab-df-container {\n",
              "      display:flex;\n",
              "      gap: 12px;\n",
              "    }\n",
              "\n",
              "    .colab-df-convert {\n",
              "      background-color: #E8F0FE;\n",
              "      border: none;\n",
              "      border-radius: 50%;\n",
              "      cursor: pointer;\n",
              "      display: none;\n",
              "      fill: #1967D2;\n",
              "      height: 32px;\n",
              "      padding: 0 0 0 0;\n",
              "      width: 32px;\n",
              "    }\n",
              "\n",
              "    .colab-df-convert:hover {\n",
              "      background-color: #E2EBFA;\n",
              "      box-shadow: 0px 1px 2px rgba(60, 64, 67, 0.3), 0px 1px 3px 1px rgba(60, 64, 67, 0.15);\n",
              "      fill: #174EA6;\n",
              "    }\n",
              "\n",
              "    .colab-df-buttons div {\n",
              "      margin-bottom: 4px;\n",
              "    }\n",
              "\n",
              "    [theme=dark] .colab-df-convert {\n",
              "      background-color: #3B4455;\n",
              "      fill: #D2E3FC;\n",
              "    }\n",
              "\n",
              "    [theme=dark] .colab-df-convert:hover {\n",
              "      background-color: #434B5C;\n",
              "      box-shadow: 0px 1px 3px 1px rgba(0, 0, 0, 0.15);\n",
              "      filter: drop-shadow(0px 1px 2px rgba(0, 0, 0, 0.3));\n",
              "      fill: #FFFFFF;\n",
              "    }\n",
              "  </style>\n",
              "\n",
              "    <script>\n",
              "      const buttonEl =\n",
              "        document.querySelector('#df-fa055d17-2aae-4486-b9c6-fac7813c3c68 button.colab-df-convert');\n",
              "      buttonEl.style.display =\n",
              "        google.colab.kernel.accessAllowed ? 'block' : 'none';\n",
              "\n",
              "      async function convertToInteractive(key) {\n",
              "        const element = document.querySelector('#df-fa055d17-2aae-4486-b9c6-fac7813c3c68');\n",
              "        const dataTable =\n",
              "          await google.colab.kernel.invokeFunction('convertToInteractive',\n",
              "                                                    [key], {});\n",
              "        if (!dataTable) return;\n",
              "\n",
              "        const docLinkHtml = 'Like what you see? Visit the ' +\n",
              "          '<a target=\"_blank\" href=https://colab.research.google.com/notebooks/data_table.ipynb>data table notebook</a>'\n",
              "          + ' to learn more about interactive tables.';\n",
              "        element.innerHTML = '';\n",
              "        dataTable['output_type'] = 'display_data';\n",
              "        await google.colab.output.renderOutput(dataTable, element);\n",
              "        const docLink = document.createElement('div');\n",
              "        docLink.innerHTML = docLinkHtml;\n",
              "        element.appendChild(docLink);\n",
              "      }\n",
              "    </script>\n",
              "  </div>\n",
              "\n",
              "\n",
              "<div id=\"df-48c2a821-90a7-4a37-a5a4-36d6946e7df7\">\n",
              "  <button class=\"colab-df-quickchart\" onclick=\"quickchart('df-48c2a821-90a7-4a37-a5a4-36d6946e7df7')\"\n",
              "            title=\"Suggest charts.\"\n",
              "            style=\"display:none;\">\n",
              "\n",
              "<svg xmlns=\"http://www.w3.org/2000/svg\" height=\"24px\"viewBox=\"0 0 24 24\"\n",
              "     width=\"24px\">\n",
              "    <g>\n",
              "        <path d=\"M19 3H5c-1.1 0-2 .9-2 2v14c0 1.1.9 2 2 2h14c1.1 0 2-.9 2-2V5c0-1.1-.9-2-2-2zM9 17H7v-7h2v7zm4 0h-2V7h2v10zm4 0h-2v-4h2v4z\"/>\n",
              "    </g>\n",
              "</svg>\n",
              "  </button>\n",
              "\n",
              "<style>\n",
              "  .colab-df-quickchart {\n",
              "      --bg-color: #E8F0FE;\n",
              "      --fill-color: #1967D2;\n",
              "      --hover-bg-color: #E2EBFA;\n",
              "      --hover-fill-color: #174EA6;\n",
              "      --disabled-fill-color: #AAA;\n",
              "      --disabled-bg-color: #DDD;\n",
              "  }\n",
              "\n",
              "  [theme=dark] .colab-df-quickchart {\n",
              "      --bg-color: #3B4455;\n",
              "      --fill-color: #D2E3FC;\n",
              "      --hover-bg-color: #434B5C;\n",
              "      --hover-fill-color: #FFFFFF;\n",
              "      --disabled-bg-color: #3B4455;\n",
              "      --disabled-fill-color: #666;\n",
              "  }\n",
              "\n",
              "  .colab-df-quickchart {\n",
              "    background-color: var(--bg-color);\n",
              "    border: none;\n",
              "    border-radius: 50%;\n",
              "    cursor: pointer;\n",
              "    display: none;\n",
              "    fill: var(--fill-color);\n",
              "    height: 32px;\n",
              "    padding: 0;\n",
              "    width: 32px;\n",
              "  }\n",
              "\n",
              "  .colab-df-quickchart:hover {\n",
              "    background-color: var(--hover-bg-color);\n",
              "    box-shadow: 0 1px 2px rgba(60, 64, 67, 0.3), 0 1px 3px 1px rgba(60, 64, 67, 0.15);\n",
              "    fill: var(--button-hover-fill-color);\n",
              "  }\n",
              "\n",
              "  .colab-df-quickchart-complete:disabled,\n",
              "  .colab-df-quickchart-complete:disabled:hover {\n",
              "    background-color: var(--disabled-bg-color);\n",
              "    fill: var(--disabled-fill-color);\n",
              "    box-shadow: none;\n",
              "  }\n",
              "\n",
              "  .colab-df-spinner {\n",
              "    border: 2px solid var(--fill-color);\n",
              "    border-color: transparent;\n",
              "    border-bottom-color: var(--fill-color);\n",
              "    animation:\n",
              "      spin 1s steps(1) infinite;\n",
              "  }\n",
              "\n",
              "  @keyframes spin {\n",
              "    0% {\n",
              "      border-color: transparent;\n",
              "      border-bottom-color: var(--fill-color);\n",
              "      border-left-color: var(--fill-color);\n",
              "    }\n",
              "    20% {\n",
              "      border-color: transparent;\n",
              "      border-left-color: var(--fill-color);\n",
              "      border-top-color: var(--fill-color);\n",
              "    }\n",
              "    30% {\n",
              "      border-color: transparent;\n",
              "      border-left-color: var(--fill-color);\n",
              "      border-top-color: var(--fill-color);\n",
              "      border-right-color: var(--fill-color);\n",
              "    }\n",
              "    40% {\n",
              "      border-color: transparent;\n",
              "      border-right-color: var(--fill-color);\n",
              "      border-top-color: var(--fill-color);\n",
              "    }\n",
              "    60% {\n",
              "      border-color: transparent;\n",
              "      border-right-color: var(--fill-color);\n",
              "    }\n",
              "    80% {\n",
              "      border-color: transparent;\n",
              "      border-right-color: var(--fill-color);\n",
              "      border-bottom-color: var(--fill-color);\n",
              "    }\n",
              "    90% {\n",
              "      border-color: transparent;\n",
              "      border-bottom-color: var(--fill-color);\n",
              "    }\n",
              "  }\n",
              "</style>\n",
              "\n",
              "  <script>\n",
              "    async function quickchart(key) {\n",
              "      const quickchartButtonEl =\n",
              "        document.querySelector('#' + key + ' button');\n",
              "      quickchartButtonEl.disabled = true;  // To prevent multiple clicks.\n",
              "      quickchartButtonEl.classList.add('colab-df-spinner');\n",
              "      try {\n",
              "        const charts = await google.colab.kernel.invokeFunction(\n",
              "            'suggestCharts', [key], {});\n",
              "      } catch (error) {\n",
              "        console.error('Error during call to suggestCharts:', error);\n",
              "      }\n",
              "      quickchartButtonEl.classList.remove('colab-df-spinner');\n",
              "      quickchartButtonEl.classList.add('colab-df-quickchart-complete');\n",
              "    }\n",
              "    (() => {\n",
              "      let quickchartButtonEl =\n",
              "        document.querySelector('#df-48c2a821-90a7-4a37-a5a4-36d6946e7df7 button');\n",
              "      quickchartButtonEl.style.display =\n",
              "        google.colab.kernel.accessAllowed ? 'block' : 'none';\n",
              "    })();\n",
              "  </script>\n",
              "</div>\n",
              "    </div>\n",
              "  </div>\n"
            ]
          },
          "metadata": {},
          "execution_count": 80
        }
      ]
    },
    {
      "cell_type": "code",
      "source": [
        "X = df['Review']\n",
        "y = df[\"Label\"]"
      ],
      "metadata": {
        "id": "LHPsdV6agUju"
      },
      "execution_count": 81,
      "outputs": []
    },
    {
      "cell_type": "markdown",
      "source": [
        "##Create Probability for Each Class"
      ],
      "metadata": {
        "id": "9LKl_uNz7-lm"
      }
    },
    {
      "cell_type": "code",
      "source": [
        "total_documents = y.count()\n",
        "total_documents"
      ],
      "metadata": {
        "colab": {
          "base_uri": "https://localhost:8080/"
        },
        "id": "u1WpnF-_9D0P",
        "outputId": "f9cefd55-5542-4375-b0da-339e259403f9"
      },
      "execution_count": 82,
      "outputs": [
        {
          "output_type": "execute_result",
          "data": {
            "text/plain": [
              "33"
            ]
          },
          "metadata": {},
          "execution_count": 82
        }
      ]
    },
    {
      "cell_type": "code",
      "source": [
        "y.value_counts()"
      ],
      "metadata": {
        "colab": {
          "base_uri": "https://localhost:8080/"
        },
        "id": "9yW2DaDf7G0P",
        "outputId": "b2d1072b-c447-4988-8c78-ddcdd4af1f31"
      },
      "execution_count": 83,
      "outputs": [
        {
          "output_type": "execute_result",
          "data": {
            "text/plain": [
              "0    18\n",
              "1    15\n",
              "Name: Label, dtype: int64"
            ]
          },
          "metadata": {},
          "execution_count": 83
        }
      ]
    },
    {
      "cell_type": "code",
      "source": [
        "n_bad_reviews = y.value_counts()[0]\n",
        "n_good_reviews = y.value_counts()[1]\n",
        "n_bad_reviews,n_good_reviews"
      ],
      "metadata": {
        "colab": {
          "base_uri": "https://localhost:8080/"
        },
        "id": "CP4fjbfp8PCC",
        "outputId": "2c3e4fc5-46f1-4e3a-8f3b-0bd5dd19bafd"
      },
      "execution_count": 84,
      "outputs": [
        {
          "output_type": "execute_result",
          "data": {
            "text/plain": [
              "(18, 15)"
            ]
          },
          "metadata": {},
          "execution_count": 84
        }
      ]
    },
    {
      "cell_type": "code",
      "source": [
        "prob_good_review = n_good_reviews/total_documents\n",
        "prob_bad_review = n_bad_reviews/total_documents\n",
        "prob_good_review,prob_bad_review"
      ],
      "metadata": {
        "colab": {
          "base_uri": "https://localhost:8080/"
        },
        "id": "HX61nDST9ojm",
        "outputId": "f52f2915-8807-4c22-e049-b48a3564ccdb"
      },
      "execution_count": 85,
      "outputs": [
        {
          "output_type": "execute_result",
          "data": {
            "text/plain": [
              "(0.45454545454545453, 0.5454545454545454)"
            ]
          },
          "metadata": {},
          "execution_count": 85
        }
      ]
    },
    {
      "cell_type": "markdown",
      "source": [
        "##Create Vocabulary"
      ],
      "metadata": {
        "id": "gQQhyWfk-QtH"
      }
    },
    {
      "cell_type": "code",
      "source": [
        "vocabulary = set()\n",
        "\n",
        "for sentence in X:\n",
        "    for word in sentence.split():\n",
        "        vocabulary.add(word.lower().strip('.,!?'))  # Added .lower() to ensure case-insensitivity\n",
        "\n",
        "vocabulary"
      ],
      "metadata": {
        "id": "5bzWzVH496Cr"
      },
      "execution_count": null,
      "outputs": []
    },
    {
      "cell_type": "markdown",
      "source": [
        "##Count Vectorization"
      ],
      "metadata": {
        "id": "0TyO7Z_yAAmv"
      }
    },
    {
      "cell_type": "code",
      "source": [
        "##add alpha smoothing parameter\n",
        "alpha = 1 #larger alpha values create more \"smoothing\"\n",
        "good_reviews_word_freq = { word: alpha for word in vocabulary }\n",
        "bad_reviews_word_freq = { word: alpha for word in vocabulary }"
      ],
      "metadata": {
        "id": "xSCTxLzLDkmo"
      },
      "execution_count": 88,
      "outputs": []
    },
    {
      "cell_type": "code",
      "source": [
        "for review in df[y==1].values:\n",
        "  for word in review[0].split():\n",
        "    good_reviews_word_freq[word.lower().strip('.,!?')] += 1\n",
        "\n",
        "#good_reviews_word_freq"
      ],
      "metadata": {
        "id": "WmeWgI8vD56y"
      },
      "execution_count": 89,
      "outputs": []
    },
    {
      "cell_type": "code",
      "source": [
        "for review in df[y==0].values:\n",
        "  for word in review[0].split():\n",
        "    bad_reviews_word_freq[word.lower().strip('.,!?')] += 1\n",
        "\n",
        "#bad_reviews_word_freq"
      ],
      "metadata": {
        "id": "8Y5PvsWqFC4W"
      },
      "execution_count": 90,
      "outputs": []
    },
    {
      "cell_type": "markdown",
      "source": [
        "##Prediction Function"
      ],
      "metadata": {
        "id": "amYIU44yJH4g"
      }
    },
    {
      "cell_type": "code",
      "source": [
        "def Predict(new_review):\n",
        "  good_probs = [prob_good_review]\n",
        "  bad_probs = [prob_bad_review]\n",
        "\n",
        "  for token in new_review:\n",
        "    t = token.lower().strip('.,!?')\n",
        "    if t in vocabulary:\n",
        "      good_probs.append(good_reviews_word_freq[t]/n_good_reviews)\n",
        "      bad_probs.append(bad_reviews_word_freq[t]/n_bad_reviews)\n",
        "\n",
        "  P_GOOD_REVIEW = np.prod(good_probs)\n",
        "  P_BAD_REVIEW = np.prod(bad_probs)\n",
        "  print(\"prob this was a good review:\\t\", P_GOOD_REVIEW)\n",
        "  print(\"prob this was a bad review:\\t\", P_BAD_REVIEW)"
      ],
      "metadata": {
        "id": "_R7cLbuzJNtl"
      },
      "execution_count": 91,
      "outputs": []
    },
    {
      "cell_type": "code",
      "source": [
        "Predict(\"this movie was bad\")"
      ],
      "metadata": {
        "colab": {
          "base_uri": "https://localhost:8080/"
        },
        "id": "BSjiKxg6LpVw",
        "outputId": "4f43e9c8-c3ec-4381-d0f0-8430504bdaad"
      },
      "execution_count": 92,
      "outputs": [
        {
          "output_type": "stream",
          "name": "stdout",
          "text": [
            "prob this was a good review:\t 0.0007272727272727274\n",
            "prob this was a bad review:\t 0.006734006734006733\n"
          ]
        }
      ]
    },
    {
      "cell_type": "markdown",
      "source": [
        "##TF-IDF"
      ],
      "metadata": {
        "id": "dg8HA_uHXjf2"
      }
    },
    {
      "cell_type": "markdown",
      "source": [
        "Term Frequency-Inverse Document Frequency. It's a statistical measure that indicates the importance of a word in a document relative to a collection of documents, called a corpus. The idea is to weigh terms based on how frequently they appear in a specific document, but also penalize those terms that appear frequently in the entire corpus, as they might not carry much meaningful information (e.g., terms like \"and\", \"is\", \"the\").\n",
        "\n"
      ],
      "metadata": {
        "id": "mBLViqkfXiDu"
      }
    },
    {
      "cell_type": "markdown",
      "source": [
        "##Term Frequency (TF)"
      ],
      "metadata": {
        "id": "nhQ2Ll-JYfZD"
      }
    },
    {
      "cell_type": "markdown",
      "source": [
        "This represents the frequency of a term in a document. It can be calculated as\n",
        "\n",
        "```\n",
        "TF(t,d) = Number of times term t appears in document d   /   Total number of terms in document d\n",
        "\n",
        "```\n",
        "\n"
      ],
      "metadata": {
        "id": "sJ8cfdzTYkiR"
      }
    },
    {
      "cell_type": "markdown",
      "source": [
        "##Inverse Document Frequency (IDF)"
      ],
      "metadata": {
        "id": "_5kSITgrefmV"
      }
    },
    {
      "cell_type": "markdown",
      "source": [
        "This represents the importance of the term in the entire corpus. It can be calculated as\n",
        "\n",
        "```\n",
        "IDF(t,D) = log(Total number of documents in corpus D / Number of documents where term t appears)\n",
        "```\n",
        "\n"
      ],
      "metadata": {
        "id": "5DWPF87RecGZ"
      }
    },
    {
      "cell_type": "markdown",
      "source": [
        "##TF-IDF score"
      ],
      "metadata": {
        "id": "GqD7_VCsfGMr"
      }
    },
    {
      "cell_type": "markdown",
      "source": [
        "```\n",
        "TF_IDF(t,d,D)=TF(t,d)*IDF(t,D)\n",
        "```"
      ],
      "metadata": {
        "id": "09JPw5hDfNt8"
      }
    },
    {
      "cell_type": "markdown",
      "source": [
        "##Using sklearn TfidfVectorizer"
      ],
      "metadata": {
        "id": "IGWtKC11fqyU"
      }
    },
    {
      "cell_type": "code",
      "source": [
        "from sklearn.feature_extraction.text import TfidfVectorizer"
      ],
      "metadata": {
        "id": "OCa6ijhhNScb"
      },
      "execution_count": 93,
      "outputs": []
    },
    {
      "cell_type": "code",
      "source": [
        "vectorizer = TfidfVectorizer()\n",
        "X = vectorizer.fit_transform(X)"
      ],
      "metadata": {
        "id": "Z1j2ylNif6pB"
      },
      "execution_count": 94,
      "outputs": []
    },
    {
      "cell_type": "code",
      "source": [
        "#print(X) ##sparse matrix type\n",
        "print(X.toarray())"
      ],
      "metadata": {
        "colab": {
          "base_uri": "https://localhost:8080/"
        },
        "id": "5SZ8Z1uMhDY7",
        "outputId": "d0912e41-6640-4c0d-90ef-6061eb18a1a6"
      },
      "execution_count": 97,
      "outputs": [
        {
          "output_type": "stream",
          "name": "stdout",
          "text": [
            "[[0.         0.         0.         ... 0.         0.         0.        ]\n",
            " [0.         0.52468318 0.         ... 0.         0.         0.        ]\n",
            " [0.         0.         0.39648826 ... 0.         0.         0.        ]\n",
            " ...\n",
            " [0.         0.         0.         ... 0.         0.         0.        ]\n",
            " [0.         0.         0.         ... 0.         0.         0.        ]\n",
            " [0.         0.         0.         ... 0.         0.         0.        ]]\n"
          ]
        }
      ]
    },
    {
      "cell_type": "code",
      "source": [],
      "metadata": {
        "id": "vsArVyZVhMJY"
      },
      "execution_count": null,
      "outputs": []
    }
  ]
}