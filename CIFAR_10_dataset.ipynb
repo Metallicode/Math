{
  "nbformat": 4,
  "nbformat_minor": 0,
  "metadata": {
    "colab": {
      "provenance": [],
      "authorship_tag": "ABX9TyMON5iOY27RCoxl4wxKWvF4",
      "include_colab_link": true
    },
    "kernelspec": {
      "name": "python3",
      "display_name": "Python 3"
    },
    "language_info": {
      "name": "python"
    }
  },
  "cells": [
    {
      "cell_type": "markdown",
      "metadata": {
        "id": "view-in-github",
        "colab_type": "text"
      },
      "source": [
        "<a href=\"https://colab.research.google.com/github/Metallicode/Math/blob/main/CIFAR_10_dataset.ipynb\" target=\"_parent\"><img src=\"https://colab.research.google.com/assets/colab-badge.svg\" alt=\"Open In Colab\"/></a>"
      ]
    },
    {
      "cell_type": "markdown",
      "source": [
        "##CIFAR-10 dataset\n",
        "\n",
        "[CIFAR Website](https://www.cs.toronto.edu/~kriz/cifar.html)"
      ],
      "metadata": {
        "id": "C_JxgPnu22g6"
      }
    },
    {
      "cell_type": "markdown",
      "source": [
        "0. airplane\n",
        "1. automobile\n",
        "2. bird\n",
        "3. cat\n",
        "4. deer\n",
        "5. dog\n",
        "6. frog\n",
        "7. horse\n",
        "8. ship\n",
        "9. truck\n",
        "\n",
        "\n"
      ],
      "metadata": {
        "id": "pPdU9T5SyVso"
      }
    },
    {
      "cell_type": "code",
      "execution_count": 36,
      "metadata": {
        "id": "eHlxFZi-1cQY"
      },
      "outputs": [],
      "source": [
        "import numpy as np\n",
        "import pandas as pd\n",
        "import matplotlib.pyplot as plt\n",
        "import seaborn as sns"
      ]
    },
    {
      "cell_type": "code",
      "source": [
        "from tensorflow.keras.datasets import cifar10"
      ],
      "metadata": {
        "id": "B8Ez2i9z3fM7"
      },
      "execution_count": 2,
      "outputs": []
    },
    {
      "cell_type": "code",
      "source": [
        "(X_train, y_train), (X_test, y_test) = cifar10.load_data()"
      ],
      "metadata": {
        "colab": {
          "base_uri": "https://localhost:8080/"
        },
        "id": "wz9ksCGe3uMp",
        "outputId": "4846a8cf-7a7a-4d9e-8730-59e4e796388b"
      },
      "execution_count": 3,
      "outputs": [
        {
          "output_type": "stream",
          "name": "stdout",
          "text": [
            "Downloading data from https://www.cs.toronto.edu/~kriz/cifar-10-python.tar.gz\n",
            "170498071/170498071 [==============================] - 2s 0us/step\n"
          ]
        }
      ]
    },
    {
      "cell_type": "code",
      "source": [
        "X_train.shape"
      ],
      "metadata": {
        "colab": {
          "base_uri": "https://localhost:8080/"
        },
        "id": "pWfpciI34Xkg",
        "outputId": "2343cb79-70a8-444d-bcc6-b892bf5d9ab4"
      },
      "execution_count": 4,
      "outputs": [
        {
          "output_type": "execute_result",
          "data": {
            "text/plain": [
              "(50000, 32, 32, 3)"
            ]
          },
          "metadata": {},
          "execution_count": 4
        }
      ]
    },
    {
      "cell_type": "code",
      "source": [
        "plt.imshow(X_train[400])"
      ],
      "metadata": {
        "colab": {
          "base_uri": "https://localhost:8080/",
          "height": 453
        },
        "id": "s09kNp5b4Yei",
        "outputId": "b4783cde-6bb3-4d30-a4b4-3be1435671cf"
      },
      "execution_count": 5,
      "outputs": [
        {
          "output_type": "execute_result",
          "data": {
            "text/plain": [
              "<matplotlib.image.AxesImage at 0x7d70e4c63700>"
            ]
          },
          "metadata": {},
          "execution_count": 5
        },
        {
          "output_type": "display_data",
          "data": {
            "text/plain": [
              "<Figure size 640x480 with 1 Axes>"
            ],
            "image/png": "[encoded data removed]"
          },
          "metadata": {}
        }
      ]
    },
    {
      "cell_type": "markdown",
      "source": [
        "##Scale"
      ],
      "metadata": {
        "id": "FDQUZE6Z5ADB"
      }
    },
    {
      "cell_type": "code",
      "source": [
        "X_train = X_train/255"
      ],
      "metadata": {
        "id": "9JZgF-V05vhZ"
      },
      "execution_count": 6,
      "outputs": []
    },
    {
      "cell_type": "code",
      "source": [
        "X_test = X_test/255"
      ],
      "metadata": {
        "id": "FfQGWtc04axL"
      },
      "execution_count": 7,
      "outputs": []
    },
    {
      "cell_type": "markdown",
      "source": [
        "##Transpose y to categorical"
      ],
      "metadata": {
        "id": "tY7aGXWW6Sj9"
      }
    },
    {
      "cell_type": "code",
      "source": [
        "from tensorflow.keras.utils import to_categorical"
      ],
      "metadata": {
        "id": "sKU_NoF36bvE"
      },
      "execution_count": 8,
      "outputs": []
    },
    {
      "cell_type": "code",
      "source": [
        "y_categorical_train = to_categorical(y_train, num_classes=10)\n",
        "y_categorical_test = to_categorical(y_test, num_classes=10)"
      ],
      "metadata": {
        "id": "5qFXmkKi615l"
      },
      "execution_count": 9,
      "outputs": []
    },
    {
      "cell_type": "markdown",
      "source": [
        "##Create and compile Model"
      ],
      "metadata": {
        "id": "xuhmt8ep8Zy6"
      }
    },
    {
      "cell_type": "code",
      "source": [
        "from tensorflow.keras.models import Sequential\n",
        "from tensorflow.keras.layers import Dense, Conv2D, Flatten, MaxPool2D"
      ],
      "metadata": {
        "id": "XoS5f6cT8eF-"
      },
      "execution_count": 10,
      "outputs": []
    },
    {
      "cell_type": "code",
      "source": [
        "model = Sequential()"
      ],
      "metadata": {
        "id": "Oic0FUWq9J3Q"
      },
      "execution_count": 11,
      "outputs": []
    },
    {
      "cell_type": "code",
      "source": [
        "X_test.shape"
      ],
      "metadata": {
        "colab": {
          "base_uri": "https://localhost:8080/"
        },
        "id": "mAQAe6bu9Tpp",
        "outputId": "415d16b7-f67d-4aa9-cae5-ff9bba61cf7e"
      },
      "execution_count": 12,
      "outputs": [
        {
          "output_type": "execute_result",
          "data": {
            "text/plain": [
              "(10000, 32, 32, 3)"
            ]
          },
          "metadata": {},
          "execution_count": 12
        }
      ]
    },
    {
      "cell_type": "code",
      "source": [
        "model.add(Conv2D(activation=\"relu\",\n",
        "                 filters=32,\n",
        "                 kernel_size=(4,4),\n",
        "                 input_shape=(32,32,3)))\n",
        "\n",
        "model.add(MaxPool2D(pool_size=(2,2)))\n",
        "\n",
        "model.add(Conv2D(activation=\"relu\",\n",
        "                 filters=32,\n",
        "                 kernel_size=(4,4),\n",
        "                 input_shape=(32,32,3)))\n",
        "\n",
        "model.add(MaxPool2D(pool_size=(2,2)))\n",
        "\n",
        "model.add(Flatten())\n",
        "\n",
        "model.add(Dense(256,activation=\"relu\"))\n",
        "\n",
        "model.add(Dense(10,activation=\"softmax\"))"
      ],
      "metadata": {
        "id": "aw1taSQI9OQ3"
      },
      "execution_count": 13,
      "outputs": []
    },
    {
      "cell_type": "code",
      "source": [
        "model.compile(optimizer='adam',\n",
        "              loss='categorical_crossentropy',\n",
        "              metrics=['accuracy'])"
      ],
      "metadata": {
        "id": "h1_RKeMgmEbh"
      },
      "execution_count": 14,
      "outputs": []
    },
    {
      "cell_type": "code",
      "source": [
        "from tensorflow.keras.callbacks import EarlyStopping"
      ],
      "metadata": {
        "id": "tSi12wXfnFcJ"
      },
      "execution_count": 15,
      "outputs": []
    },
    {
      "cell_type": "code",
      "source": [
        "callback = EarlyStopping()"
      ],
      "metadata": {
        "id": "4hdgVdp9nNY9"
      },
      "execution_count": 16,
      "outputs": []
    },
    {
      "cell_type": "code",
      "source": [
        "model.fit(X_train,\n",
        "          y_categorical_train,\n",
        "          epochs=15,\n",
        "          validation_data=(X_test, y_categorical_test),\n",
        "          callbacks=[callback])"
      ],
      "metadata": {
        "colab": {
          "base_uri": "https://localhost:8080/"
        },
        "id": "H26fr-ZTnPyM",
        "outputId": "42bbd91c-48b7-42d5-baa7-a6100979ad6e"
      },
      "execution_count": 19,
      "outputs": [
        {
          "output_type": "stream",
          "name": "stdout",
          "text": [
            "Epoch 1/15\n",
            "1563/1563 [==============================] - 66s 42ms/step - loss: 1.3900 - accuracy: 0.5010 - val_loss: 1.2472 - val_accuracy: 0.5560\n",
            "Epoch 2/15\n",
            "1563/1563 [==============================] - 65s 41ms/step - loss: 1.1178 - accuracy: 0.6072 - val_loss: 1.0890 - val_accuracy: 0.6148\n",
            "Epoch 3/15\n",
            "1563/1563 [==============================] - 64s 41ms/step - loss: 0.9725 - accuracy: 0.6612 - val_loss: 0.9958 - val_accuracy: 0.6543\n",
            "Epoch 4/15\n",
            "1563/1563 [==============================] - 61s 39ms/step - loss: 0.8648 - accuracy: 0.6990 - val_loss: 0.9540 - val_accuracy: 0.6761\n",
            "Epoch 5/15\n",
            "1563/1563 [==============================] - 61s 39ms/step - loss: 0.7746 - accuracy: 0.7284 - val_loss: 0.9845 - val_accuracy: 0.6640\n"
          ]
        },
        {
          "output_type": "execute_result",
          "data": {
            "text/plain": [
              "<keras.src.callbacks.History at 0x7d70e0c7ee30>"
            ]
          },
          "metadata": {},
          "execution_count": 19
        }
      ]
    },
    {
      "cell_type": "code",
      "source": [
        "model.evaluate(X_test, y_categorical_test)"
      ],
      "metadata": {
        "colab": {
          "base_uri": "https://localhost:8080/"
        },
        "id": "ktOyelKdnR_f",
        "outputId": "f0fbbe35-65ad-40ca-dc0e-2f4ecaa22fc9"
      },
      "execution_count": 20,
      "outputs": [
        {
          "output_type": "stream",
          "name": "stdout",
          "text": [
            "313/313 [==============================] - 3s 10ms/step - loss: 0.9845 - accuracy: 0.6640\n"
          ]
        },
        {
          "output_type": "execute_result",
          "data": {
            "text/plain": [
              "[0.9845255017280579, 0.6639999747276306]"
            ]
          },
          "metadata": {},
          "execution_count": 20
        }
      ]
    },
    {
      "cell_type": "code",
      "source": [
        "preds = model.predict(X_test)"
      ],
      "metadata": {
        "colab": {
          "base_uri": "https://localhost:8080/"
        },
        "id": "wG1g5SKWsWrl",
        "outputId": "73c91aca-3550-4496-920d-145adde36698"
      },
      "execution_count": 27,
      "outputs": [
        {
          "output_type": "stream",
          "name": "stdout",
          "text": [
            "313/313 [==============================] - 4s 12ms/step\n"
          ]
        }
      ]
    },
    {
      "cell_type": "code",
      "source": [
        "from sklearn.metrics import classification_report, confusion_matrix"
      ],
      "metadata": {
        "id": "oKj1WepRrE7W"
      },
      "execution_count": 28,
      "outputs": []
    },
    {
      "cell_type": "code",
      "source": [
        "print(classification_report(y_test, preds))"
      ],
      "metadata": {
        "id": "1qwNLLwpsO25"
      },
      "execution_count": null,
      "outputs": []
    },
    {
      "cell_type": "code",
      "source": [
        "y_test.shape"
      ],
      "metadata": {
        "colab": {
          "base_uri": "https://localhost:8080/"
        },
        "id": "jEPcrEFRtt1t",
        "outputId": "6e248751-fd92-43dc-b85d-7c92ae6f935d"
      },
      "execution_count": 32,
      "outputs": [
        {
          "output_type": "execute_result",
          "data": {
            "text/plain": [
              "(10000, 1)"
            ]
          },
          "metadata": {},
          "execution_count": 32
        }
      ]
    },
    {
      "cell_type": "code",
      "source": [
        "preds.shape"
      ],
      "metadata": {
        "colab": {
          "base_uri": "https://localhost:8080/"
        },
        "id": "PmOLkc9zuLQa",
        "outputId": "2d8fc022-5938-42b0-8711-629028cd8595"
      },
      "execution_count": 33,
      "outputs": [
        {
          "output_type": "execute_result",
          "data": {
            "text/plain": [
              "(10000, 10)"
            ]
          },
          "metadata": {},
          "execution_count": 33
        }
      ]
    },
    {
      "cell_type": "code",
      "source": [
        "preds = np.argmax(preds, axis=1).reshape(-1, 1)"
      ],
      "metadata": {
        "id": "BzvJZJCmuNuY"
      },
      "execution_count": 34,
      "outputs": []
    },
    {
      "cell_type": "code",
      "source": [
        "print(classification_report(y_test, preds))"
      ],
      "metadata": {
        "colab": {
          "base_uri": "https://localhost:8080/"
        },
        "id": "niamjl6NwHl5",
        "outputId": "fd793150-be77-4a43-c8e1-83702be7ac88"
      },
      "execution_count": 35,
      "outputs": [
        {
          "output_type": "stream",
          "name": "stdout",
          "text": [
            "              precision    recall  f1-score   support\n",
            "\n",
            "           0       0.82      0.61      0.70      1000\n",
            "           1       0.87      0.72      0.79      1000\n",
            "           2       0.55      0.62      0.58      1000\n",
            "           3       0.43      0.53      0.47      1000\n",
            "           4       0.66      0.58      0.61      1000\n",
            "           5       0.48      0.64      0.55      1000\n",
            "           6       0.78      0.73      0.75      1000\n",
            "           7       0.73      0.71      0.72      1000\n",
            "           8       0.76      0.78      0.77      1000\n",
            "           9       0.77      0.71      0.74      1000\n",
            "\n",
            "    accuracy                           0.66     10000\n",
            "   macro avg       0.69      0.66      0.67     10000\n",
            "weighted avg       0.69      0.66      0.67     10000\n",
            "\n"
          ]
        }
      ]
    },
    {
      "cell_type": "code",
      "source": [
        "sns.heatmap(confusion_matrix(y_test, preds))"
      ],
      "metadata": {
        "colab": {
          "base_uri": "https://localhost:8080/",
          "height": 453
        },
        "id": "1JjpfW8vwSic",
        "outputId": "7738c5a8-824a-4d15-9e74-43223c3c17ce"
      },
      "execution_count": 37,
      "outputs": [
        {
          "output_type": "execute_result",
          "data": {
            "text/plain": [
              "<Axes: >"
            ]
          },
          "metadata": {},
          "execution_count": 37
        },
        {
          "output_type": "display_data",
          "data": {
            "text/plain": [
              "<Figure size 640x480 with 2 Axes>"
            ],
            "image/png": "[encoded data removed]"
          },
          "metadata": {}
        }
      ]
    },
    {
      "cell_type": "code",
      "source": [
        "test_image=np.random.randint(0, 10000)"
      ],
      "metadata": {
        "id": "vYVxa-YYweOp"
      },
      "execution_count": 46,
      "outputs": []
    },
    {
      "cell_type": "code",
      "source": [
        "plt.imshow(X_test[test_image])"
      ],
      "metadata": {
        "colab": {
          "base_uri": "https://localhost:8080/",
          "height": 453
        },
        "id": "D6bO7hLDw3dD",
        "outputId": "e7583aac-cc73-4dcc-98aa-71bc5b551acb"
      },
      "execution_count": 47,
      "outputs": [
        {
          "output_type": "execute_result",
          "data": {
            "text/plain": [
              "<matplotlib.image.AxesImage at 0x7d70717c2b90>"
            ]
          },
          "metadata": {},
          "execution_count": 47
        },
        {
          "output_type": "display_data",
          "data": {
            "text/plain": [
              "<Figure size 640x480 with 1 Axes>"
            ],
            "image/png": "[encoded data removed]"
          },
          "metadata": {}
        }
      ]
    },
    {
      "cell_type": "code",
      "source": [
        "X_test[test_image].shape"
      ],
      "metadata": {
        "colab": {
          "base_uri": "https://localhost:8080/"
        },
        "id": "Kl0NvaW6xACL",
        "outputId": "31e16319-903b-4311-fd76-0862fcd96fb0"
      },
      "execution_count": 41,
      "outputs": [
        {
          "output_type": "execute_result",
          "data": {
            "text/plain": [
              "(32, 32, 3)"
            ]
          },
          "metadata": {},
          "execution_count": 41
        }
      ]
    },
    {
      "cell_type": "code",
      "source": [
        "X_test[test_image].reshape(1,32,32,3)"
      ],
      "metadata": {
        "id": "qLkYNAegxI8l"
      },
      "execution_count": null,
      "outputs": []
    },
    {
      "cell_type": "code",
      "source": [
        "pred = model.predict(X_test[test_image].reshape(1,32,32,3))\n",
        "\n",
        "np.argmax(pred, axis=1)"
      ],
      "metadata": {
        "colab": {
          "base_uri": "https://localhost:8080/"
        },
        "id": "cTDD-6ZcxNJF",
        "outputId": "b68bee49-c992-4677-b197-3c6818f23688"
      },
      "execution_count": 48,
      "outputs": [
        {
          "output_type": "stream",
          "name": "stdout",
          "text": [
            "1/1 [==============================] - 0s 21ms/step\n"
          ]
        },
        {
          "output_type": "execute_result",
          "data": {
            "text/plain": [
              "array([5])"
            ]
          },
          "metadata": {},
          "execution_count": 48
        }
      ]
    }
  ]
}