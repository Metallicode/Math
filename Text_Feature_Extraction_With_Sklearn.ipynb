{
  "nbformat": 4,
  "nbformat_minor": 0,
  "metadata": {
    "colab": {
      "provenance": [],
      "authorship_tag": "ABX9TyOWc67MHZD6zhYq6MECN5P6",
      "include_colab_link": true
    },
    "kernelspec": {
      "name": "python3",
      "display_name": "Python 3"
    },
    "language_info": {
      "name": "python"
    }
  },
  "cells": [
    {
      "cell_type": "markdown",
      "metadata": {
        "id": "view-in-github",
        "colab_type": "text"
      },
      "source": [
        "<a href=\"https://colab.research.google.com/github/Metallicode/Math/blob/main/Text_Feature_Extraction_With_Sklearn.ipynb\" target=\"_parent\"><img src=\"https://colab.research.google.com/assets/colab-badge.svg\" alt=\"Open In Colab\"/></a>"
      ]
    },
    {
      "cell_type": "markdown",
      "source": [
        "#Text Feature Extraction With Sklearn"
      ],
      "metadata": {
        "id": "G3VcvKlXvloO"
      }
    },
    {
      "cell_type": "code",
      "source": [
        "import numpy as np\n",
        "import pandas as pd\n",
        "import matplotlib.pyplot as plt\n",
        "import seaborn as sns"
      ],
      "metadata": {
        "id": "SU2BzQEsw1IW"
      },
      "execution_count": 2,
      "outputs": []
    },
    {
      "cell_type": "code",
      "execution_count": 6,
      "metadata": {
        "id": "nY3G7w_5vQnz"
      },
      "outputs": [],
      "source": [
        "text = [\"The plot was dull and predictable.\",\n",
        "          \"The cinematography was absolutely stunning!\",\n",
        "          \"Terrible acting and poor direction ruined the experience.\"]"
      ]
    },
    {
      "cell_type": "markdown",
      "source": [
        "##CountVectorizer"
      ],
      "metadata": {
        "id": "JAz3nNnDzjLw"
      }
    },
    {
      "cell_type": "code",
      "source": [
        "from sklearn.feature_extraction.text import CountVectorizer"
      ],
      "metadata": {
        "id": "X-sKMkcoxK7D"
      },
      "execution_count": 4,
      "outputs": []
    },
    {
      "cell_type": "code",
      "source": [
        "vectorizer = CountVectorizer(stop_words=\"english\")"
      ],
      "metadata": {
        "id": "aXzecRoSxfCN"
      },
      "execution_count": 11,
      "outputs": []
    },
    {
      "cell_type": "code",
      "source": [
        "sparse_matrix = vectorizer.fit_transform(text)"
      ],
      "metadata": {
        "id": "G3P8Dl5Ixh0E"
      },
      "execution_count": 12,
      "outputs": []
    },
    {
      "cell_type": "code",
      "source": [
        "sparse_matrix.todense()"
      ],
      "metadata": {
        "colab": {
          "base_uri": "https://localhost:8080/"
        },
        "id": "HXRKM_LWx6Nj",
        "outputId": "0c3c1a57-76b8-458e-be38-eb27dd3add1d"
      },
      "execution_count": 13,
      "outputs": [
        {
          "output_type": "execute_result",
          "data": {
            "text/plain": [
              "matrix([[0, 0, 0, 0, 1, 0, 1, 0, 1, 0, 0, 0],\n",
              "        [1, 0, 1, 0, 0, 0, 0, 0, 0, 0, 1, 0],\n",
              "        [0, 1, 0, 1, 0, 1, 0, 1, 0, 1, 0, 1]])"
            ]
          },
          "metadata": {},
          "execution_count": 13
        }
      ]
    },
    {
      "cell_type": "code",
      "source": [
        "vectorizer.vocabulary_"
      ],
      "metadata": {
        "colab": {
          "base_uri": "https://localhost:8080/"
        },
        "id": "iTkrHTPwx-d4",
        "outputId": "aef50cf1-95ae-4d4e-e750-10df8621028e"
      },
      "execution_count": 10,
      "outputs": [
        {
          "output_type": "execute_result",
          "data": {
            "text/plain": [
              "{'the': 13,\n",
              " 'plot': 7,\n",
              " 'was': 14,\n",
              " 'dull': 5,\n",
              " 'and': 2,\n",
              " 'predictable': 9,\n",
              " 'cinematography': 3,\n",
              " 'absolutely': 0,\n",
              " 'stunning': 11,\n",
              " 'terrible': 12,\n",
              " 'acting': 1,\n",
              " 'poor': 8,\n",
              " 'direction': 4,\n",
              " 'ruined': 10,\n",
              " 'experience': 6}"
            ]
          },
          "metadata": {},
          "execution_count": 10
        }
      ]
    },
    {
      "cell_type": "markdown",
      "source": [
        "##TfidfTransformer, TfidfVectorizer"
      ],
      "metadata": {
        "id": "72YHhKWczoju"
      }
    },
    {
      "cell_type": "code",
      "source": [
        "from sklearn.feature_extraction.text import TfidfTransformer, TfidfVectorizer"
      ],
      "metadata": {
        "id": "p_mnNBoOyGxe"
      },
      "execution_count": 14,
      "outputs": []
    },
    {
      "cell_type": "code",
      "source": [
        "tfidf = TfidfTransformer()"
      ],
      "metadata": {
        "id": "_pEzdkr6yrTp"
      },
      "execution_count": 15,
      "outputs": []
    },
    {
      "cell_type": "code",
      "source": [
        "print(tfidf.fit_transform(sparse_matrix))"
      ],
      "metadata": {
        "colab": {
          "base_uri": "https://localhost:8080/"
        },
        "id": "ig61Zs0cy0Ym",
        "outputId": "6c2744bb-dffd-4c96-c260-660bf5cf3747"
      },
      "execution_count": 19,
      "outputs": [
        {
          "output_type": "stream",
          "name": "stdout",
          "text": [
            "  (0, 8)\t0.5773502691896257\n",
            "  (0, 6)\t0.5773502691896257\n",
            "  (0, 4)\t0.5773502691896257\n",
            "  (1, 10)\t0.5773502691896257\n",
            "  (1, 2)\t0.5773502691896257\n",
            "  (1, 0)\t0.5773502691896257\n",
            "  (2, 11)\t0.4082482904638631\n",
            "  (2, 9)\t0.4082482904638631\n",
            "  (2, 7)\t0.4082482904638631\n",
            "  (2, 5)\t0.4082482904638631\n",
            "  (2, 3)\t0.4082482904638631\n",
            "  (2, 1)\t0.4082482904638631\n"
          ]
        }
      ]
    },
    {
      "cell_type": "code",
      "source": [
        "tfidf_vec = TfidfVectorizer()"
      ],
      "metadata": {
        "id": "COIbSUJGzGg9"
      },
      "execution_count": 17,
      "outputs": []
    },
    {
      "cell_type": "code",
      "source": [
        "tfidf_vec.fit_transform(text)"
      ],
      "metadata": {
        "colab": {
          "base_uri": "https://localhost:8080/"
        },
        "id": "Kk5RYckhzNIa",
        "outputId": "df104e72-8bdc-4bf3-d020-d7846f5b23fe"
      },
      "execution_count": 18,
      "outputs": [
        {
          "output_type": "execute_result",
          "data": {
            "text/plain": [
              "<3x15 sparse matrix of type '<class 'numpy.float64'>'\n",
              "\twith 19 stored elements in Compressed Sparse Row format>"
            ]
          },
          "metadata": {},
          "execution_count": 18
        }
      ]
    },
    {
      "cell_type": "code",
      "source": [
        "tfidf_vec.vocabulary_"
      ],
      "metadata": {
        "colab": {
          "base_uri": "https://localhost:8080/"
        },
        "id": "2f2eGgqqz3jM",
        "outputId": "5793d1af-e48f-4e4c-9f10-ad749312f8d1"
      },
      "execution_count": 20,
      "outputs": [
        {
          "output_type": "execute_result",
          "data": {
            "text/plain": [
              "{'the': 13,\n",
              " 'plot': 7,\n",
              " 'was': 14,\n",
              " 'dull': 5,\n",
              " 'and': 2,\n",
              " 'predictable': 9,\n",
              " 'cinematography': 3,\n",
              " 'absolutely': 0,\n",
              " 'stunning': 11,\n",
              " 'terrible': 12,\n",
              " 'acting': 1,\n",
              " 'poor': 8,\n",
              " 'direction': 4,\n",
              " 'ruined': 10,\n",
              " 'experience': 6}"
            ]
          },
          "metadata": {},
          "execution_count": 20
        }
      ]
    }
  ]
}