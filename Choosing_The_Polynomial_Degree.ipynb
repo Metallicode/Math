{
  "nbformat": 4,
  "nbformat_minor": 0,
  "metadata": {
    "colab": {
      "provenance": [],
      "collapsed_sections": [
        "uLFE2VBYjVYW",
        "WjrYqSzBqWpl",
        "A2HhpvPvqLEB"
      ],
      "authorship_tag": "ABX9TyPkpqAo0b2gwRa4r0V9yJJQ",
      "include_colab_link": true
    },
    "kernelspec": {
      "name": "python3",
      "display_name": "Python 3"
    },
    "language_info": {
      "name": "python"
    }
  },
  "cells": [
    {
      "cell_type": "markdown",
      "metadata": {
        "id": "view-in-github",
        "colab_type": "text"
      },
      "source": [
        "<a href=\"https://colab.research.google.com/github/Metallicode/Math/blob/main/Choosing_The_Polynomial_Degree.ipynb\" target=\"_parent\"><img src=\"https://colab.research.google.com/assets/colab-badge.svg\" alt=\"Open In Colab\"/></a>"
      ]
    },
    {
      "cell_type": "markdown",
      "source": [
        "##Choosing the correct polynomial degree"
      ],
      "metadata": {
        "id": "5_Hkbk_UXCmk"
      }
    },
    {
      "cell_type": "markdown",
      "source": [
        "Choosing the correct polynomial degree is crucial for a polynomial regression model. Here's a summary of the process:\n",
        "\n",
        "1. **Objective**:\n",
        "To find the optimal polynomial degree for the regression model that provides a good fit to the data without overfitting.\n",
        "\n",
        "2. **Process**:\n",
        "\n",
        "- **Initialization**: Start with a linear model (degree 1).\n",
        "\n",
        "- **Looping Over Degrees**:\n",
        "  1. For each degree from 1 to a predefined maximum (e.g., 10 or any suitable number):\n",
        "     - Use polynomial features to transform the data to the desired degree.\n",
        "     - Train a polynomial regression model using the transformed features.\n",
        "     - Predict the outputs for both the training data and, if available, a validation set.\n",
        "     - Evaluate the predictions using a suitable metric (e.g., Mean Squared Error).\n",
        "  2. Store the evaluation metric for each degree.\n",
        "\n",
        "- **Visualization**: Plot the evaluation metric against the polynomial degrees.\n",
        "  - Look for the degree where the error is minimized.\n",
        "  - Be cautious of overfitting: The training error might continue to decrease, but if the validation error starts to increase, it's a sign of overfitting.\n",
        "\n",
        "- **Choosing the Degree**:\n",
        "  1. **Training Error**: It will typically decrease as the polynomial degree increases because the model can fit to the noise in the training data.\n",
        "  2. **Validation Error**: It will typically decrease initially and then increase as the degree gets too high (due to overfitting). The inflection point or the minimum validation error point is typically the best degree.\n",
        "\n",
        "3. **Considerations**:\n",
        "- **Computational Complexity**: As the polynomial degree increases, the number of features and the computation required increases.\n",
        "- **Regularization**: If the model seems to be overfitting, consider adding regularization (like Ridge or Lasso) instead of merely reducing the polynomial degree.\n",
        "- **Real-world Knowledge**: Sometimes, domain knowledge can guide the selection of degree.\n",
        "  \n",
        "4. **Conclusion**:\n",
        "Looping over various polynomial degrees and evaluating on a validation set is an empirical way to find an optimal degree. It provides a balance between fitting the data well and keeping the model simple enough to generalize to new data."
      ],
      "metadata": {
        "id": "UxiPFGj9XDyq"
      }
    },
    {
      "cell_type": "code",
      "source": [
        "##IMPORTS\n",
        "import numpy as np\n",
        "import pandas as pd\n",
        "import matplotlib.pyplot as plt\n",
        "import seaborn as sns"
      ],
      "metadata": {
        "id": "F_tyz6nVZuWT"
      },
      "execution_count": 6,
      "outputs": []
    },
    {
      "cell_type": "code",
      "source": [
        "from sklearn.preprocessing import PolynomialFeatures\n",
        "from sklearn.model_selection import train_test_split\n",
        "from sklearn.linear_model import LinearRegression\n",
        "from sklearn.metrics import mean_squared_error"
      ],
      "metadata": {
        "id": "14JGng6OaQj8"
      },
      "execution_count": 25,
      "outputs": []
    },
    {
      "cell_type": "code",
      "source": [
        "##Create DataFrames of dependent and independet variables\n",
        "df = pd.read_csv('Advertising.csv')\n",
        "X = df.drop('sales', axis=1)\n",
        "y = df[\"sales\"]"
      ],
      "metadata": {
        "id": "kiUDLMVDZzEp"
      },
      "execution_count": 48,
      "outputs": []
    },
    {
      "cell_type": "code",
      "execution_count": 57,
      "metadata": {
        "id": "cduTySs2V5lk"
      },
      "outputs": [],
      "source": [
        "#create the lists we will save our results in\n",
        "train_rmse = []\n",
        "test_rmse = []"
      ]
    },
    {
      "cell_type": "code",
      "source": [
        "def create_model(degree, X, y):\n",
        "  polynomial_features_convertor = PolynomialFeatures(degree=degree, include_bias=False)\n",
        "  polynomial_features = polynomial_features_convertor.fit_transform(X)\n",
        "\n",
        "  X_train, X_test, y_train, y_test = train_test_split(polynomial_features, y, test_size=0.3, random_state=101)\n",
        "\n",
        "  model = LinearRegression()\n",
        "\n",
        "  model.fit(X_train, y_train)\n",
        "\n",
        "  return {\"model\":model, \"data\":[X_train, X_test, y_train, y_test]}\n",
        "\n",
        "\n",
        "\n",
        "\n",
        "def solve(degree, X, y):\n",
        "\n",
        "  init_model = create_model(degree, X, y)\n",
        "\n",
        "  model = init_model[\"model\"]\n",
        "  y_train_pred = model.predict(init_model[\"data\"][0])\n",
        "  y_test_pred = model.predict(init_model[\"data\"][1])\n",
        "\n",
        "  train_rmse.append(np.sqrt(mean_squared_error(init_model[\"data\"][2],y_train_pred)))\n",
        "  test_rmse.append(np.sqrt(mean_squared_error(init_model[\"data\"][3],y_test_pred)))\n"
      ],
      "metadata": {
        "id": "ANslpXU5ZIv9"
      },
      "execution_count": 54,
      "outputs": []
    },
    {
      "cell_type": "code",
      "source": [
        "#main loop\n",
        "for i in range(1, 10):\n",
        "  solve(i, X, y)"
      ],
      "metadata": {
        "id": "5DQAAfzMZFX0"
      },
      "execution_count": 58,
      "outputs": []
    },
    {
      "cell_type": "code",
      "source": [
        "train_rmse"
      ],
      "metadata": {
        "colab": {
          "base_uri": "https://localhost:8080/"
        },
        "id": "nmDbtAmHZllZ",
        "outputId": "efe8cacf-abb7-41fd-a009-ca3085b548bc"
      },
      "execution_count": 59,
      "outputs": [
        {
          "output_type": "execute_result",
          "data": {
            "text/plain": [
              "[1.734594124329376,\n",
              " 0.5879574085292232,\n",
              " 0.43393443569020673,\n",
              " 0.35170836883993495,\n",
              " 0.2509342964085938,\n",
              " 0.1992470718506088,\n",
              " 5.421578379552841,\n",
              " 0.1422460013426133,\n",
              " 0.1681687270874676]"
            ]
          },
          "metadata": {},
          "execution_count": 59
        }
      ]
    },
    {
      "cell_type": "markdown",
      "source": [
        "plotting the evaluations agains polynomial degree"
      ],
      "metadata": {
        "id": "kUwNxGePdsaA"
      }
    },
    {
      "cell_type": "code",
      "source": [
        "plt.plot(range(1, 7), train_rmse[:6])\n",
        "plt.plot(range(1, 7), test_rmse[:6])"
      ],
      "metadata": {
        "colab": {
          "base_uri": "https://localhost:8080/",
          "height": 453
        },
        "id": "qj3HxZFdbu8M",
        "outputId": "8806aeba-cd72-455b-a244-f40e3bfcc866"
      },
      "execution_count": 60,
      "outputs": [
        {
          "output_type": "execute_result",
          "data": {
            "text/plain": [
              "[<matplotlib.lines.Line2D at 0x7e49e8d0ead0>]"
            ]
          },
          "metadata": {},
          "execution_count": 60
        },
        {
          "output_type": "display_data",
          "data": {
            "text/plain": [
              "<Figure size 640x480 with 1 Axes>"
            ],
            "image/png": "[encoded data removed]"
          },
          "metadata": {}
        }
      ]
    },
    {
      "cell_type": "markdown",
      "source": [
        "##Model Persistence"
      ],
      "metadata": {
        "id": "uLFE2VBYjVYW"
      }
    },
    {
      "cell_type": "code",
      "source": [
        "from joblib import dump, load"
      ],
      "metadata": {
        "id": "YhrlrebkeCgp"
      },
      "execution_count": 53,
      "outputs": []
    },
    {
      "cell_type": "code",
      "source": [
        "degree = 4 ##choose based on the evaluations\n",
        "\n",
        "polynomial_features_convertor = PolynomialFeatures(degree=degree, include_bias=False)\n",
        "polynomial_features = polynomial_features_convertor.fit_transform(X)\n",
        "\n",
        "model = LinearRegression()\n",
        "model.fit(polynomial_features, y) ##we don't split to a train/test set!\n",
        "\n",
        "#predict on two test cases\n",
        "model.predict(polynomial_features_convertor.fit_transform([[12,23,21], [22,23,11]]))\n"
      ],
      "metadata": {
        "id": "qvHWfU95jjTR"
      },
      "execution_count": null,
      "outputs": []
    },
    {
      "cell_type": "markdown",
      "source": [
        "##Save Model and Features Convertor to File"
      ],
      "metadata": {
        "id": "WjrYqSzBqWpl"
      }
    },
    {
      "cell_type": "code",
      "source": [
        "dump(model, \"finel_polynomial_model.joblib\")"
      ],
      "metadata": {
        "id": "RgInU-txmnAB"
      },
      "execution_count": null,
      "outputs": []
    },
    {
      "cell_type": "code",
      "source": [
        "dump(polynomial_features_convertor, \"polynomial_features_convertor.joblib\")"
      ],
      "metadata": {
        "id": "UTlZgmEipVJP"
      },
      "execution_count": null,
      "outputs": []
    },
    {
      "cell_type": "markdown",
      "source": [
        "##Reload Model and Features Convertor"
      ],
      "metadata": {
        "id": "A2HhpvPvqLEB"
      }
    },
    {
      "cell_type": "code",
      "source": [
        "reloaded_model = load(\"finel_polynomial_model.joblib\")\n",
        "reloaded_features_convertor = load(\"polynomial_features_convertor.joblib\")"
      ],
      "metadata": {
        "id": "reM-PaImpfPa"
      },
      "execution_count": 69,
      "outputs": []
    },
    {
      "cell_type": "code",
      "source": [
        "reloaded_model.predict(reloaded_features_convertor.fit_transform([[12,23,21], [22,23,11]]))"
      ],
      "metadata": {
        "colab": {
          "base_uri": "https://localhost:8080/"
        },
        "id": "v75UO40Apyg7",
        "outputId": "f672e93b-62d7-4456-ad21-5d9b3f3f4a5e"
      },
      "execution_count": 70,
      "outputs": [
        {
          "output_type": "execute_result",
          "data": {
            "text/plain": [
              "array([6.10354129, 7.37616274])"
            ]
          },
          "metadata": {},
          "execution_count": 70
        }
      ]
    },
    {
      "cell_type": "code",
      "source": [],
      "metadata": {
        "id": "sbi49EDfp_Ui"
      },
      "execution_count": null,
      "outputs": []
    }
  ]
}