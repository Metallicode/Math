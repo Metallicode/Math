{
  "nbformat": 4,
  "nbformat_minor": 0,
  "metadata": {
    "colab": {
      "provenance": [],
      "collapsed_sections": [
        "0UO_2aGx9IkL",
        "mt4NNUH99iNX"
      ],
      "authorship_tag": "ABX9TyPmxz+P+Shl7slNULN1yqsQ",
      "include_colab_link": true
    },
    "kernelspec": {
      "name": "python3",
      "display_name": "Python 3"
    },
    "language_info": {
      "name": "python"
    }
  },
  "cells": [
    {
      "cell_type": "markdown",
      "metadata": {
        "id": "view-in-github",
        "colab_type": "text"
      },
      "source": [
        "<a href=\"https://colab.research.google.com/github/Metallicode/Math/blob/main/Power_and_Log_Rules.ipynb\" target=\"_parent\"><img src=\"https://colab.research.google.com/assets/colab-badge.svg\" alt=\"Open In Colab\"/></a>"
      ]
    },
    {
      "cell_type": "markdown",
      "source": [
        "#Power Rules"
      ],
      "metadata": {
        "id": "gLNO0tczGO4q"
      }
    },
    {
      "cell_type": "code",
      "source": [
        "import numpy as np\n",
        "import matplotlib.pyplot as plt\n",
        "import sympy as sym"
      ],
      "metadata": {
        "id": "sF8k-9qOGU46"
      },
      "execution_count": 1,
      "outputs": []
    },
    {
      "cell_type": "markdown",
      "source": [
        "##Multiplying with a common factor\n",
        "\n",
        "```\n",
        "x**a * x**b = x**(a+b)\n",
        "```"
      ],
      "metadata": {
        "id": "HTNaCtp0Ggdt"
      }
    },
    {
      "cell_type": "code",
      "execution_count": null,
      "metadata": {
        "colab": {
          "base_uri": "https://localhost:8080/"
        },
        "id": "7odmuDKQGL_s",
        "outputId": "8267842b-48dc-4052-b3b8-8457baf92456"
      },
      "outputs": [
        {
          "output_type": "stream",
          "name": "stdout",
          "text": [
            "x**(a + b)\n",
            "x**11.6\n"
          ]
        }
      ],
      "source": [
        "from sympy.abc import x, a, b\n",
        "\n",
        "x_a = x**a\n",
        "x_b = x**b\n",
        "x_ab = x_a * x_b\n",
        "\n",
        "print(sym.simplify(x_ab))\n",
        "print(sym.simplify(x_ab.subs(a, 3.6).subs(b, 8)))"
      ]
    },
    {
      "cell_type": "markdown",
      "source": [
        "##Division with a common factor\n",
        "```\n",
        "x**a / x**b = x**(a-b)\n",
        "```"
      ],
      "metadata": {
        "id": "xxZFSG-2HMbO"
      }
    },
    {
      "cell_type": "code",
      "source": [
        "(x**a / x**b).simplify()"
      ],
      "metadata": {
        "id": "5UkfY3ItHjT7"
      },
      "execution_count": null,
      "outputs": []
    },
    {
      "cell_type": "code",
      "source": [
        "##Notice that x**0 is always 1\n",
        "(x**a / x**b).simplify().subs(a, 5).subs(b, 5)"
      ],
      "metadata": {
        "colab": {
          "base_uri": "https://localhost:8080/",
          "height": 39
        },
        "id": "qp9e0NNzHm24",
        "outputId": "4683b2f4-472f-4b23-8feb-ece28b8cadde"
      },
      "execution_count": null,
      "outputs": [
        {
          "output_type": "execute_result",
          "data": {
            "text/plain": [
              "1"
            ],
            "text/latex": "$\\displaystyle 1$"
          },
          "metadata": {},
          "execution_count": 6
        }
      ]
    },
    {
      "cell_type": "markdown",
      "source": [
        "```\n",
        "(x**a)**b = x**a*b (If a, b > 0)\n",
        "```"
      ],
      "metadata": {
        "id": "G3-08UhzIkAE"
      }
    },
    {
      "cell_type": "code",
      "source": [
        "(x**a)**b # <----- notice that this wont work without defining a & b as positive."
      ],
      "metadata": {
        "colab": {
          "base_uri": "https://localhost:8080/",
          "height": 41
        },
        "id": "Y8OR8BX7IZcO",
        "outputId": "1d58171f-6673-4800-ddc5-7a62801ad01c"
      },
      "execution_count": null,
      "outputs": [
        {
          "output_type": "execute_result",
          "data": {
            "text/plain": [
              "(x**a)**b"
            ],
            "text/latex": "$\\displaystyle \\left(x^{a}\\right)^{b}$"
          },
          "metadata": {},
          "execution_count": 8
        }
      ]
    },
    {
      "cell_type": "code",
      "source": [
        "sym.powsimp((x**a)**b) # <----- notice that this wont work without defining a & b as positive."
      ],
      "metadata": {
        "colab": {
          "base_uri": "https://localhost:8080/",
          "height": 41
        },
        "id": "aYazwodmJASf",
        "outputId": "13586806-215e-47a9-ecc6-f9112410100e"
      },
      "execution_count": null,
      "outputs": [
        {
          "output_type": "execute_result",
          "data": {
            "text/plain": [
              "(x**a)**b"
            ],
            "text/latex": "$\\displaystyle \\left(x^{a}\\right)^{b}$"
          },
          "metadata": {},
          "execution_count": 9
        }
      ]
    },
    {
      "cell_type": "markdown",
      "source": [
        "###The reason:"
      ],
      "metadata": {
        "id": "gkFgUNpXJhru"
      }
    },
    {
      "cell_type": "code",
      "source": [
        "y = -2\n",
        "n1 = 4.1\n",
        "n2 = -.3\n",
        "\n",
        "print( (y**n1)**n2 )\n",
        "print(  y**(n1*n2) )"
      ],
      "metadata": {
        "colab": {
          "base_uri": "https://localhost:8080/"
        },
        "id": "QM8z2bNeJVfB",
        "outputId": "0055bde1-3bf3-4ad0-c561-feb111c5fb19"
      },
      "execution_count": null,
      "outputs": [
        {
          "output_type": "stream",
          "name": "stdout",
          "text": [
            "(0.4244254339688208-0.040120015770397914j)\n",
            "(-0.3197854353341568+0.28192878535754856j)\n"
          ]
        }
      ]
    },
    {
      "cell_type": "markdown",
      "source": [
        "##Log Rules (a, b > 0)"
      ],
      "metadata": {
        "id": "CTomex76LBD0"
      }
    },
    {
      "cell_type": "markdown",
      "source": [
        "##1\n",
        "```\n",
        "(np.log(a) + np.log(b)) = np.log(a*b)\n",
        "```"
      ],
      "metadata": {
        "id": "0UO_2aGx9IkL"
      }
    },
    {
      "cell_type": "code",
      "source": [
        "a = np.random.randint(1,5)\n",
        "b = np.random.randint(1,5)"
      ],
      "metadata": {
        "id": "0cIm4mjmLDUk"
      },
      "execution_count": 11,
      "outputs": []
    },
    {
      "cell_type": "code",
      "source": [
        "print(f\"{a=}  {b=}\")\n",
        "print(np.log(a*b))\n",
        "print(np.log(a) + np.log(b))"
      ],
      "metadata": {
        "colab": {
          "base_uri": "https://localhost:8080/"
        },
        "id": "PXUAM5Qw4Wg1",
        "outputId": "6d2d0d98-56f2-4f07-b1fb-3b2a72223d21"
      },
      "execution_count": 14,
      "outputs": [
        {
          "output_type": "stream",
          "name": "stdout",
          "text": [
            "a=4  b=2\n",
            "2.0794415416798357\n",
            "2.0794415416798357\n"
          ]
        }
      ]
    },
    {
      "cell_type": "code",
      "source": [
        "(np.log(a) + np.log(b)) - np.log(a*b)"
      ],
      "metadata": {
        "colab": {
          "base_uri": "https://localhost:8080/"
        },
        "id": "lXUrWkir8ALK",
        "outputId": "e897c62c-0738-4760-dfe4-304b0b8216ad"
      },
      "execution_count": 24,
      "outputs": [
        {
          "output_type": "execute_result",
          "data": {
            "text/plain": [
              "0.0"
            ]
          },
          "metadata": {},
          "execution_count": 24
        }
      ]
    },
    {
      "cell_type": "markdown",
      "source": [
        "##2\n",
        "```\n",
        "np.log(a**b) = (np.log(a) * b)\n",
        "```"
      ],
      "metadata": {
        "id": "mt4NNUH99iNX"
      }
    },
    {
      "cell_type": "code",
      "source": [
        "np.log(a**b) - (np.log(a) * b)"
      ],
      "metadata": {
        "colab": {
          "base_uri": "https://localhost:8080/"
        },
        "id": "q-8diY2T8g52",
        "outputId": "94fc7f42-82a4-42d2-a1c1-d71e7aafc1c7"
      },
      "execution_count": 26,
      "outputs": [
        {
          "output_type": "execute_result",
          "data": {
            "text/plain": [
              "0.0"
            ]
          },
          "metadata": {},
          "execution_count": 26
        }
      ]
    },
    {
      "cell_type": "markdown",
      "source": [
        "##3\n",
        "```\n",
        "np.log(a/b) = (np.log(a) - np.log(b))\n",
        "```\n"
      ],
      "metadata": {
        "id": "pjO3r3eK9x8q"
      }
    },
    {
      "cell_type": "code",
      "source": [
        "np.log(a/b) - (np.log(a) - np.log(b))"
      ],
      "metadata": {
        "colab": {
          "base_uri": "https://localhost:8080/"
        },
        "id": "SXOznITK94Vd",
        "outputId": "e7978fce-5da7-41f8-84b6-92bca9b72a22"
      },
      "execution_count": 27,
      "outputs": [
        {
          "output_type": "execute_result",
          "data": {
            "text/plain": [
              "0.0"
            ]
          },
          "metadata": {},
          "execution_count": 27
        }
      ]
    }
  ]
}