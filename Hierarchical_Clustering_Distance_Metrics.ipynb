{
  "nbformat": 4,
  "nbformat_minor": 0,
  "metadata": {
    "colab": {
      "provenance": [],
      "authorship_tag": "ABX9TyN9upRjysZxQjEeYfyTU71P",
      "include_colab_link": true
    },
    "kernelspec": {
      "name": "python3",
      "display_name": "Python 3"
    },
    "language_info": {
      "name": "python"
    }
  },
  "cells": [
    {
      "cell_type": "markdown",
      "metadata": {
        "id": "view-in-github",
        "colab_type": "text"
      },
      "source": [
        "<a href=\"https://colab.research.google.com/github/Metallicode/Math/blob/main/Hierarchical_Clustering_Distance_Metrics.ipynb\" target=\"_parent\"><img src=\"https://colab.research.google.com/assets/colab-badge.svg\" alt=\"Open In Colab\"/></a>"
      ]
    },
    {
      "cell_type": "markdown",
      "source": [
        "#Hierarchical Clustering"
      ],
      "metadata": {
        "id": "hBDw-GgdH3Je"
      }
    },
    {
      "cell_type": "markdown",
      "source": [
        "\n",
        "\n",
        "* **Definition**: Hierarchical clustering is a method of cluster analysis that seeks to build a hierarchy of clusters by either a bottom-up or top-down approach.\n",
        "\n",
        "* **Agglomerative (Bottom-Up) vs. Divisive (Top-Down)**:\n",
        "    * **Agglomerative (AGNES)**: Begin with each observation as its own cluster and iteratively combine them into larger clusters.\n",
        "    * **Divisive (DIANA)**: Start with one single cluster containing all observations, and iteratively split it into smaller ones.\n",
        "\n",
        "* **Dendrogram**: A tree diagram frequently used to illustrate the arrangement of clusters. It provides insight into the hierarchical structure and the level at which clusters are joined.\n",
        "\n",
        "* **Distance Metrics**:\n",
        "    * **Euclidean Distance**: Ordinary straight-line distance between two points.\n",
        "    * **Manhattan Distance**: Distance between two points measured along axes at right angles.\n",
        "    * **Cosine Similarity**: Measures cosine of the angle between two vectors.\n",
        "    * (Many other distance measures exist, and the choice often depends on the nature of the data.)\n",
        "\n",
        "* **Linkage Criteria**:\n",
        "    * **Single Linkage**: Smallest minimum pairwise distance: the shortest distance between two points in each cluster.\n",
        "    * **Complete Linkage**: Largest maximum pairwise distance: the furthest distance between two points in each cluster.\n",
        "    * **Average Linkage**: Average of pairwise distances between points in the two clusters.\n",
        "    * **Centroid Linkage**: Distance between centroids of the clusters.\n",
        "    * **Ward’s Method**: Criteria based on variance minimization.\n",
        "\n",
        "* **Advantages**:\n",
        "    * Does not require specifying the number of clusters a priori.\n",
        "    * Can capture clusters of various shapes, not just spherical (as opposed to K-Means).\n",
        "    * The dendrogram provides a deep insight into the hierarchical structure.\n",
        "\n",
        "* **Disadvantages**:\n",
        "    * Sensitive to noise and outliers.\n",
        "    * Not scalable for very large datasets.\n",
        "    * Different linkage criteria can yield different hierarchies, and there's no single correct linkage method.\n",
        "\n",
        "* **Applications**:\n",
        "    * Taxonomies or hierarchies in biology (e.g., phylogenetic trees).\n",
        "    * Document clustering and thematic analysis.\n",
        "    * Sociological applications to understand group dynamics.\n",
        "\n"
      ],
      "metadata": {
        "id": "xj46-zOpH7c8"
      }
    },
    {
      "cell_type": "markdown",
      "source": [
        "##Distance metrics"
      ],
      "metadata": {
        "id": "r4VyzNZFJzJY"
      }
    },
    {
      "cell_type": "markdown",
      "source": [
        "In the context of the distance metrics explained above, p and q are two data points (or vectors) in a dataset. The purpose of the distance metric is to measure the \"distance\" or \"dissimilarity\" between these two points.\n",
        "\n",
        "For example:\n",
        "\n",
        "- In a 2D space, p might be a point with coordinates (p_1, p_2), and q might be another point with coordinates(q_1, q_2).\n",
        "- In a higher-dimensional space (like when working with many features in machine learning), each point would have more components. So, in an n-dimensional space\n",
        "p would be a point with coordinates (p_1, p_2, ... , p_n) and q would be a point with coordinates (q_1, q_2, ... , q_n).\n",
        "\n",
        "For most of the distance metrics, the formulas are computed component-wise. That is, you compare the corresponding components of p and q to determine their distance.\n",
        "\n",
        "To offer a practical example:\n",
        "- If you were trying to find the Euclidean distance between two points in 2D space:\n",
        "  - p might be (2, 3)\n",
        "  - q might be (4, 6)\n",
        "  - The distance is found by looking at the difference between their x-coordinates (2 and 4) and their y-coordinates (3 and 6), and then applying the Euclidean formula."
      ],
      "metadata": {
        "id": "UlwAT2yzMliZ"
      }
    },
    {
      "cell_type": "markdown",
      "source": [
        "###Euclidean Distance"
      ],
      "metadata": {
        "id": "ddvKpTVILP9v"
      }
    },
    {
      "cell_type": "markdown",
      "source": [
        "(often used in 2D or 3D space but generalizes to any dimension)\n",
        "\n",
        "**Formula**:\n",
        "\n",
        "\n",
        "![Euclidean_Distance.png](data:image/png;base64,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)\n",
        "\n",
        "\n",
        "**Simple Explanation**:\n",
        "\n",
        "Imagine you're drawing a straight line between two points in space. The Euclidean distance is the length of that line. In 2D space, it's the length of the hypotenuse in a right triangle."
      ],
      "metadata": {
        "id": "2mKx-j3mJwwt"
      }
    },
    {
      "cell_type": "markdown",
      "source": [
        "###Manhattan Distance"
      ],
      "metadata": {
        "id": "3Yh0S72bLWPy"
      }
    },
    {
      "cell_type": "markdown",
      "source": [
        "(also known as L1 distance or City block distance)\n",
        "\n",
        "**Formula**:\n",
        "\n",
        "![Manhattan_Distance.png](data:image/png;base64,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)\n",
        "\n",
        "**Simple Explanation**:\n",
        "\n",
        "\n",
        "\n",
        "Think of how you'd measure distance between two points in a city grid: you move right/left and up/down but not diagonally. Sum up these \"city block\" moves to get the Manhattan distance.\n"
      ],
      "metadata": {
        "id": "eLXF9kzpKTuU"
      }
    },
    {
      "cell_type": "markdown",
      "source": [
        "###Cosine Similarity"
      ],
      "metadata": {
        "id": "f7mKwDAULf6v"
      }
    },
    {
      "cell_type": "markdown",
      "source": [
        "\n",
        "(often used for comparing vectors, such as text represented as word vectors)\n",
        "\n",
        "**Formula**:\n",
        "\n",
        "![Cosine_Similarity.png](data:image/png;base64,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)\n",
        "\n",
        "**Simple Explanation**:\n",
        "\n",
        "It measures the cosine of the angle between two vectors. If the vectors are identical, the cosine similarity is 1. If they're orthogonal (perpendicular), it's 0. Note: It's called \"similarity\" because the closer it is to 1, the more similar the vectors are. You subtract from 1 to get a \"distance\".\n"
      ],
      "metadata": {
        "id": "rcQES2P8KXs7"
      }
    },
    {
      "cell_type": "markdown",
      "source": [
        "###Minkowski Distance"
      ],
      "metadata": {
        "id": "jVrIBOw4LnSX"
      }
    },
    {
      "cell_type": "markdown",
      "source": [
        "\n",
        "(a generalized distance metric)\n",
        "\n",
        "**Formula**:\n",
        "\n",
        "![Minkowski_Distance.png](data:image/png;base64,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)\n",
        "\n",
        "When \\( p = 2 \\), this is Euclidean distance.\n",
        "When \\( p = 1 \\), this is Manhattan distance.\n",
        "\n",
        "**Simple Explanation**:\n",
        "\n",
        "It's a way to generalize the Manhattan and Euclidean distances and other distances in between. The parameter \\( p \\) lets you adjust how you calculate the distance."
      ],
      "metadata": {
        "id": "g__vkUwLKlh0"
      }
    },
    {
      "cell_type": "markdown",
      "source": [
        "###Chebyshev Distance"
      ],
      "metadata": {
        "id": "w8vP6hJ6OK5t"
      }
    },
    {
      "cell_type": "markdown",
      "source": [
        "(also known as the maximum value distance) is a metric derived from the infinity norm. It measures the distance between two vectors as the greatest of their differences along any coordinate dimension.\n",
        "\n",
        "Mathematically, the Chebyshev distance between two points\n",
        "\n",
        "p=(p1,p 2,…,pn) and q=(q1,q2,…,qn) in n-dimensional space is defined as:\n",
        "\n",
        "```\n",
        "D(p,q =max_i ∣pi−qi∣**\n",
        "\n",
        "```\n",
        "where i ranges from 1 to n.\n",
        "\n",
        "In simpler terms, to compute the Chebyshev distance, you take the absolute difference of the coordinates in each dimension and consider only the greatest of those.\n",
        "\n",
        "A key characteristic of the Chebyshev distance is that it allows for movement along diagonals, making it resemble a king's move in a game of chess."
      ],
      "metadata": {
        "id": "f6XK8IwMOMUi"
      }
    },
    {
      "cell_type": "markdown",
      "source": [
        "###Hamming Distance"
      ],
      "metadata": {
        "id": "pJ0PIszcLqy3"
      }
    },
    {
      "cell_type": "markdown",
      "source": [
        "(used for sequences of equal length, like strings or codes)\n",
        "\n",
        "**Formula**:\n",
        "\n",
        "The number of positions at which the sequences differ.\n",
        "\n",
        "**Simple Explanation**:\n",
        "Consider two strings of equal length. The Hamming distance is just the number of positions at which the corresponding elements (characters, bits) are different.\n"
      ],
      "metadata": {
        "id": "Sgs3lxEWKtbq"
      }
    },
    {
      "cell_type": "markdown",
      "source": [
        "##Distance Metrics in Python"
      ],
      "metadata": {
        "id": "HN8PqQDsNaM6"
      }
    },
    {
      "cell_type": "code",
      "source": [
        "import numpy as np\n",
        "\n",
        "def euclidean_distance(p, q):\n",
        "    return np.sqrt(np.sum((p - q) ** 2))\n",
        "\n",
        "def manhattan_distance(p, q):\n",
        "    return np.sum(np.abs(p - q))\n",
        "\n",
        "def chebyshev_distance(p, q):\n",
        "    return np.max(np.abs(p - q))\n",
        "\n",
        "def minkowski_distance(p, q, r):\n",
        "    return np.power(np.sum(np.abs(p - q) ** r), 1/r)\n",
        "\n",
        "def cosine_similarity(p, q):\n",
        "    dot_product = np.dot(p, q)\n",
        "    norm_p = np.linalg.norm(p)\n",
        "    norm_q = np.linalg.norm(q)\n",
        "    return dot_product / (norm_p * norm_q)\n",
        "\n",
        "# Example points\n",
        "p = np.array([8, 3])\n",
        "q = np.array([4, 8])\n",
        "\n",
        "# Testing the functions\n",
        "print(\"Euclidean Distance:\", euclidean_distance(p, q))\n",
        "print(\"Manhattan Distance:\", manhattan_distance(p, q))\n",
        "print(\"Chebyshev Distance:\", chebyshev_distance(p, q))\n",
        "print(\"Minkowski Distance (r=3):\", minkowski_distance(p, q, 3))\n",
        "print(\"Cosine Similarity Distance:\", cosine_similarity(p, q))"
      ],
      "metadata": {
        "colab": {
          "base_uri": "https://localhost:8080/"
        },
        "id": "0KniAPRZNe0J",
        "outputId": "5f7bb65a-e422-4e01-f503-d7446afb3105"
      },
      "execution_count": 3,
      "outputs": [
        {
          "output_type": "stream",
          "name": "stdout",
          "text": [
            "Euclidean Distance: 6.4031242374328485\n",
            "Manhattan Distance: 9\n",
            "Chebyshev Distance: 5\n",
            "Minkowski Distance (r=3): 5.738793548317167\n",
            "Cosine Similarity Distance: 0.7327934916262993\n"
          ]
        }
      ]
    }
  ]
}