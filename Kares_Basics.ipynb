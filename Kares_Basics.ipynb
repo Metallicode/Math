{
  "nbformat": 4,
  "nbformat_minor": 0,
  "metadata": {
    "colab": {
      "provenance": [],
      "authorship_tag": "ABX9TyOLwvPHETj8x+TJGa/GRTeo",
      "include_colab_link": true
    },
    "kernelspec": {
      "name": "python3",
      "display_name": "Python 3"
    },
    "language_info": {
      "name": "python"
    }
  },
  "cells": [
    {
      "cell_type": "markdown",
      "metadata": {
        "id": "view-in-github",
        "colab_type": "text"
      },
      "source": [
        "<a href=\"https://colab.research.google.com/github/Metallicode/Math/blob/main/Kares_Basics.ipynb\" target=\"_parent\"><img src=\"https://colab.research.google.com/assets/colab-badge.svg\" alt=\"Open In Colab\"/></a>"
      ]
    },
    {
      "cell_type": "markdown",
      "source": [
        "#Keras Basics"
      ],
      "metadata": {
        "id": "bNHgF_u8G7VK"
      }
    },
    {
      "cell_type": "code",
      "execution_count": 1,
      "metadata": {
        "id": "SeuGlc5d-Opz"
      },
      "outputs": [],
      "source": [
        "import numpy as np\n",
        "import pandas as pd\n",
        "import matplotlib.pyplot as plt\n",
        "import seaborn as sns"
      ]
    },
    {
      "cell_type": "code",
      "source": [
        "df = pd.read_csv(\"fake_reg.csv\")"
      ],
      "metadata": {
        "id": "WS7t_mDnCvi2"
      },
      "execution_count": 2,
      "outputs": []
    },
    {
      "cell_type": "code",
      "source": [
        "df.head()"
      ],
      "metadata": {
        "colab": {
          "base_uri": "https://localhost:8080/",
          "height": 236
        },
        "id": "3HWLohQ1DYmF",
        "outputId": "3ddfe2c0-577b-44bf-867b-17df6000a2f3"
      },
      "execution_count": 3,
      "outputs": [
        {
          "output_type": "execute_result",
          "data": {
            "text/plain": [
              "        price     feature1     feature2\n",
              "0  461.527929   999.787558   999.766096\n",
              "1  548.130011   998.861615  1001.042403\n",
              "2  410.297162  1000.070267   998.844015\n",
              "3  540.382220   999.952251  1000.440940\n",
              "4  546.024553  1000.446011  1000.338531"
            ],
            "text/html": [
              "\n",
              "  <div id=\"df-7b37d9f7-363d-482c-a69b-f9c7a99c183a\" class=\"colab-df-container\">\n",
              "    <div>\n",
              "<style scoped>\n",
              "    .dataframe tbody tr th:only-of-type {\n",
              "        vertical-align: middle;\n",
              "    }\n",
              "\n",
              "    .dataframe tbody tr th {\n",
              "        vertical-align: top;\n",
              "    }\n",
              "\n",
              "    .dataframe thead th {\n",
              "        text-align: right;\n",
              "    }\n",
              "</style>\n",
              "<table border=\"1\" class=\"dataframe\">\n",
              "  <thead>\n",
              "    <tr style=\"text-align: right;\">\n",
              "      <th></th>\n",
              "      <th>price</th>\n",
              "      <th>feature1</th>\n",
              "      <th>feature2</th>\n",
              "    </tr>\n",
              "  </thead>\n",
              "  <tbody>\n",
              "    <tr>\n",
              "      <th>0</th>\n",
              "      <td>461.527929</td>\n",
              "      <td>999.787558</td>\n",
              "      <td>999.766096</td>\n",
              "    </tr>\n",
              "    <tr>\n",
              "      <th>1</th>\n",
              "      <td>548.130011</td>\n",
              "      <td>998.861615</td>\n",
              "      <td>1001.042403</td>\n",
              "    </tr>\n",
              "    <tr>\n",
              "      <th>2</th>\n",
              "      <td>410.297162</td>\n",
              "      <td>1000.070267</td>\n",
              "      <td>998.844015</td>\n",
              "    </tr>\n",
              "    <tr>\n",
              "      <th>3</th>\n",
              "      <td>540.382220</td>\n",
              "      <td>999.952251</td>\n",
              "      <td>1000.440940</td>\n",
              "    </tr>\n",
              "    <tr>\n",
              "      <th>4</th>\n",
              "      <td>546.024553</td>\n",
              "      <td>1000.446011</td>\n",
              "      <td>1000.338531</td>\n",
              "    </tr>\n",
              "  </tbody>\n",
              "</table>\n",
              "</div>\n",
              "    <div class=\"colab-df-buttons\">\n",
              "\n",
              "  <div class=\"colab-df-container\">\n",
              "    <button class=\"colab-df-convert\" onclick=\"convertToInteractive('df-7b37d9f7-363d-482c-a69b-f9c7a99c183a')\"\n",
              "            title=\"Convert this dataframe to an interactive table.\"\n",
              "            style=\"display:none;\">\n",
              "\n",
              "  <svg xmlns=\"http://www.w3.org/2000/svg\" height=\"24px\" viewBox=\"0 -960 960 960\">\n",
              "    <path d=\"M120-120v-720h720v720H120Zm60-500h600v-160H180v160Zm220 220h160v-160H400v160Zm0 220h160v-160H400v160ZM180-400h160v-160H180v160Zm440 0h160v-160H620v160ZM180-180h160v-160H180v160Zm440 0h160v-160H620v160Z\"/>\n",
              "  </svg>\n",
              "    </button>\n",
              "\n",
              "  <style>\n",
              "    .colab-df-container {\n",
              "      display:flex;\n",
              "      gap: 12px;\n",
              "    }\n",
              "\n",
              "    .colab-df-convert {\n",
              "      background-color: #E8F0FE;\n",
              "      border: none;\n",
              "      border-radius: 50%;\n",
              "      cursor: pointer;\n",
              "      display: none;\n",
              "      fill: #1967D2;\n",
              "      height: 32px;\n",
              "      padding: 0 0 0 0;\n",
              "      width: 32px;\n",
              "    }\n",
              "\n",
              "    .colab-df-convert:hover {\n",
              "      background-color: #E2EBFA;\n",
              "      box-shadow: 0px 1px 2px rgba(60, 64, 67, 0.3), 0px 1px 3px 1px rgba(60, 64, 67, 0.15);\n",
              "      fill: #174EA6;\n",
              "    }\n",
              "\n",
              "    .colab-df-buttons div {\n",
              "      margin-bottom: 4px;\n",
              "    }\n",
              "\n",
              "    [theme=dark] .colab-df-convert {\n",
              "      background-color: #3B4455;\n",
              "      fill: #D2E3FC;\n",
              "    }\n",
              "\n",
              "    [theme=dark] .colab-df-convert:hover {\n",
              "      background-color: #434B5C;\n",
              "      box-shadow: 0px 1px 3px 1px rgba(0, 0, 0, 0.15);\n",
              "      filter: drop-shadow(0px 1px 2px rgba(0, 0, 0, 0.3));\n",
              "      fill: #FFFFFF;\n",
              "    }\n",
              "  </style>\n",
              "\n",
              "    <script>\n",
              "      const buttonEl =\n",
              "        document.querySelector('#df-7b37d9f7-363d-482c-a69b-f9c7a99c183a button.colab-df-convert');\n",
              "      buttonEl.style.display =\n",
              "        google.colab.kernel.accessAllowed ? 'block' : 'none';\n",
              "\n",
              "      async function convertToInteractive(key) {\n",
              "        const element = document.querySelector('#df-7b37d9f7-363d-482c-a69b-f9c7a99c183a');\n",
              "        const dataTable =\n",
              "          await google.colab.kernel.invokeFunction('convertToInteractive',\n",
              "                                                    [key], {});\n",
              "        if (!dataTable) return;\n",
              "\n",
              "        const docLinkHtml = 'Like what you see? Visit the ' +\n",
              "          '<a target=\"_blank\" href=https://colab.research.google.com/notebooks/data_table.ipynb>data table notebook</a>'\n",
              "          + ' to learn more about interactive tables.';\n",
              "        element.innerHTML = '';\n",
              "        dataTable['output_type'] = 'display_data';\n",
              "        await google.colab.output.renderOutput(dataTable, element);\n",
              "        const docLink = document.createElement('div');\n",
              "        docLink.innerHTML = docLinkHtml;\n",
              "        element.appendChild(docLink);\n",
              "      }\n",
              "    </script>\n",
              "  </div>\n",
              "\n",
              "\n",
              "<div id=\"df-db25aa1a-bd92-46aa-b8b2-7b290e97c8b7\">\n",
              "  <button class=\"colab-df-quickchart\" onclick=\"quickchart('df-db25aa1a-bd92-46aa-b8b2-7b290e97c8b7')\"\n",
              "            title=\"Suggest charts.\"\n",
              "            style=\"display:none;\">\n",
              "\n",
              "<svg xmlns=\"http://www.w3.org/2000/svg\" height=\"24px\"viewBox=\"0 0 24 24\"\n",
              "     width=\"24px\">\n",
              "    <g>\n",
              "        <path d=\"M19 3H5c-1.1 0-2 .9-2 2v14c0 1.1.9 2 2 2h14c1.1 0 2-.9 2-2V5c0-1.1-.9-2-2-2zM9 17H7v-7h2v7zm4 0h-2V7h2v10zm4 0h-2v-4h2v4z\"/>\n",
              "    </g>\n",
              "</svg>\n",
              "  </button>\n",
              "\n",
              "<style>\n",
              "  .colab-df-quickchart {\n",
              "      --bg-color: #E8F0FE;\n",
              "      --fill-color: #1967D2;\n",
              "      --hover-bg-color: #E2EBFA;\n",
              "      --hover-fill-color: #174EA6;\n",
              "      --disabled-fill-color: #AAA;\n",
              "      --disabled-bg-color: #DDD;\n",
              "  }\n",
              "\n",
              "  [theme=dark] .colab-df-quickchart {\n",
              "      --bg-color: #3B4455;\n",
              "      --fill-color: #D2E3FC;\n",
              "      --hover-bg-color: #434B5C;\n",
              "      --hover-fill-color: #FFFFFF;\n",
              "      --disabled-bg-color: #3B4455;\n",
              "      --disabled-fill-color: #666;\n",
              "  }\n",
              "\n",
              "  .colab-df-quickchart {\n",
              "    background-color: var(--bg-color);\n",
              "    border: none;\n",
              "    border-radius: 50%;\n",
              "    cursor: pointer;\n",
              "    display: none;\n",
              "    fill: var(--fill-color);\n",
              "    height: 32px;\n",
              "    padding: 0;\n",
              "    width: 32px;\n",
              "  }\n",
              "\n",
              "  .colab-df-quickchart:hover {\n",
              "    background-color: var(--hover-bg-color);\n",
              "    box-shadow: 0 1px 2px rgba(60, 64, 67, 0.3), 0 1px 3px 1px rgba(60, 64, 67, 0.15);\n",
              "    fill: var(--button-hover-fill-color);\n",
              "  }\n",
              "\n",
              "  .colab-df-quickchart-complete:disabled,\n",
              "  .colab-df-quickchart-complete:disabled:hover {\n",
              "    background-color: var(--disabled-bg-color);\n",
              "    fill: var(--disabled-fill-color);\n",
              "    box-shadow: none;\n",
              "  }\n",
              "\n",
              "  .colab-df-spinner {\n",
              "    border: 2px solid var(--fill-color);\n",
              "    border-color: transparent;\n",
              "    border-bottom-color: var(--fill-color);\n",
              "    animation:\n",
              "      spin 1s steps(1) infinite;\n",
              "  }\n",
              "\n",
              "  @keyframes spin {\n",
              "    0% {\n",
              "      border-color: transparent;\n",
              "      border-bottom-color: var(--fill-color);\n",
              "      border-left-color: var(--fill-color);\n",
              "    }\n",
              "    20% {\n",
              "      border-color: transparent;\n",
              "      border-left-color: var(--fill-color);\n",
              "      border-top-color: var(--fill-color);\n",
              "    }\n",
              "    30% {\n",
              "      border-color: transparent;\n",
              "      border-left-color: var(--fill-color);\n",
              "      border-top-color: var(--fill-color);\n",
              "      border-right-color: var(--fill-color);\n",
              "    }\n",
              "    40% {\n",
              "      border-color: transparent;\n",
              "      border-right-color: var(--fill-color);\n",
              "      border-top-color: var(--fill-color);\n",
              "    }\n",
              "    60% {\n",
              "      border-color: transparent;\n",
              "      border-right-color: var(--fill-color);\n",
              "    }\n",
              "    80% {\n",
              "      border-color: transparent;\n",
              "      border-right-color: var(--fill-color);\n",
              "      border-bottom-color: var(--fill-color);\n",
              "    }\n",
              "    90% {\n",
              "      border-color: transparent;\n",
              "      border-bottom-color: var(--fill-color);\n",
              "    }\n",
              "  }\n",
              "</style>\n",
              "\n",
              "  <script>\n",
              "    async function quickchart(key) {\n",
              "      const quickchartButtonEl =\n",
              "        document.querySelector('#' + key + ' button');\n",
              "      quickchartButtonEl.disabled = true;  // To prevent multiple clicks.\n",
              "      quickchartButtonEl.classList.add('colab-df-spinner');\n",
              "      try {\n",
              "        const charts = await google.colab.kernel.invokeFunction(\n",
              "            'suggestCharts', [key], {});\n",
              "      } catch (error) {\n",
              "        console.error('Error during call to suggestCharts:', error);\n",
              "      }\n",
              "      quickchartButtonEl.classList.remove('colab-df-spinner');\n",
              "      quickchartButtonEl.classList.add('colab-df-quickchart-complete');\n",
              "    }\n",
              "    (() => {\n",
              "      let quickchartButtonEl =\n",
              "        document.querySelector('#df-db25aa1a-bd92-46aa-b8b2-7b290e97c8b7 button');\n",
              "      quickchartButtonEl.style.display =\n",
              "        google.colab.kernel.accessAllowed ? 'block' : 'none';\n",
              "    })();\n",
              "  </script>\n",
              "</div>\n",
              "    </div>\n",
              "  </div>\n"
            ]
          },
          "metadata": {},
          "execution_count": 3
        }
      ]
    },
    {
      "cell_type": "code",
      "source": [
        "y = df[\"price\"].values\n",
        "X = df.drop(\"price\", axis=1).values"
      ],
      "metadata": {
        "id": "8PGicf3_D7ya"
      },
      "execution_count": 4,
      "outputs": []
    },
    {
      "cell_type": "markdown",
      "source": [
        "##Train/Test Split"
      ],
      "metadata": {
        "id": "WGtcXtSlDqJ7"
      }
    },
    {
      "cell_type": "code",
      "source": [
        "from sklearn.model_selection import train_test_split"
      ],
      "metadata": {
        "id": "fofS4LKSDvqx"
      },
      "execution_count": 5,
      "outputs": []
    },
    {
      "cell_type": "code",
      "source": [
        "X_train, X_test, y_train, y_test = train_test_split(X, y, test_size=0.3, random_state=42)"
      ],
      "metadata": {
        "id": "Ey3TiNWVD2H-"
      },
      "execution_count": 6,
      "outputs": []
    },
    {
      "cell_type": "markdown",
      "source": [
        "##Scale"
      ],
      "metadata": {
        "id": "BMPspgceEYd5"
      }
    },
    {
      "cell_type": "code",
      "source": [
        "from sklearn.preprocessing import MinMaxScaler"
      ],
      "metadata": {
        "id": "Mybar7KUD3Yh"
      },
      "execution_count": 21,
      "outputs": []
    },
    {
      "cell_type": "code",
      "source": [
        "scaler = MinMaxScaler()"
      ],
      "metadata": {
        "id": "7L1yw_nwEe14"
      },
      "execution_count": 22,
      "outputs": []
    },
    {
      "cell_type": "code",
      "source": [
        "scaler.fit(X_train)"
      ],
      "metadata": {
        "colab": {
          "base_uri": "https://localhost:8080/",
          "height": 84
        },
        "id": "0MBy3d8nEhu-",
        "outputId": "6b7952cc-907d-45a5-be39-240f3f18bb91"
      },
      "execution_count": 23,
      "outputs": [
        {
          "output_type": "execute_result",
          "data": {
            "text/plain": [
              "MinMaxScaler()"
            ],
            "text/html": [
              "<style>#sk-container-id-2 {color: black;background-color: white;}#sk-container-id-2 pre{padding: 0;}#sk-container-id-2 div.sk-toggleable {background-color: white;}#sk-container-id-2 label.sk-toggleable__label {cursor: pointer;display: block;width: 100%;margin-bottom: 0;padding: 0.3em;box-sizing: border-box;text-align: center;}#sk-container-id-2 label.sk-toggleable__label-arrow:before {content: \"▸\";float: left;margin-right: 0.25em;color: #696969;}#sk-container-id-2 label.sk-toggleable__label-arrow:hover:before {color: black;}#sk-container-id-2 div.sk-estimator:hover label.sk-toggleable__label-arrow:before {color: black;}#sk-container-id-2 div.sk-toggleable__content {max-height: 0;max-width: 0;overflow: hidden;text-align: left;background-color: #f0f8ff;}#sk-container-id-2 div.sk-toggleable__content pre {margin: 0.2em;color: black;border-radius: 0.25em;background-color: #f0f8ff;}#sk-container-id-2 input.sk-toggleable__control:checked~div.sk-toggleable__content {max-height: 200px;max-width: 100%;overflow: auto;}#sk-container-id-2 input.sk-toggleable__control:checked~label.sk-toggleable__label-arrow:before {content: \"▾\";}#sk-container-id-2 div.sk-estimator input.sk-toggleable__control:checked~label.sk-toggleable__label {background-color: #d4ebff;}#sk-container-id-2 div.sk-label input.sk-toggleable__control:checked~label.sk-toggleable__label {background-color: #d4ebff;}#sk-container-id-2 input.sk-hidden--visually {border: 0;clip: rect(1px 1px 1px 1px);clip: rect(1px, 1px, 1px, 1px);height: 1px;margin: -1px;overflow: hidden;padding: 0;position: absolute;width: 1px;}#sk-container-id-2 div.sk-estimator {font-family: monospace;background-color: #f0f8ff;border: 1px dotted black;border-radius: 0.25em;box-sizing: border-box;margin-bottom: 0.5em;}#sk-container-id-2 div.sk-estimator:hover {background-color: #d4ebff;}#sk-container-id-2 div.sk-parallel-item::after {content: \"\";width: 100%;border-bottom: 1px solid gray;flex-grow: 1;}#sk-container-id-2 div.sk-label:hover label.sk-toggleable__label {background-color: #d4ebff;}#sk-container-id-2 div.sk-serial::before {content: \"\";position: absolute;border-left: 1px solid gray;box-sizing: border-box;top: 0;bottom: 0;left: 50%;z-index: 0;}#sk-container-id-2 div.sk-serial {display: flex;flex-direction: column;align-items: center;background-color: white;padding-right: 0.2em;padding-left: 0.2em;position: relative;}#sk-container-id-2 div.sk-item {position: relative;z-index: 1;}#sk-container-id-2 div.sk-parallel {display: flex;align-items: stretch;justify-content: center;background-color: white;position: relative;}#sk-container-id-2 div.sk-item::before, #sk-container-id-2 div.sk-parallel-item::before {content: \"\";position: absolute;border-left: 1px solid gray;box-sizing: border-box;top: 0;bottom: 0;left: 50%;z-index: -1;}#sk-container-id-2 div.sk-parallel-item {display: flex;flex-direction: column;z-index: 1;position: relative;background-color: white;}#sk-container-id-2 div.sk-parallel-item:first-child::after {align-self: flex-end;width: 50%;}#sk-container-id-2 div.sk-parallel-item:last-child::after {align-self: flex-start;width: 50%;}#sk-container-id-2 div.sk-parallel-item:only-child::after {width: 0;}#sk-container-id-2 div.sk-dashed-wrapped {border: 1px dashed gray;margin: 0 0.4em 0.5em 0.4em;box-sizing: border-box;padding-bottom: 0.4em;background-color: white;}#sk-container-id-2 div.sk-label label {font-family: monospace;font-weight: bold;display: inline-block;line-height: 1.2em;}#sk-container-id-2 div.sk-label-container {text-align: center;}#sk-container-id-2 div.sk-container {/* jupyter's `normalize.less` sets `[hidden] { display: none; }` but bootstrap.min.css set `[hidden] { display: none !important; }` so we also need the `!important` here to be able to override the default hidden behavior on the sphinx rendered scikit-learn.org. See: https://github.com/scikit-learn/scikit-learn/issues/21755 */display: inline-block !important;position: relative;}#sk-container-id-2 div.sk-text-repr-fallback {display: none;}</style><div id=\"sk-container-id-2\" class=\"sk-top-container\"><div class=\"sk-text-repr-fallback\"><pre>MinMaxScaler()</pre><b>In a Jupyter environment, please rerun this cell to show the HTML representation or trust the notebook. <br />On GitHub, the HTML representation is unable to render, please try loading this page with nbviewer.org.</b></div><div class=\"sk-container\" hidden><div class=\"sk-item\"><div class=\"sk-estimator sk-toggleable\"><input class=\"sk-toggleable__control sk-hidden--visually\" id=\"sk-estimator-id-2\" type=\"checkbox\" checked><label for=\"sk-estimator-id-2\" class=\"sk-toggleable__label sk-toggleable__label-arrow\">MinMaxScaler</label><div class=\"sk-toggleable__content\"><pre>MinMaxScaler()</pre></div></div></div></div></div>"
            ]
          },
          "metadata": {},
          "execution_count": 23
        }
      ]
    },
    {
      "cell_type": "code",
      "source": [
        "X_train_scaled = scaler.transform(X_train)\n",
        "X_test_scaled = scaler.transform(X_test)"
      ],
      "metadata": {
        "id": "pKRHgsnaEmWM"
      },
      "execution_count": 24,
      "outputs": []
    },
    {
      "cell_type": "markdown",
      "source": [
        "#Import Keras"
      ],
      "metadata": {
        "id": "ly68cAZSG2Ry"
      }
    },
    {
      "cell_type": "code",
      "source": [
        "from tensorflow.keras.models import Sequential\n",
        "from tensorflow.keras.layers import Dense"
      ],
      "metadata": {
        "id": "HP3Af3ITG4S5"
      },
      "execution_count": 25,
      "outputs": []
    },
    {
      "cell_type": "code",
      "source": [
        "model = Sequential()"
      ],
      "metadata": {
        "id": "UfxeNWO_HZ20"
      },
      "execution_count": 26,
      "outputs": []
    },
    {
      "cell_type": "code",
      "source": [
        "model.add(Dense(4, activation=\"relu\"))\n",
        "model.add(Dense(4, activation=\"relu\"))\n",
        "model.add(Dense(4, activation=\"relu\"))\n",
        "model.add(Dense(1))"
      ],
      "metadata": {
        "id": "VA76wiRgHiMN"
      },
      "execution_count": 27,
      "outputs": []
    },
    {
      "cell_type": "markdown",
      "source": [
        "[optimizers](https://www.tensorflow.org/api_docs/python/tf/keras/optimizers)\n",
        "\n",
        "[losses](https://www.tensorflow.org/api_docs/python/tf/keras/losses)"
      ],
      "metadata": {
        "id": "0XM3sW-8NM1I"
      }
    },
    {
      "cell_type": "code",
      "source": [
        "model.compile(optimizer='rmsprop', loss='mse')"
      ],
      "metadata": {
        "id": "ezpt0JlQI_sA"
      },
      "execution_count": 28,
      "outputs": []
    },
    {
      "cell_type": "code",
      "source": [
        "model.fit(x=X_train_scaled, y=y_train, epochs=250)"
      ],
      "metadata": {
        "id": "7MofPJBrH-ye",
        "colab": {
          "base_uri": "https://localhost:8080/"
        },
        "outputId": "f74e30f1-fc82-4889-b901-c2808df53ecb"
      },
      "execution_count": 29,
      "outputs": [
        {
          "output_type": "stream",
          "name": "stdout",
          "text": [
            "Epoch 1/250\n",
            "22/22 [==============================] - 1s 2ms/step - loss: 256711.3906\n",
            "Epoch 2/250\n",
            "22/22 [==============================] - 0s 2ms/step - loss: 256660.2031\n",
            "Epoch 3/250\n",
            "22/22 [==============================] - 0s 2ms/step - loss: 256607.6562\n",
            "Epoch 4/250\n",
            "22/22 [==============================] - 0s 2ms/step - loss: 256544.9844\n",
            "Epoch 5/250\n",
            "22/22 [==============================] - 0s 2ms/step - loss: 256470.8125\n",
            "Epoch 6/250\n",
            "22/22 [==============================] - 0s 2ms/step - loss: 256383.7656\n",
            "Epoch 7/250\n",
            "22/22 [==============================] - 0s 2ms/step - loss: 256279.8125\n",
            "Epoch 8/250\n",
            "22/22 [==============================] - 0s 2ms/step - loss: 256155.9531\n",
            "Epoch 9/250\n",
            "22/22 [==============================] - 0s 3ms/step - loss: 256004.2031\n",
            "Epoch 10/250\n",
            "22/22 [==============================] - 0s 3ms/step - loss: 255818.7812\n",
            "Epoch 11/250\n",
            "22/22 [==============================] - 0s 3ms/step - loss: 255593.2969\n",
            "Epoch 12/250\n",
            "22/22 [==============================] - 0s 3ms/step - loss: 255322.0781\n",
            "Epoch 13/250\n",
            "22/22 [==============================] - 0s 2ms/step - loss: 255004.8906\n",
            "Epoch 14/250\n",
            "22/22 [==============================] - 0s 3ms/step - loss: 254636.9531\n",
            "Epoch 15/250\n",
            "22/22 [==============================] - 0s 2ms/step - loss: 254211.4531\n",
            "Epoch 16/250\n",
            "22/22 [==============================] - 0s 3ms/step - loss: 253728.0938\n",
            "Epoch 17/250\n",
            "22/22 [==============================] - 0s 3ms/step - loss: 253178.8125\n",
            "Epoch 18/250\n",
            "22/22 [==============================] - 0s 2ms/step - loss: 252562.3125\n",
            "Epoch 19/250\n",
            "22/22 [==============================] - 0s 3ms/step - loss: 251869.3750\n",
            "Epoch 20/250\n",
            "22/22 [==============================] - 0s 2ms/step - loss: 251098.9531\n",
            "Epoch 21/250\n",
            "22/22 [==============================] - 0s 2ms/step - loss: 250239.6875\n",
            "Epoch 22/250\n",
            "22/22 [==============================] - 0s 3ms/step - loss: 249291.9844\n",
            "Epoch 23/250\n",
            "22/22 [==============================] - 0s 2ms/step - loss: 248248.7500\n",
            "Epoch 24/250\n",
            "22/22 [==============================] - 0s 2ms/step - loss: 247103.9531\n",
            "Epoch 25/250\n",
            "22/22 [==============================] - 0s 2ms/step - loss: 245855.2656\n",
            "Epoch 26/250\n",
            "22/22 [==============================] - 0s 2ms/step - loss: 244492.3594\n",
            "Epoch 27/250\n",
            "22/22 [==============================] - 0s 2ms/step - loss: 243004.0938\n",
            "Epoch 28/250\n",
            "22/22 [==============================] - 0s 2ms/step - loss: 241397.1719\n",
            "Epoch 29/250\n",
            "22/22 [==============================] - 0s 2ms/step - loss: 239660.4375\n",
            "Epoch 30/250\n",
            "22/22 [==============================] - 0s 2ms/step - loss: 237787.5156\n",
            "Epoch 31/250\n",
            "22/22 [==============================] - 0s 2ms/step - loss: 235770.2656\n",
            "Epoch 32/250\n",
            "22/22 [==============================] - 0s 2ms/step - loss: 233599.0781\n",
            "Epoch 33/250\n",
            "22/22 [==============================] - 0s 2ms/step - loss: 231286.5312\n",
            "Epoch 34/250\n",
            "22/22 [==============================] - 0s 2ms/step - loss: 228820.1094\n",
            "Epoch 35/250\n",
            "22/22 [==============================] - 0s 2ms/step - loss: 226180.2969\n",
            "Epoch 36/250\n",
            "22/22 [==============================] - 0s 2ms/step - loss: 223379.5625\n",
            "Epoch 37/250\n",
            "22/22 [==============================] - 0s 2ms/step - loss: 220409.5312\n",
            "Epoch 38/250\n",
            "22/22 [==============================] - 0s 2ms/step - loss: 217263.2500\n",
            "Epoch 39/250\n",
            "22/22 [==============================] - 0s 2ms/step - loss: 213938.5625\n",
            "Epoch 40/250\n",
            "22/22 [==============================] - 0s 2ms/step - loss: 210423.5625\n",
            "Epoch 41/250\n",
            "22/22 [==============================] - 0s 2ms/step - loss: 206723.9844\n",
            "Epoch 42/250\n",
            "22/22 [==============================] - 0s 2ms/step - loss: 202834.1562\n",
            "Epoch 43/250\n",
            "22/22 [==============================] - 0s 2ms/step - loss: 198758.4531\n",
            "Epoch 44/250\n",
            "22/22 [==============================] - 0s 2ms/step - loss: 194498.1562\n",
            "Epoch 45/250\n",
            "22/22 [==============================] - 0s 2ms/step - loss: 190043.5000\n",
            "Epoch 46/250\n",
            "22/22 [==============================] - 0s 2ms/step - loss: 185365.9531\n",
            "Epoch 47/250\n",
            "22/22 [==============================] - 0s 2ms/step - loss: 180518.3438\n",
            "Epoch 48/250\n",
            "22/22 [==============================] - 0s 2ms/step - loss: 175480.3125\n",
            "Epoch 49/250\n",
            "22/22 [==============================] - 0s 2ms/step - loss: 170256.6406\n",
            "Epoch 50/250\n",
            "22/22 [==============================] - 0s 2ms/step - loss: 164835.5156\n",
            "Epoch 51/250\n",
            "22/22 [==============================] - 0s 3ms/step - loss: 159262.4844\n",
            "Epoch 52/250\n",
            "22/22 [==============================] - 0s 4ms/step - loss: 153523.2031\n",
            "Epoch 53/250\n",
            "22/22 [==============================] - 0s 3ms/step - loss: 147534.5000\n",
            "Epoch 54/250\n",
            "22/22 [==============================] - 0s 3ms/step - loss: 141446.7031\n",
            "Epoch 55/250\n",
            "22/22 [==============================] - 0s 3ms/step - loss: 135217.9844\n",
            "Epoch 56/250\n",
            "22/22 [==============================] - 0s 3ms/step - loss: 128830.6250\n",
            "Epoch 57/250\n",
            "22/22 [==============================] - 0s 3ms/step - loss: 122343.7578\n",
            "Epoch 58/250\n",
            "22/22 [==============================] - 0s 3ms/step - loss: 115740.8828\n",
            "Epoch 59/250\n",
            "22/22 [==============================] - 0s 3ms/step - loss: 109049.6719\n",
            "Epoch 60/250\n",
            "22/22 [==============================] - 0s 2ms/step - loss: 102266.1250\n",
            "Epoch 61/250\n",
            "22/22 [==============================] - 0s 2ms/step - loss: 95469.7734\n",
            "Epoch 62/250\n",
            "22/22 [==============================] - 0s 2ms/step - loss: 88619.7891\n",
            "Epoch 63/250\n",
            "22/22 [==============================] - 0s 2ms/step - loss: 81777.8047\n",
            "Epoch 64/250\n",
            "22/22 [==============================] - 0s 2ms/step - loss: 74932.2500\n",
            "Epoch 65/250\n",
            "22/22 [==============================] - 0s 2ms/step - loss: 68117.0234\n",
            "Epoch 66/250\n",
            "22/22 [==============================] - 0s 2ms/step - loss: 61500.3555\n",
            "Epoch 67/250\n",
            "22/22 [==============================] - 0s 2ms/step - loss: 54929.1641\n",
            "Epoch 68/250\n",
            "22/22 [==============================] - 0s 2ms/step - loss: 48518.1211\n",
            "Epoch 69/250\n",
            "22/22 [==============================] - 0s 2ms/step - loss: 42409.3594\n",
            "Epoch 70/250\n",
            "22/22 [==============================] - 0s 3ms/step - loss: 36479.4844\n",
            "Epoch 71/250\n",
            "22/22 [==============================] - 0s 2ms/step - loss: 30793.6895\n",
            "Epoch 72/250\n",
            "22/22 [==============================] - 0s 2ms/step - loss: 25523.7949\n",
            "Epoch 73/250\n",
            "22/22 [==============================] - 0s 2ms/step - loss: 20652.9902\n",
            "Epoch 74/250\n",
            "22/22 [==============================] - 0s 2ms/step - loss: 16191.4268\n",
            "Epoch 75/250\n",
            "22/22 [==============================] - 0s 2ms/step - loss: 12263.5029\n",
            "Epoch 76/250\n",
            "22/22 [==============================] - 0s 2ms/step - loss: 8876.1133\n",
            "Epoch 77/250\n",
            "22/22 [==============================] - 0s 2ms/step - loss: 6116.3838\n",
            "Epoch 78/250\n",
            "22/22 [==============================] - 0s 2ms/step - loss: 4044.1775\n",
            "Epoch 79/250\n",
            "22/22 [==============================] - 0s 2ms/step - loss: 2662.9771\n",
            "Epoch 80/250\n",
            "22/22 [==============================] - 0s 2ms/step - loss: 1932.8203\n",
            "Epoch 81/250\n",
            "22/22 [==============================] - 0s 2ms/step - loss: 1676.3577\n",
            "Epoch 82/250\n",
            "22/22 [==============================] - 0s 2ms/step - loss: 1626.4390\n",
            "Epoch 83/250\n",
            "22/22 [==============================] - 0s 2ms/step - loss: 1596.6378\n",
            "Epoch 84/250\n",
            "22/22 [==============================] - 0s 2ms/step - loss: 1562.5703\n",
            "Epoch 85/250\n",
            "22/22 [==============================] - 0s 2ms/step - loss: 1529.5212\n",
            "Epoch 86/250\n",
            "22/22 [==============================] - 0s 2ms/step - loss: 1500.4791\n",
            "Epoch 87/250\n",
            "22/22 [==============================] - 0s 3ms/step - loss: 1464.5471\n",
            "Epoch 88/250\n",
            "22/22 [==============================] - 0s 4ms/step - loss: 1437.1891\n",
            "Epoch 89/250\n",
            "22/22 [==============================] - 0s 4ms/step - loss: 1407.1790\n",
            "Epoch 90/250\n",
            "22/22 [==============================] - 0s 3ms/step - loss: 1371.8130\n",
            "Epoch 91/250\n",
            "22/22 [==============================] - 0s 4ms/step - loss: 1345.7731\n",
            "Epoch 92/250\n",
            "22/22 [==============================] - 0s 5ms/step - loss: 1318.9390\n",
            "Epoch 93/250\n",
            "22/22 [==============================] - 0s 4ms/step - loss: 1288.8179\n",
            "Epoch 94/250\n",
            "22/22 [==============================] - 0s 3ms/step - loss: 1258.1591\n",
            "Epoch 95/250\n",
            "22/22 [==============================] - 0s 3ms/step - loss: 1229.9449\n",
            "Epoch 96/250\n",
            "22/22 [==============================] - 0s 4ms/step - loss: 1199.5640\n",
            "Epoch 97/250\n",
            "22/22 [==============================] - 0s 4ms/step - loss: 1172.3649\n",
            "Epoch 98/250\n",
            "22/22 [==============================] - 0s 4ms/step - loss: 1147.6577\n",
            "Epoch 99/250\n",
            "22/22 [==============================] - 0s 3ms/step - loss: 1119.8446\n",
            "Epoch 100/250\n",
            "22/22 [==============================] - 0s 3ms/step - loss: 1093.3075\n",
            "Epoch 101/250\n",
            "22/22 [==============================] - 0s 3ms/step - loss: 1062.0424\n",
            "Epoch 102/250\n",
            "22/22 [==============================] - 0s 3ms/step - loss: 1038.9652\n",
            "Epoch 103/250\n",
            "22/22 [==============================] - 0s 3ms/step - loss: 1008.5312\n",
            "Epoch 104/250\n",
            "22/22 [==============================] - 0s 3ms/step - loss: 984.6526\n",
            "Epoch 105/250\n",
            "22/22 [==============================] - 0s 3ms/step - loss: 949.1539\n",
            "Epoch 106/250\n",
            "22/22 [==============================] - 0s 3ms/step - loss: 933.4421\n",
            "Epoch 107/250\n",
            "22/22 [==============================] - 0s 3ms/step - loss: 905.2074\n",
            "Epoch 108/250\n",
            "22/22 [==============================] - 0s 3ms/step - loss: 882.3771\n",
            "Epoch 109/250\n",
            "22/22 [==============================] - 0s 3ms/step - loss: 857.3964\n",
            "Epoch 110/250\n",
            "22/22 [==============================] - 0s 3ms/step - loss: 833.1939\n",
            "Epoch 111/250\n",
            "22/22 [==============================] - 0s 3ms/step - loss: 809.5999\n",
            "Epoch 112/250\n",
            "22/22 [==============================] - 0s 3ms/step - loss: 787.6055\n",
            "Epoch 113/250\n",
            "22/22 [==============================] - 0s 3ms/step - loss: 761.0619\n",
            "Epoch 114/250\n",
            "22/22 [==============================] - 0s 3ms/step - loss: 735.3412\n",
            "Epoch 115/250\n",
            "22/22 [==============================] - 0s 3ms/step - loss: 711.7164\n",
            "Epoch 116/250\n",
            "22/22 [==============================] - 0s 3ms/step - loss: 687.2245\n",
            "Epoch 117/250\n",
            "22/22 [==============================] - 0s 3ms/step - loss: 663.4383\n",
            "Epoch 118/250\n",
            "22/22 [==============================] - 0s 3ms/step - loss: 643.2800\n",
            "Epoch 119/250\n",
            "22/22 [==============================] - 0s 3ms/step - loss: 622.4813\n",
            "Epoch 120/250\n",
            "22/22 [==============================] - 0s 3ms/step - loss: 600.6514\n",
            "Epoch 121/250\n",
            "22/22 [==============================] - 0s 3ms/step - loss: 579.9880\n",
            "Epoch 122/250\n",
            "22/22 [==============================] - 0s 3ms/step - loss: 556.9766\n",
            "Epoch 123/250\n",
            "22/22 [==============================] - 0s 3ms/step - loss: 535.8025\n",
            "Epoch 124/250\n",
            "22/22 [==============================] - 0s 3ms/step - loss: 517.4187\n",
            "Epoch 125/250\n",
            "22/22 [==============================] - 0s 3ms/step - loss: 497.9025\n",
            "Epoch 126/250\n",
            "22/22 [==============================] - 0s 3ms/step - loss: 476.8713\n",
            "Epoch 127/250\n",
            "22/22 [==============================] - 0s 2ms/step - loss: 456.6764\n",
            "Epoch 128/250\n",
            "22/22 [==============================] - 0s 3ms/step - loss: 438.0448\n",
            "Epoch 129/250\n",
            "22/22 [==============================] - 0s 3ms/step - loss: 419.1701\n",
            "Epoch 130/250\n",
            "22/22 [==============================] - 0s 3ms/step - loss: 399.7564\n",
            "Epoch 131/250\n",
            "22/22 [==============================] - 0s 4ms/step - loss: 384.6960\n",
            "Epoch 132/250\n",
            "22/22 [==============================] - 0s 3ms/step - loss: 366.3972\n",
            "Epoch 133/250\n",
            "22/22 [==============================] - 0s 3ms/step - loss: 346.6896\n",
            "Epoch 134/250\n",
            "22/22 [==============================] - 0s 2ms/step - loss: 332.2245\n",
            "Epoch 135/250\n",
            "22/22 [==============================] - 0s 2ms/step - loss: 314.1667\n",
            "Epoch 136/250\n",
            "22/22 [==============================] - 0s 2ms/step - loss: 296.2181\n",
            "Epoch 137/250\n",
            "22/22 [==============================] - 0s 2ms/step - loss: 280.7314\n",
            "Epoch 138/250\n",
            "22/22 [==============================] - 0s 2ms/step - loss: 267.0829\n",
            "Epoch 139/250\n",
            "22/22 [==============================] - 0s 2ms/step - loss: 252.7011\n",
            "Epoch 140/250\n",
            "22/22 [==============================] - 0s 2ms/step - loss: 237.0402\n",
            "Epoch 141/250\n",
            "22/22 [==============================] - 0s 2ms/step - loss: 226.4422\n",
            "Epoch 142/250\n",
            "22/22 [==============================] - 0s 2ms/step - loss: 214.1665\n",
            "Epoch 143/250\n",
            "22/22 [==============================] - 0s 2ms/step - loss: 201.5598\n",
            "Epoch 144/250\n",
            "22/22 [==============================] - 0s 2ms/step - loss: 189.3658\n",
            "Epoch 145/250\n",
            "22/22 [==============================] - 0s 2ms/step - loss: 178.6174\n",
            "Epoch 146/250\n",
            "22/22 [==============================] - 0s 2ms/step - loss: 167.3777\n",
            "Epoch 147/250\n",
            "22/22 [==============================] - 0s 2ms/step - loss: 155.7969\n",
            "Epoch 148/250\n",
            "22/22 [==============================] - 0s 2ms/step - loss: 146.5314\n",
            "Epoch 149/250\n",
            "22/22 [==============================] - 0s 2ms/step - loss: 135.7309\n",
            "Epoch 150/250\n",
            "22/22 [==============================] - 0s 2ms/step - loss: 125.2618\n",
            "Epoch 151/250\n",
            "22/22 [==============================] - 0s 3ms/step - loss: 117.4794\n",
            "Epoch 152/250\n",
            "22/22 [==============================] - 0s 2ms/step - loss: 109.0189\n",
            "Epoch 153/250\n",
            "22/22 [==============================] - 0s 2ms/step - loss: 101.0747\n",
            "Epoch 154/250\n",
            "22/22 [==============================] - 0s 2ms/step - loss: 93.5398\n",
            "Epoch 155/250\n",
            "22/22 [==============================] - 0s 2ms/step - loss: 86.7332\n",
            "Epoch 156/250\n",
            "22/22 [==============================] - 0s 2ms/step - loss: 79.7517\n",
            "Epoch 157/250\n",
            "22/22 [==============================] - 0s 2ms/step - loss: 74.0595\n",
            "Epoch 158/250\n",
            "22/22 [==============================] - 0s 2ms/step - loss: 68.6741\n",
            "Epoch 159/250\n",
            "22/22 [==============================] - 0s 2ms/step - loss: 63.0384\n",
            "Epoch 160/250\n",
            "22/22 [==============================] - 0s 2ms/step - loss: 57.9074\n",
            "Epoch 161/250\n",
            "22/22 [==============================] - 0s 2ms/step - loss: 53.3422\n",
            "Epoch 162/250\n",
            "22/22 [==============================] - 0s 2ms/step - loss: 49.8389\n",
            "Epoch 163/250\n",
            "22/22 [==============================] - 0s 2ms/step - loss: 46.1517\n",
            "Epoch 164/250\n",
            "22/22 [==============================] - 0s 2ms/step - loss: 43.0721\n",
            "Epoch 165/250\n",
            "22/22 [==============================] - 0s 2ms/step - loss: 40.1480\n",
            "Epoch 166/250\n",
            "22/22 [==============================] - 0s 2ms/step - loss: 37.7358\n",
            "Epoch 167/250\n",
            "22/22 [==============================] - 0s 2ms/step - loss: 35.6591\n",
            "Epoch 168/250\n",
            "22/22 [==============================] - 0s 2ms/step - loss: 33.8207\n",
            "Epoch 169/250\n",
            "22/22 [==============================] - 0s 2ms/step - loss: 32.3469\n",
            "Epoch 170/250\n",
            "22/22 [==============================] - 0s 2ms/step - loss: 31.3824\n",
            "Epoch 171/250\n",
            "22/22 [==============================] - 0s 2ms/step - loss: 29.9992\n",
            "Epoch 172/250\n",
            "22/22 [==============================] - 0s 2ms/step - loss: 29.1694\n",
            "Epoch 173/250\n",
            "22/22 [==============================] - 0s 2ms/step - loss: 28.3296\n",
            "Epoch 174/250\n",
            "22/22 [==============================] - 0s 2ms/step - loss: 27.8082\n",
            "Epoch 175/250\n",
            "22/22 [==============================] - 0s 2ms/step - loss: 27.4484\n",
            "Epoch 176/250\n",
            "22/22 [==============================] - 0s 2ms/step - loss: 26.5142\n",
            "Epoch 177/250\n",
            "22/22 [==============================] - 0s 2ms/step - loss: 25.8624\n",
            "Epoch 178/250\n",
            "22/22 [==============================] - 0s 2ms/step - loss: 26.5477\n",
            "Epoch 179/250\n",
            "22/22 [==============================] - 0s 2ms/step - loss: 25.3198\n",
            "Epoch 180/250\n",
            "22/22 [==============================] - 0s 2ms/step - loss: 25.4962\n",
            "Epoch 181/250\n",
            "22/22 [==============================] - 0s 2ms/step - loss: 25.0847\n",
            "Epoch 182/250\n",
            "22/22 [==============================] - 0s 3ms/step - loss: 25.0063\n",
            "Epoch 183/250\n",
            "22/22 [==============================] - 0s 3ms/step - loss: 24.8075\n",
            "Epoch 184/250\n",
            "22/22 [==============================] - 0s 3ms/step - loss: 24.7632\n",
            "Epoch 185/250\n",
            "22/22 [==============================] - 0s 2ms/step - loss: 24.4317\n",
            "Epoch 186/250\n",
            "22/22 [==============================] - 0s 3ms/step - loss: 24.5358\n",
            "Epoch 187/250\n",
            "22/22 [==============================] - 0s 2ms/step - loss: 24.9731\n",
            "Epoch 188/250\n",
            "22/22 [==============================] - 0s 2ms/step - loss: 24.8889\n",
            "Epoch 189/250\n",
            "22/22 [==============================] - 0s 3ms/step - loss: 24.6236\n",
            "Epoch 190/250\n",
            "22/22 [==============================] - 0s 3ms/step - loss: 24.5325\n",
            "Epoch 191/250\n",
            "22/22 [==============================] - 0s 3ms/step - loss: 24.5243\n",
            "Epoch 192/250\n",
            "22/22 [==============================] - 0s 3ms/step - loss: 24.4584\n",
            "Epoch 193/250\n",
            "22/22 [==============================] - 0s 2ms/step - loss: 24.2478\n",
            "Epoch 194/250\n",
            "22/22 [==============================] - 0s 3ms/step - loss: 24.0462\n",
            "Epoch 195/250\n",
            "22/22 [==============================] - 0s 3ms/step - loss: 24.6509\n",
            "Epoch 196/250\n",
            "22/22 [==============================] - 0s 3ms/step - loss: 24.6771\n",
            "Epoch 197/250\n",
            "22/22 [==============================] - 0s 3ms/step - loss: 24.6858\n",
            "Epoch 198/250\n",
            "22/22 [==============================] - 0s 2ms/step - loss: 24.4863\n",
            "Epoch 199/250\n",
            "22/22 [==============================] - 0s 2ms/step - loss: 24.2575\n",
            "Epoch 200/250\n",
            "22/22 [==============================] - 0s 2ms/step - loss: 24.2935\n",
            "Epoch 201/250\n",
            "22/22 [==============================] - 0s 2ms/step - loss: 24.1961\n",
            "Epoch 202/250\n",
            "22/22 [==============================] - 0s 3ms/step - loss: 24.3640\n",
            "Epoch 203/250\n",
            "22/22 [==============================] - 0s 3ms/step - loss: 24.5501\n",
            "Epoch 204/250\n",
            "22/22 [==============================] - 0s 4ms/step - loss: 24.2934\n",
            "Epoch 205/250\n",
            "22/22 [==============================] - 0s 2ms/step - loss: 24.0309\n",
            "Epoch 206/250\n",
            "22/22 [==============================] - 0s 2ms/step - loss: 24.0326\n",
            "Epoch 207/250\n",
            "22/22 [==============================] - 0s 3ms/step - loss: 24.3512\n",
            "Epoch 208/250\n",
            "22/22 [==============================] - 0s 4ms/step - loss: 24.7111\n",
            "Epoch 209/250\n",
            "22/22 [==============================] - 0s 3ms/step - loss: 24.0255\n",
            "Epoch 210/250\n",
            "22/22 [==============================] - 0s 3ms/step - loss: 24.4638\n",
            "Epoch 211/250\n",
            "22/22 [==============================] - 0s 3ms/step - loss: 23.9249\n",
            "Epoch 212/250\n",
            "22/22 [==============================] - 0s 3ms/step - loss: 24.2459\n",
            "Epoch 213/250\n",
            "22/22 [==============================] - 0s 3ms/step - loss: 24.2678\n",
            "Epoch 214/250\n",
            "22/22 [==============================] - 0s 3ms/step - loss: 24.5938\n",
            "Epoch 215/250\n",
            "22/22 [==============================] - 0s 2ms/step - loss: 24.2129\n",
            "Epoch 216/250\n",
            "22/22 [==============================] - 0s 2ms/step - loss: 24.4075\n",
            "Epoch 217/250\n",
            "22/22 [==============================] - 0s 2ms/step - loss: 24.1707\n",
            "Epoch 218/250\n",
            "22/22 [==============================] - 0s 2ms/step - loss: 24.2054\n",
            "Epoch 219/250\n",
            "22/22 [==============================] - 0s 3ms/step - loss: 24.4035\n",
            "Epoch 220/250\n",
            "22/22 [==============================] - 0s 3ms/step - loss: 24.4473\n",
            "Epoch 221/250\n",
            "22/22 [==============================] - 0s 2ms/step - loss: 24.4254\n",
            "Epoch 222/250\n",
            "22/22 [==============================] - 0s 3ms/step - loss: 24.5304\n",
            "Epoch 223/250\n",
            "22/22 [==============================] - 0s 3ms/step - loss: 24.5728\n",
            "Epoch 224/250\n",
            "22/22 [==============================] - 0s 2ms/step - loss: 24.2408\n",
            "Epoch 225/250\n",
            "22/22 [==============================] - 0s 2ms/step - loss: 24.3562\n",
            "Epoch 226/250\n",
            "22/22 [==============================] - 0s 3ms/step - loss: 24.4522\n",
            "Epoch 227/250\n",
            "22/22 [==============================] - 0s 3ms/step - loss: 24.4570\n",
            "Epoch 228/250\n",
            "22/22 [==============================] - 0s 3ms/step - loss: 24.3515\n",
            "Epoch 229/250\n",
            "22/22 [==============================] - 0s 3ms/step - loss: 24.1232\n",
            "Epoch 230/250\n",
            "22/22 [==============================] - 0s 3ms/step - loss: 24.5814\n",
            "Epoch 231/250\n",
            "22/22 [==============================] - 0s 2ms/step - loss: 24.5198\n",
            "Epoch 232/250\n",
            "22/22 [==============================] - 0s 3ms/step - loss: 24.4648\n",
            "Epoch 233/250\n",
            "22/22 [==============================] - 0s 2ms/step - loss: 24.4071\n",
            "Epoch 234/250\n",
            "22/22 [==============================] - 0s 3ms/step - loss: 24.1310\n",
            "Epoch 235/250\n",
            "22/22 [==============================] - 0s 3ms/step - loss: 24.5547\n",
            "Epoch 236/250\n",
            "22/22 [==============================] - 0s 3ms/step - loss: 24.2032\n",
            "Epoch 237/250\n",
            "22/22 [==============================] - 0s 2ms/step - loss: 24.2507\n",
            "Epoch 238/250\n",
            "22/22 [==============================] - 0s 2ms/step - loss: 24.5357\n",
            "Epoch 239/250\n",
            "22/22 [==============================] - 0s 2ms/step - loss: 24.1238\n",
            "Epoch 240/250\n",
            "22/22 [==============================] - 0s 3ms/step - loss: 24.4738\n",
            "Epoch 241/250\n",
            "22/22 [==============================] - 0s 3ms/step - loss: 24.3978\n",
            "Epoch 242/250\n",
            "22/22 [==============================] - 0s 3ms/step - loss: 24.6990\n",
            "Epoch 243/250\n",
            "22/22 [==============================] - 0s 2ms/step - loss: 24.3482\n",
            "Epoch 244/250\n",
            "22/22 [==============================] - 0s 2ms/step - loss: 24.4640\n",
            "Epoch 245/250\n",
            "22/22 [==============================] - 0s 2ms/step - loss: 23.9797\n",
            "Epoch 246/250\n",
            "22/22 [==============================] - 0s 2ms/step - loss: 24.5598\n",
            "Epoch 247/250\n",
            "22/22 [==============================] - 0s 2ms/step - loss: 24.3648\n",
            "Epoch 248/250\n",
            "22/22 [==============================] - 0s 2ms/step - loss: 24.2230\n",
            "Epoch 249/250\n",
            "22/22 [==============================] - 0s 2ms/step - loss: 24.3977\n",
            "Epoch 250/250\n",
            "22/22 [==============================] - 0s 2ms/step - loss: 23.9050\n"
          ]
        },
        {
          "output_type": "execute_result",
          "data": {
            "text/plain": [
              "<keras.src.callbacks.History at 0x7f2f44c2b520>"
            ]
          },
          "metadata": {},
          "execution_count": 29
        }
      ]
    },
    {
      "cell_type": "code",
      "source": [
        "loss_df = pd.DataFrame(model.history.history)"
      ],
      "metadata": {
        "id": "qjZNrXAcJpM3"
      },
      "execution_count": 30,
      "outputs": []
    },
    {
      "cell_type": "code",
      "source": [
        "loss_df.plot()"
      ],
      "metadata": {
        "colab": {
          "base_uri": "https://localhost:8080/",
          "height": 452
        },
        "id": "6fmt-RG6JxXO",
        "outputId": "083ebad0-67be-4433-8000-7856f483ac0f"
      },
      "execution_count": 31,
      "outputs": [
        {
          "output_type": "execute_result",
          "data": {
            "text/plain": [
              "<Axes: >"
            ]
          },
          "metadata": {},
          "execution_count": 31
        },
        {
          "output_type": "display_data",
          "data": {
            "text/plain": [
              "<Figure size 640x480 with 1 Axes>"
            ],
            "image/png": "[encoded data removed]"
          },
          "metadata": {}
        }
      ]
    },
    {
      "cell_type": "code",
      "source": [
        "model.evaluate(X_test_scaled, y_test, verbose=0)"
      ],
      "metadata": {
        "colab": {
          "base_uri": "https://localhost:8080/"
        },
        "id": "5HN63FFNDu8f",
        "outputId": "bfc67ed7-bc3e-4e94-ab16-058eec5f0187"
      },
      "execution_count": 32,
      "outputs": [
        {
          "output_type": "execute_result",
          "data": {
            "text/plain": [
              "26.096593856811523"
            ]
          },
          "metadata": {},
          "execution_count": 32
        }
      ]
    },
    {
      "cell_type": "markdown",
      "source": [
        "##Predict"
      ],
      "metadata": {
        "id": "N_6AEwjcGcGz"
      }
    },
    {
      "cell_type": "code",
      "source": [
        "test_preds = model.predict(X_test_scaled)"
      ],
      "metadata": {
        "colab": {
          "base_uri": "https://localhost:8080/"
        },
        "id": "-QufEVBlGdlJ",
        "outputId": "7eceb619-48d5-4e05-e502-dc8a6084f515"
      },
      "execution_count": 33,
      "outputs": [
        {
          "output_type": "stream",
          "name": "stdout",
          "text": [
            "10/10 [==============================] - 0s 2ms/step\n"
          ]
        }
      ]
    },
    {
      "cell_type": "markdown",
      "source": [
        "##Create DataFrame"
      ],
      "metadata": {
        "id": "vLNaBe1gIHh2"
      }
    },
    {
      "cell_type": "code",
      "source": [
        "test_preds.shape"
      ],
      "metadata": {
        "colab": {
          "base_uri": "https://localhost:8080/"
        },
        "id": "V3to-OLmGoZI",
        "outputId": "adeb1a0c-3330-41bc-f2e3-1abf4f0401d2"
      },
      "execution_count": 35,
      "outputs": [
        {
          "output_type": "execute_result",
          "data": {
            "text/plain": [
              "(300, 1)"
            ]
          },
          "metadata": {},
          "execution_count": 35
        }
      ]
    },
    {
      "cell_type": "code",
      "source": [
        "test_preds = pd.DataFrame(test_preds.reshape(300,))"
      ],
      "metadata": {
        "id": "LvcbEHdwGosw"
      },
      "execution_count": 42,
      "outputs": []
    },
    {
      "cell_type": "code",
      "source": [
        "preds_df = pd.DataFrame(y_test)"
      ],
      "metadata": {
        "id": "YEXZYeMCHpWf"
      },
      "execution_count": 45,
      "outputs": []
    },
    {
      "cell_type": "code",
      "source": [
        "preds_df = pd.concat([preds_df, test_preds], axis=1)"
      ],
      "metadata": {
        "id": "-2ni4d40HCJ1"
      },
      "execution_count": 46,
      "outputs": []
    },
    {
      "cell_type": "code",
      "source": [
        "preds_df.columns = [\"True y\", \"Predictions\"]"
      ],
      "metadata": {
        "id": "xVywhJ6MILpx"
      },
      "execution_count": 47,
      "outputs": []
    },
    {
      "cell_type": "code",
      "source": [
        "preds_df.head()"
      ],
      "metadata": {
        "colab": {
          "base_uri": "https://localhost:8080/",
          "height": 236
        },
        "id": "awrKp4JvIhWf",
        "outputId": "77c16a36-3a49-4360-eb5c-8e72ba6b193e"
      },
      "execution_count": 48,
      "outputs": [
        {
          "output_type": "execute_result",
          "data": {
            "text/plain": [
              "       True y  Predictions\n",
              "0  402.296319   406.040253\n",
              "1  624.156198   624.747314\n",
              "2  582.455066   593.290710\n",
              "3  578.588606   573.287720\n",
              "4  371.224104   367.211945"
            ],
            "text/html": [
              "\n",
              "  <div id=\"df-419cc71c-3552-4f16-8383-73e5771d8030\" class=\"colab-df-container\">\n",
              "    <div>\n",
              "<style scoped>\n",
              "    .dataframe tbody tr th:only-of-type {\n",
              "        vertical-align: middle;\n",
              "    }\n",
              "\n",
              "    .dataframe tbody tr th {\n",
              "        vertical-align: top;\n",
              "    }\n",
              "\n",
              "    .dataframe thead th {\n",
              "        text-align: right;\n",
              "    }\n",
              "</style>\n",
              "<table border=\"1\" class=\"dataframe\">\n",
              "  <thead>\n",
              "    <tr style=\"text-align: right;\">\n",
              "      <th></th>\n",
              "      <th>True y</th>\n",
              "      <th>Predictions</th>\n",
              "    </tr>\n",
              "  </thead>\n",
              "  <tbody>\n",
              "    <tr>\n",
              "      <th>0</th>\n",
              "      <td>402.296319</td>\n",
              "      <td>406.040253</td>\n",
              "    </tr>\n",
              "    <tr>\n",
              "      <th>1</th>\n",
              "      <td>624.156198</td>\n",
              "      <td>624.747314</td>\n",
              "    </tr>\n",
              "    <tr>\n",
              "      <th>2</th>\n",
              "      <td>582.455066</td>\n",
              "      <td>593.290710</td>\n",
              "    </tr>\n",
              "    <tr>\n",
              "      <th>3</th>\n",
              "      <td>578.588606</td>\n",
              "      <td>573.287720</td>\n",
              "    </tr>\n",
              "    <tr>\n",
              "      <th>4</th>\n",
              "      <td>371.224104</td>\n",
              "      <td>367.211945</td>\n",
              "    </tr>\n",
              "  </tbody>\n",
              "</table>\n",
              "</div>\n",
              "    <div class=\"colab-df-buttons\">\n",
              "\n",
              "  <div class=\"colab-df-container\">\n",
              "    <button class=\"colab-df-convert\" onclick=\"convertToInteractive('df-419cc71c-3552-4f16-8383-73e5771d8030')\"\n",
              "            title=\"Convert this dataframe to an interactive table.\"\n",
              "            style=\"display:none;\">\n",
              "\n",
              "  <svg xmlns=\"http://www.w3.org/2000/svg\" height=\"24px\" viewBox=\"0 -960 960 960\">\n",
              "    <path d=\"M120-120v-720h720v720H120Zm60-500h600v-160H180v160Zm220 220h160v-160H400v160Zm0 220h160v-160H400v160ZM180-400h160v-160H180v160Zm440 0h160v-160H620v160ZM180-180h160v-160H180v160Zm440 0h160v-160H620v160Z\"/>\n",
              "  </svg>\n",
              "    </button>\n",
              "\n",
              "  <style>\n",
              "    .colab-df-container {\n",
              "      display:flex;\n",
              "      gap: 12px;\n",
              "    }\n",
              "\n",
              "    .colab-df-convert {\n",
              "      background-color: #E8F0FE;\n",
              "      border: none;\n",
              "      border-radius: 50%;\n",
              "      cursor: pointer;\n",
              "      display: none;\n",
              "      fill: #1967D2;\n",
              "      height: 32px;\n",
              "      padding: 0 0 0 0;\n",
              "      width: 32px;\n",
              "    }\n",
              "\n",
              "    .colab-df-convert:hover {\n",
              "      background-color: #E2EBFA;\n",
              "      box-shadow: 0px 1px 2px rgba(60, 64, 67, 0.3), 0px 1px 3px 1px rgba(60, 64, 67, 0.15);\n",
              "      fill: #174EA6;\n",
              "    }\n",
              "\n",
              "    .colab-df-buttons div {\n",
              "      margin-bottom: 4px;\n",
              "    }\n",
              "\n",
              "    [theme=dark] .colab-df-convert {\n",
              "      background-color: #3B4455;\n",
              "      fill: #D2E3FC;\n",
              "    }\n",
              "\n",
              "    [theme=dark] .colab-df-convert:hover {\n",
              "      background-color: #434B5C;\n",
              "      box-shadow: 0px 1px 3px 1px rgba(0, 0, 0, 0.15);\n",
              "      filter: drop-shadow(0px 1px 2px rgba(0, 0, 0, 0.3));\n",
              "      fill: #FFFFFF;\n",
              "    }\n",
              "  </style>\n",
              "\n",
              "    <script>\n",
              "      const buttonEl =\n",
              "        document.querySelector('#df-419cc71c-3552-4f16-8383-73e5771d8030 button.colab-df-convert');\n",
              "      buttonEl.style.display =\n",
              "        google.colab.kernel.accessAllowed ? 'block' : 'none';\n",
              "\n",
              "      async function convertToInteractive(key) {\n",
              "        const element = document.querySelector('#df-419cc71c-3552-4f16-8383-73e5771d8030');\n",
              "        const dataTable =\n",
              "          await google.colab.kernel.invokeFunction('convertToInteractive',\n",
              "                                                    [key], {});\n",
              "        if (!dataTable) return;\n",
              "\n",
              "        const docLinkHtml = 'Like what you see? Visit the ' +\n",
              "          '<a target=\"_blank\" href=https://colab.research.google.com/notebooks/data_table.ipynb>data table notebook</a>'\n",
              "          + ' to learn more about interactive tables.';\n",
              "        element.innerHTML = '';\n",
              "        dataTable['output_type'] = 'display_data';\n",
              "        await google.colab.output.renderOutput(dataTable, element);\n",
              "        const docLink = document.createElement('div');\n",
              "        docLink.innerHTML = docLinkHtml;\n",
              "        element.appendChild(docLink);\n",
              "      }\n",
              "    </script>\n",
              "  </div>\n",
              "\n",
              "\n",
              "<div id=\"df-18ff9916-8e53-40d7-a1bf-425edc96ea78\">\n",
              "  <button class=\"colab-df-quickchart\" onclick=\"quickchart('df-18ff9916-8e53-40d7-a1bf-425edc96ea78')\"\n",
              "            title=\"Suggest charts.\"\n",
              "            style=\"display:none;\">\n",
              "\n",
              "<svg xmlns=\"http://www.w3.org/2000/svg\" height=\"24px\"viewBox=\"0 0 24 24\"\n",
              "     width=\"24px\">\n",
              "    <g>\n",
              "        <path d=\"M19 3H5c-1.1 0-2 .9-2 2v14c0 1.1.9 2 2 2h14c1.1 0 2-.9 2-2V5c0-1.1-.9-2-2-2zM9 17H7v-7h2v7zm4 0h-2V7h2v10zm4 0h-2v-4h2v4z\"/>\n",
              "    </g>\n",
              "</svg>\n",
              "  </button>\n",
              "\n",
              "<style>\n",
              "  .colab-df-quickchart {\n",
              "      --bg-color: #E8F0FE;\n",
              "      --fill-color: #1967D2;\n",
              "      --hover-bg-color: #E2EBFA;\n",
              "      --hover-fill-color: #174EA6;\n",
              "      --disabled-fill-color: #AAA;\n",
              "      --disabled-bg-color: #DDD;\n",
              "  }\n",
              "\n",
              "  [theme=dark] .colab-df-quickchart {\n",
              "      --bg-color: #3B4455;\n",
              "      --fill-color: #D2E3FC;\n",
              "      --hover-bg-color: #434B5C;\n",
              "      --hover-fill-color: #FFFFFF;\n",
              "      --disabled-bg-color: #3B4455;\n",
              "      --disabled-fill-color: #666;\n",
              "  }\n",
              "\n",
              "  .colab-df-quickchart {\n",
              "    background-color: var(--bg-color);\n",
              "    border: none;\n",
              "    border-radius: 50%;\n",
              "    cursor: pointer;\n",
              "    display: none;\n",
              "    fill: var(--fill-color);\n",
              "    height: 32px;\n",
              "    padding: 0;\n",
              "    width: 32px;\n",
              "  }\n",
              "\n",
              "  .colab-df-quickchart:hover {\n",
              "    background-color: var(--hover-bg-color);\n",
              "    box-shadow: 0 1px 2px rgba(60, 64, 67, 0.3), 0 1px 3px 1px rgba(60, 64, 67, 0.15);\n",
              "    fill: var(--button-hover-fill-color);\n",
              "  }\n",
              "\n",
              "  .colab-df-quickchart-complete:disabled,\n",
              "  .colab-df-quickchart-complete:disabled:hover {\n",
              "    background-color: var(--disabled-bg-color);\n",
              "    fill: var(--disabled-fill-color);\n",
              "    box-shadow: none;\n",
              "  }\n",
              "\n",
              "  .colab-df-spinner {\n",
              "    border: 2px solid var(--fill-color);\n",
              "    border-color: transparent;\n",
              "    border-bottom-color: var(--fill-color);\n",
              "    animation:\n",
              "      spin 1s steps(1) infinite;\n",
              "  }\n",
              "\n",
              "  @keyframes spin {\n",
              "    0% {\n",
              "      border-color: transparent;\n",
              "      border-bottom-color: var(--fill-color);\n",
              "      border-left-color: var(--fill-color);\n",
              "    }\n",
              "    20% {\n",
              "      border-color: transparent;\n",
              "      border-left-color: var(--fill-color);\n",
              "      border-top-color: var(--fill-color);\n",
              "    }\n",
              "    30% {\n",
              "      border-color: transparent;\n",
              "      border-left-color: var(--fill-color);\n",
              "      border-top-color: var(--fill-color);\n",
              "      border-right-color: var(--fill-color);\n",
              "    }\n",
              "    40% {\n",
              "      border-color: transparent;\n",
              "      border-right-color: var(--fill-color);\n",
              "      border-top-color: var(--fill-color);\n",
              "    }\n",
              "    60% {\n",
              "      border-color: transparent;\n",
              "      border-right-color: var(--fill-color);\n",
              "    }\n",
              "    80% {\n",
              "      border-color: transparent;\n",
              "      border-right-color: var(--fill-color);\n",
              "      border-bottom-color: var(--fill-color);\n",
              "    }\n",
              "    90% {\n",
              "      border-color: transparent;\n",
              "      border-bottom-color: var(--fill-color);\n",
              "    }\n",
              "  }\n",
              "</style>\n",
              "\n",
              "  <script>\n",
              "    async function quickchart(key) {\n",
              "      const quickchartButtonEl =\n",
              "        document.querySelector('#' + key + ' button');\n",
              "      quickchartButtonEl.disabled = true;  // To prevent multiple clicks.\n",
              "      quickchartButtonEl.classList.add('colab-df-spinner');\n",
              "      try {\n",
              "        const charts = await google.colab.kernel.invokeFunction(\n",
              "            'suggestCharts', [key], {});\n",
              "      } catch (error) {\n",
              "        console.error('Error during call to suggestCharts:', error);\n",
              "      }\n",
              "      quickchartButtonEl.classList.remove('colab-df-spinner');\n",
              "      quickchartButtonEl.classList.add('colab-df-quickchart-complete');\n",
              "    }\n",
              "    (() => {\n",
              "      let quickchartButtonEl =\n",
              "        document.querySelector('#df-18ff9916-8e53-40d7-a1bf-425edc96ea78 button');\n",
              "      quickchartButtonEl.style.display =\n",
              "        google.colab.kernel.accessAllowed ? 'block' : 'none';\n",
              "    })();\n",
              "  </script>\n",
              "</div>\n",
              "    </div>\n",
              "  </div>\n"
            ]
          },
          "metadata": {},
          "execution_count": 48
        }
      ]
    },
    {
      "cell_type": "code",
      "source": [
        "sns.scatterplot(x=\"Predictions\", y=\"True y\", data=preds_df)"
      ],
      "metadata": {
        "colab": {
          "base_uri": "https://localhost:8080/",
          "height": 471
        },
        "id": "JMdcbGfAIjAj",
        "outputId": "9a1326ff-2e32-449a-d81c-168d58687abb"
      },
      "execution_count": 49,
      "outputs": [
        {
          "output_type": "execute_result",
          "data": {
            "text/plain": [
              "<Axes: xlabel='Predictions', ylabel='True y'>"
            ]
          },
          "metadata": {},
          "execution_count": 49
        },
        {
          "output_type": "display_data",
          "data": {
            "text/plain": [
              "<Figure size 640x480 with 1 Axes>"
            ],
            "image/png": "[encoded data removed]"
          },
          "metadata": {}
        }
      ]
    },
    {
      "cell_type": "code",
      "source": [
        "from sklearn.metrics import mean_absolute_error, mean_squared_error"
      ],
      "metadata": {
        "id": "IrPNnOVHJDyz"
      },
      "execution_count": 50,
      "outputs": []
    },
    {
      "cell_type": "code",
      "source": [
        "mean_absolute_error(preds_df[\"True y\"],preds_df[\"Predictions\"])"
      ],
      "metadata": {
        "colab": {
          "base_uri": "https://localhost:8080/"
        },
        "id": "KNZUld1LJQQw",
        "outputId": "15c0531a-3719-4adf-8833-b6c46da413b9"
      },
      "execution_count": 51,
      "outputs": [
        {
          "output_type": "execute_result",
          "data": {
            "text/plain": [
              "4.132803039193371"
            ]
          },
          "metadata": {},
          "execution_count": 51
        }
      ]
    },
    {
      "cell_type": "code",
      "source": [
        "preds_df.describe()"
      ],
      "metadata": {
        "colab": {
          "base_uri": "https://localhost:8080/",
          "height": 345
        },
        "id": "Z3sc0gBMJX9j",
        "outputId": "e2facd7f-942c-435e-c4e6-fac1de6e1a69"
      },
      "execution_count": 52,
      "outputs": [
        {
          "output_type": "execute_result",
          "data": {
            "text/plain": [
              "           True y  Predictions\n",
              "count  300.000000   300.000000\n",
              "mean   500.375339   501.414368\n",
              "std     93.922502    94.191536\n",
              "min    246.739720   251.252945\n",
              "25%    435.220788   437.104668\n",
              "50%    502.979961   504.610184\n",
              "75%    567.451939   568.643372\n",
              "max    722.263944   722.355469"
            ],
            "text/html": [
              "\n",
              "  <div id=\"df-c05777b4-1638-4eab-9081-d58473a8355a\" class=\"colab-df-container\">\n",
              "    <div>\n",
              "<style scoped>\n",
              "    .dataframe tbody tr th:only-of-type {\n",
              "        vertical-align: middle;\n",
              "    }\n",
              "\n",
              "    .dataframe tbody tr th {\n",
              "        vertical-align: top;\n",
              "    }\n",
              "\n",
              "    .dataframe thead th {\n",
              "        text-align: right;\n",
              "    }\n",
              "</style>\n",
              "<table border=\"1\" class=\"dataframe\">\n",
              "  <thead>\n",
              "    <tr style=\"text-align: right;\">\n",
              "      <th></th>\n",
              "      <th>True y</th>\n",
              "      <th>Predictions</th>\n",
              "    </tr>\n",
              "  </thead>\n",
              "  <tbody>\n",
              "    <tr>\n",
              "      <th>count</th>\n",
              "      <td>300.000000</td>\n",
              "      <td>300.000000</td>\n",
              "    </tr>\n",
              "    <tr>\n",
              "      <th>mean</th>\n",
              "      <td>500.375339</td>\n",
              "      <td>501.414368</td>\n",
              "    </tr>\n",
              "    <tr>\n",
              "      <th>std</th>\n",
              "      <td>93.922502</td>\n",
              "      <td>94.191536</td>\n",
              "    </tr>\n",
              "    <tr>\n",
              "      <th>min</th>\n",
              "      <td>246.739720</td>\n",
              "      <td>251.252945</td>\n",
              "    </tr>\n",
              "    <tr>\n",
              "      <th>25%</th>\n",
              "      <td>435.220788</td>\n",
              "      <td>437.104668</td>\n",
              "    </tr>\n",
              "    <tr>\n",
              "      <th>50%</th>\n",
              "      <td>502.979961</td>\n",
              "      <td>504.610184</td>\n",
              "    </tr>\n",
              "    <tr>\n",
              "      <th>75%</th>\n",
              "      <td>567.451939</td>\n",
              "      <td>568.643372</td>\n",
              "    </tr>\n",
              "    <tr>\n",
              "      <th>max</th>\n",
              "      <td>722.263944</td>\n",
              "      <td>722.355469</td>\n",
              "    </tr>\n",
              "  </tbody>\n",
              "</table>\n",
              "</div>\n",
              "    <div class=\"colab-df-buttons\">\n",
              "\n",
              "  <div class=\"colab-df-container\">\n",
              "    <button class=\"colab-df-convert\" onclick=\"convertToInteractive('df-c05777b4-1638-4eab-9081-d58473a8355a')\"\n",
              "            title=\"Convert this dataframe to an interactive table.\"\n",
              "            style=\"display:none;\">\n",
              "\n",
              "  <svg xmlns=\"http://www.w3.org/2000/svg\" height=\"24px\" viewBox=\"0 -960 960 960\">\n",
              "    <path d=\"M120-120v-720h720v720H120Zm60-500h600v-160H180v160Zm220 220h160v-160H400v160Zm0 220h160v-160H400v160ZM180-400h160v-160H180v160Zm440 0h160v-160H620v160ZM180-180h160v-160H180v160Zm440 0h160v-160H620v160Z\"/>\n",
              "  </svg>\n",
              "    </button>\n",
              "\n",
              "  <style>\n",
              "    .colab-df-container {\n",
              "      display:flex;\n",
              "      gap: 12px;\n",
              "    }\n",
              "\n",
              "    .colab-df-convert {\n",
              "      background-color: #E8F0FE;\n",
              "      border: none;\n",
              "      border-radius: 50%;\n",
              "      cursor: pointer;\n",
              "      display: none;\n",
              "      fill: #1967D2;\n",
              "      height: 32px;\n",
              "      padding: 0 0 0 0;\n",
              "      width: 32px;\n",
              "    }\n",
              "\n",
              "    .colab-df-convert:hover {\n",
              "      background-color: #E2EBFA;\n",
              "      box-shadow: 0px 1px 2px rgba(60, 64, 67, 0.3), 0px 1px 3px 1px rgba(60, 64, 67, 0.15);\n",
              "      fill: #174EA6;\n",
              "    }\n",
              "\n",
              "    .colab-df-buttons div {\n",
              "      margin-bottom: 4px;\n",
              "    }\n",
              "\n",
              "    [theme=dark] .colab-df-convert {\n",
              "      background-color: #3B4455;\n",
              "      fill: #D2E3FC;\n",
              "    }\n",
              "\n",
              "    [theme=dark] .colab-df-convert:hover {\n",
              "      background-color: #434B5C;\n",
              "      box-shadow: 0px 1px 3px 1px rgba(0, 0, 0, 0.15);\n",
              "      filter: drop-shadow(0px 1px 2px rgba(0, 0, 0, 0.3));\n",
              "      fill: #FFFFFF;\n",
              "    }\n",
              "  </style>\n",
              "\n",
              "    <script>\n",
              "      const buttonEl =\n",
              "        document.querySelector('#df-c05777b4-1638-4eab-9081-d58473a8355a button.colab-df-convert');\n",
              "      buttonEl.style.display =\n",
              "        google.colab.kernel.accessAllowed ? 'block' : 'none';\n",
              "\n",
              "      async function convertToInteractive(key) {\n",
              "        const element = document.querySelector('#df-c05777b4-1638-4eab-9081-d58473a8355a');\n",
              "        const dataTable =\n",
              "          await google.colab.kernel.invokeFunction('convertToInteractive',\n",
              "                                                    [key], {});\n",
              "        if (!dataTable) return;\n",
              "\n",
              "        const docLinkHtml = 'Like what you see? Visit the ' +\n",
              "          '<a target=\"_blank\" href=https://colab.research.google.com/notebooks/data_table.ipynb>data table notebook</a>'\n",
              "          + ' to learn more about interactive tables.';\n",
              "        element.innerHTML = '';\n",
              "        dataTable['output_type'] = 'display_data';\n",
              "        await google.colab.output.renderOutput(dataTable, element);\n",
              "        const docLink = document.createElement('div');\n",
              "        docLink.innerHTML = docLinkHtml;\n",
              "        element.appendChild(docLink);\n",
              "      }\n",
              "    </script>\n",
              "  </div>\n",
              "\n",
              "\n",
              "<div id=\"df-0ebfce3a-d73b-4334-9f3e-69a280824f78\">\n",
              "  <button class=\"colab-df-quickchart\" onclick=\"quickchart('df-0ebfce3a-d73b-4334-9f3e-69a280824f78')\"\n",
              "            title=\"Suggest charts.\"\n",
              "            style=\"display:none;\">\n",
              "\n",
              "<svg xmlns=\"http://www.w3.org/2000/svg\" height=\"24px\"viewBox=\"0 0 24 24\"\n",
              "     width=\"24px\">\n",
              "    <g>\n",
              "        <path d=\"M19 3H5c-1.1 0-2 .9-2 2v14c0 1.1.9 2 2 2h14c1.1 0 2-.9 2-2V5c0-1.1-.9-2-2-2zM9 17H7v-7h2v7zm4 0h-2V7h2v10zm4 0h-2v-4h2v4z\"/>\n",
              "    </g>\n",
              "</svg>\n",
              "  </button>\n",
              "\n",
              "<style>\n",
              "  .colab-df-quickchart {\n",
              "      --bg-color: #E8F0FE;\n",
              "      --fill-color: #1967D2;\n",
              "      --hover-bg-color: #E2EBFA;\n",
              "      --hover-fill-color: #174EA6;\n",
              "      --disabled-fill-color: #AAA;\n",
              "      --disabled-bg-color: #DDD;\n",
              "  }\n",
              "\n",
              "  [theme=dark] .colab-df-quickchart {\n",
              "      --bg-color: #3B4455;\n",
              "      --fill-color: #D2E3FC;\n",
              "      --hover-bg-color: #434B5C;\n",
              "      --hover-fill-color: #FFFFFF;\n",
              "      --disabled-bg-color: #3B4455;\n",
              "      --disabled-fill-color: #666;\n",
              "  }\n",
              "\n",
              "  .colab-df-quickchart {\n",
              "    background-color: var(--bg-color);\n",
              "    border: none;\n",
              "    border-radius: 50%;\n",
              "    cursor: pointer;\n",
              "    display: none;\n",
              "    fill: var(--fill-color);\n",
              "    height: 32px;\n",
              "    padding: 0;\n",
              "    width: 32px;\n",
              "  }\n",
              "\n",
              "  .colab-df-quickchart:hover {\n",
              "    background-color: var(--hover-bg-color);\n",
              "    box-shadow: 0 1px 2px rgba(60, 64, 67, 0.3), 0 1px 3px 1px rgba(60, 64, 67, 0.15);\n",
              "    fill: var(--button-hover-fill-color);\n",
              "  }\n",
              "\n",
              "  .colab-df-quickchart-complete:disabled,\n",
              "  .colab-df-quickchart-complete:disabled:hover {\n",
              "    background-color: var(--disabled-bg-color);\n",
              "    fill: var(--disabled-fill-color);\n",
              "    box-shadow: none;\n",
              "  }\n",
              "\n",
              "  .colab-df-spinner {\n",
              "    border: 2px solid var(--fill-color);\n",
              "    border-color: transparent;\n",
              "    border-bottom-color: var(--fill-color);\n",
              "    animation:\n",
              "      spin 1s steps(1) infinite;\n",
              "  }\n",
              "\n",
              "  @keyframes spin {\n",
              "    0% {\n",
              "      border-color: transparent;\n",
              "      border-bottom-color: var(--fill-color);\n",
              "      border-left-color: var(--fill-color);\n",
              "    }\n",
              "    20% {\n",
              "      border-color: transparent;\n",
              "      border-left-color: var(--fill-color);\n",
              "      border-top-color: var(--fill-color);\n",
              "    }\n",
              "    30% {\n",
              "      border-color: transparent;\n",
              "      border-left-color: var(--fill-color);\n",
              "      border-top-color: var(--fill-color);\n",
              "      border-right-color: var(--fill-color);\n",
              "    }\n",
              "    40% {\n",
              "      border-color: transparent;\n",
              "      border-right-color: var(--fill-color);\n",
              "      border-top-color: var(--fill-color);\n",
              "    }\n",
              "    60% {\n",
              "      border-color: transparent;\n",
              "      border-right-color: var(--fill-color);\n",
              "    }\n",
              "    80% {\n",
              "      border-color: transparent;\n",
              "      border-right-color: var(--fill-color);\n",
              "      border-bottom-color: var(--fill-color);\n",
              "    }\n",
              "    90% {\n",
              "      border-color: transparent;\n",
              "      border-bottom-color: var(--fill-color);\n",
              "    }\n",
              "  }\n",
              "</style>\n",
              "\n",
              "  <script>\n",
              "    async function quickchart(key) {\n",
              "      const quickchartButtonEl =\n",
              "        document.querySelector('#' + key + ' button');\n",
              "      quickchartButtonEl.disabled = true;  // To prevent multiple clicks.\n",
              "      quickchartButtonEl.classList.add('colab-df-spinner');\n",
              "      try {\n",
              "        const charts = await google.colab.kernel.invokeFunction(\n",
              "            'suggestCharts', [key], {});\n",
              "      } catch (error) {\n",
              "        console.error('Error during call to suggestCharts:', error);\n",
              "      }\n",
              "      quickchartButtonEl.classList.remove('colab-df-spinner');\n",
              "      quickchartButtonEl.classList.add('colab-df-quickchart-complete');\n",
              "    }\n",
              "    (() => {\n",
              "      let quickchartButtonEl =\n",
              "        document.querySelector('#df-0ebfce3a-d73b-4334-9f3e-69a280824f78 button');\n",
              "      quickchartButtonEl.style.display =\n",
              "        google.colab.kernel.accessAllowed ? 'block' : 'none';\n",
              "    })();\n",
              "  </script>\n",
              "</div>\n",
              "    </div>\n",
              "  </div>\n"
            ]
          },
          "metadata": {},
          "execution_count": 52
        }
      ]
    },
    {
      "cell_type": "code",
      "source": [
        "np.sqrt(mean_squared_error(preds_df[\"True y\"],preds_df[\"Predictions\"]))"
      ],
      "metadata": {
        "colab": {
          "base_uri": "https://localhost:8080/"
        },
        "id": "_QrtWCqpJrWj",
        "outputId": "4ce568ea-4f06-40b7-f1d6-53e14596cf21"
      },
      "execution_count": 53,
      "outputs": [
        {
          "output_type": "execute_result",
          "data": {
            "text/plain": [
              "5.108482227701409"
            ]
          },
          "metadata": {},
          "execution_count": 53
        }
      ]
    },
    {
      "cell_type": "markdown",
      "source": [
        "##Save And Load Model"
      ],
      "metadata": {
        "id": "pbIZpnmWNwfJ"
      }
    },
    {
      "cell_type": "code",
      "source": [
        "model.save(\"my_model.h5\")"
      ],
      "metadata": {
        "colab": {
          "base_uri": "https://localhost:8080/"
        },
        "id": "clK3myXGJyJi",
        "outputId": "f8bb8cda-c662-450d-b2c6-5f91807f37e2"
      },
      "execution_count": 54,
      "outputs": [
        {
          "output_type": "stream",
          "name": "stderr",
          "text": [
            "/usr/local/lib/python3.10/dist-packages/keras/src/engine/training.py:3000: UserWarning: You are saving your model as an HDF5 file via `model.save()`. This file format is considered legacy. We recommend using instead the native Keras format, e.g. `model.save('my_model.keras')`.\n",
            "  saving_api.save_model(\n"
          ]
        }
      ]
    },
    {
      "cell_type": "code",
      "source": [
        "from tensorflow.keras.models import load_model"
      ],
      "metadata": {
        "id": "PTnw2_WHOgkT"
      },
      "execution_count": 55,
      "outputs": []
    },
    {
      "cell_type": "code",
      "source": [
        "loaded_model = load_model(\"my_model.h5\")"
      ],
      "metadata": {
        "id": "ICkdMc6pOr4A"
      },
      "execution_count": 56,
      "outputs": []
    }
  ]
}