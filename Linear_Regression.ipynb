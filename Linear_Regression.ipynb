{
  "nbformat": 4,
  "nbformat_minor": 0,
  "metadata": {
    "colab": {
      "provenance": [],
      "collapsed_sections": [
        "ucOBxGadP-TB"
      ],
      "authorship_tag": "ABX9TyP1Ys0i4uJvWUZSq4ST9XO8",
      "include_colab_link": true
    },
    "kernelspec": {
      "name": "python3",
      "display_name": "Python 3"
    },
    "language_info": {
      "name": "python"
    }
  },
  "cells": [
    {
      "cell_type": "markdown",
      "metadata": {
        "id": "view-in-github",
        "colab_type": "text"
      },
      "source": [
        "<a href=\"https://colab.research.google.com/github/Metallicode/Math/blob/main/Linear_Regression.ipynb\" target=\"_parent\"><img src=\"https://colab.research.google.com/assets/colab-badge.svg\" alt=\"Open In Colab\"/></a>"
      ]
    },
    {
      "cell_type": "markdown",
      "source": [
        "**Objective:**\n",
        " You're trying to find the line (in simple linear regression) that best fits a set of data points.\n",
        "\n",
        "**Cost Function (Mean Squared Error, MSE):**\n",
        " This function measures the average squared difference (error) between the predicted values of the line and the actual data points.\n",
        "\n",
        "**Model/Line Equation:**\n",
        " The line is represented as y=a+bx. Here, a is the y-intercept and b is the slope.\n",
        "\n",
        "**Function of a and b:**\n",
        "The cost function, MSE, is a function of a and b because the predicted values of the line depend on these parameters. In other words, the value of the MSE changes as\n",
        "a and b change.\n",
        "\n",
        "**Partial Derivatives:**\n",
        " By taking the partial derivatives of the MSE with respect to a and b, you're determining how the error changes as you adjust each of a and b.\n",
        "\n",
        "**Setting Partial Derivatives to Zero:**\n",
        " When you set these derivatives to zero, you're finding the values of a and\n",
        "b for which the error is minimized. The rationale behind this is that at the minimum point, the rate of change (i.e., slope of the tangent to the function) is zero.\n",
        "\n",
        "Result:\n",
        "The values of a and b that you find from this process are the parameters that define the best-fitting line (in the least squares sense) for your data."
      ],
      "metadata": {
        "id": "A7s26ZGVsP4U"
      }
    },
    {
      "cell_type": "markdown",
      "source": [
        "[WIKI - Simple linear regression](https://en.wikipedia.org/wiki/Simple_linear_regression)\n",
        "\n",
        "\n",
        "[WIKI - Ordinary Least Squares](https://en.wikipedia.org/wiki/Ordinary_least_squares)"
      ],
      "metadata": {
        "id": "lgtx3FKeIaKn"
      }
    },
    {
      "cell_type": "code",
      "source": [
        "#simple algebra\n",
        "import sympy as sp\n",
        "\n",
        "x = sp.symbols('x')\n",
        "y = sp.symbols('y')\n",
        "b0 = sp.symbols('b0')\n",
        "b1 = sp.symbols('b1')\n",
        "\n",
        "exp = (y - b0 - b1*x)**2\n",
        "\n",
        "exp"
      ],
      "metadata": {
        "colab": {
          "base_uri": "https://localhost:8080/",
          "height": 45
        },
        "id": "iASOt0ATYPxM",
        "outputId": "14c671db-06dd-41da-c77c-e66cc4fd023f"
      },
      "execution_count": null,
      "outputs": [
        {
          "output_type": "execute_result",
          "data": {
            "text/plain": [
              "(-b0 - b1*x + y)**2"
            ],
            "text/latex": "$\\displaystyle \\left(- b_{0} - b_{1} x + y\\right)^{2}$"
          },
          "metadata": {},
          "execution_count": 9
        }
      ]
    },
    {
      "cell_type": "code",
      "source": [
        "expanded = sp.expand(exp)"
      ],
      "metadata": {
        "id": "1nCpE6_MZKfd"
      },
      "execution_count": null,
      "outputs": []
    },
    {
      "cell_type": "markdown",
      "source": [
        "###Partial Derivatives"
      ],
      "metadata": {
        "id": "GQ-M5g6xaEua"
      }
    },
    {
      "cell_type": "code",
      "source": [
        "expanded.diff(b1) #NOTIC THE Difference between the original expression and the expanded"
      ],
      "metadata": {
        "colab": {
          "base_uri": "https://localhost:8080/",
          "height": 45
        },
        "id": "YcO7rEujZhOA",
        "outputId": "0d15446d-f1a8-4527-ce67-258b8e0246a6"
      },
      "execution_count": null,
      "outputs": [
        {
          "output_type": "execute_result",
          "data": {
            "text/plain": [
              "2*b0*x + 2*b1*x**2 - 2*x*y"
            ],
            "text/latex": "$\\displaystyle 2 b_{0} x + 2 b_{1} x^{2} - 2 x y$"
          },
          "metadata": {},
          "execution_count": 24
        }
      ]
    },
    {
      "cell_type": "code",
      "source": [
        "exp.diff(b1)"
      ],
      "metadata": {
        "colab": {
          "base_uri": "https://localhost:8080/",
          "height": 45
        },
        "id": "CPjRlemoZ5GN",
        "outputId": "f62326be-c40b-4082-947d-aabcf07ecf7e"
      },
      "execution_count": null,
      "outputs": [
        {
          "output_type": "execute_result",
          "data": {
            "text/plain": [
              "-2*x*(-b0 - b1*x + y)"
            ],
            "text/latex": "$\\displaystyle - 2 x \\left(- b_{0} - b_{1} x + y\\right)$"
          },
          "metadata": {},
          "execution_count": 23
        }
      ]
    },
    {
      "cell_type": "markdown",
      "source": [
        "##Partial Derivatives"
      ],
      "metadata": {
        "id": "ucOBxGadP-TB"
      }
    },
    {
      "cell_type": "code",
      "source": [
        "import sympy as sp\n",
        "\n",
        "# Define our symbols\n",
        "beta_0, beta_1, x_i, y_i = sp.symbols('beta_0 beta_1 x_i y_i')\n",
        "\n",
        "# The term inside the summation for the MSE\n",
        "error_term = y_i - beta_0 - beta_1*x_i\n",
        "\n",
        "# Square the error term to represent the squared error\n",
        "squared_error = error_term**2\n",
        "\n",
        "# Compute the partial derivatives\n",
        "partial_beta_0 = sp.diff(squared_error, beta_0)\n",
        "partial_beta_1 = sp.diff(squared_error, beta_1)\n",
        "\n",
        "print(\"Partial Derivative w.r.t. beta_0:\", partial_beta_0)\n",
        "print(\"Partial Derivative w.r.t. beta_1:\", partial_beta_1)\n"
      ],
      "metadata": {
        "colab": {
          "base_uri": "https://localhost:8080/"
        },
        "id": "crVJ-yc6P9AM",
        "outputId": "fb637250-287e-446e-c0a1-6774deb20757"
      },
      "execution_count": null,
      "outputs": [
        {
          "output_type": "stream",
          "name": "stdout",
          "text": [
            "Partial Derivative w.r.t. beta_0: 2*beta_0 + 2*beta_1*x_i - 2*y_i\n",
            "Partial Derivative w.r.t. beta_1: -2*x_i*(-beta_0 - beta_1*x_i + y_i)\n"
          ]
        },
        {
          "output_type": "execute_result",
          "data": {
            "text/plain": [
              "(2*beta_0 + 2*beta_1*x_i - 2*y_i, -2*x_i*(-beta_0 - beta_1*x_i + y_i))"
            ]
          },
          "metadata": {},
          "execution_count": 5
        }
      ]
    },
    {
      "cell_type": "code",
      "source": [
        "partial_beta_0"
      ],
      "metadata": {
        "colab": {
          "base_uri": "https://localhost:8080/",
          "height": 45
        },
        "id": "hXCmVzPHQKNb",
        "outputId": "046c6697-024f-4d53-caf5-3fe4cf96d96a"
      },
      "execution_count": null,
      "outputs": [
        {
          "output_type": "execute_result",
          "data": {
            "text/plain": [
              "2*beta_0 + 2*beta_1*x_i - 2*y_i"
            ],
            "text/latex": "$\\displaystyle 2 \\beta_{0} + 2 \\beta_{1} x_{i} - 2 y_{i}$"
          },
          "metadata": {},
          "execution_count": 6
        }
      ]
    },
    {
      "cell_type": "code",
      "source": [
        "partial_beta_1"
      ],
      "metadata": {
        "colab": {
          "base_uri": "https://localhost:8080/",
          "height": 45
        },
        "id": "j2SnTforQ1mB",
        "outputId": "1055b242-5052-4914-c8d6-35e15c21750f"
      },
      "execution_count": null,
      "outputs": [
        {
          "output_type": "execute_result",
          "data": {
            "text/plain": [
              "-2*x_i*(-beta_0 - beta_1*x_i + y_i)"
            ],
            "text/latex": "$\\displaystyle - 2 x_{i} \\left(- \\beta_{0} - \\beta_{1} x_{i} + y_{i}\\right)$"
          },
          "metadata": {},
          "execution_count": 7
        }
      ]
    },
    {
      "cell_type": "markdown",
      "source": [
        "##Using Derivetives to solve MSE"
      ],
      "metadata": {
        "id": "pRnoSHAUat7Y"
      }
    },
    {
      "cell_type": "code",
      "source": [
        "import sympy as sp\n",
        "\n",
        "# Define Symbols\n",
        "beta_0, beta_1 = sp.symbols('beta_0 beta_1')\n",
        "x, y = sp.symbols('x y')\n",
        "n = sp.Symbol('n', integer=True)  # Number of samples\n",
        "i = sp.Symbol('i', integer=True)  # Summation index\n",
        "\n",
        "# Symbolic representation of sums\n",
        "sum_x = sp.Symbol('sum_x')  # Sum of x values\n",
        "sum_y = sp.Symbol('sum_y')  # Sum of y values\n",
        "sum_xy = sp.Symbol('sum_xy')  # Sum of x*y values\n",
        "sum_x2 = sp.Symbol('sum_x2')  # Sum of x^2 values\n",
        "\n",
        "# Compute beta_1\n",
        "beta_1_solution = (n * sum_xy - sum_x * sum_y) / (n * sum_x2 - sum_x**2)\n",
        "\n",
        "# Compute beta_0 using the solution for beta_1\n",
        "beta_0_solution = (sum_y - beta_1_solution * sum_x) / n\n",
        "\n",
        "\n",
        "print('Beta 0 Solution:', beta_0_solution)\n",
        "print('Beta 1 Solution:', beta_1_solution)\n",
        "\n"
      ],
      "metadata": {
        "colab": {
          "base_uri": "https://localhost:8080/"
        },
        "id": "3FKKotA0iwSb",
        "outputId": "5fe9c4f0-3fbe-4fff-cc19-8c15338ca4e6"
      },
      "execution_count": null,
      "outputs": [
        {
          "output_type": "stream",
          "name": "stdout",
          "text": [
            "Beta 0 Solution: (-sum_x*(n*sum_xy - sum_x*sum_y)/(n*sum_x2 - sum_x**2) + sum_y)/n\n",
            "Beta 1 Solution: (n*sum_xy - sum_x*sum_y)/(n*sum_x2 - sum_x**2)\n"
          ]
        }
      ]
    },
    {
      "cell_type": "code",
      "source": [
        "import numpy as np\n",
        "\n",
        "# Sample Data\n",
        "x_data = np.array([1, 2, 3, 4, 5])\n",
        "y_data = np.array([2.2, 2.8, 3.6, 4.5, 5.1])\n",
        "\n",
        "# Number of samples\n",
        "n_data = len(x_data)\n",
        "\n",
        "# Necessary sums from the data\n",
        "sum_x = np.sum(x_data)\n",
        "sum_y = np.sum(y_data)\n",
        "sum_xy = np.sum(x_data * y_data)\n",
        "sum_x2 = np.sum(x_data**2)\n",
        "\n",
        "# Define Symbols\n",
        "beta_0, beta_1 = sp.symbols('beta_0 beta_1')\n",
        "x, y = sp.symbols('x y')\n",
        "n = sp.Symbol('n', integer=True)  # Number of samples\n",
        "\n",
        "# Compute beta_1\n",
        "beta_1_solution = (n_data * sum_xy - sum_x * sum_y) / (n_data * sum_x2 - sum_x**2)\n",
        "\n",
        "# Compute beta_0 using the solution for beta_1\n",
        "beta_0_solution = (sum_y - beta_1_solution * sum_x) / n_data\n",
        "\n",
        "print('Beta 1 (Slope):', beta_1_solution)\n",
        "print('Beta 0 (Intercept):', beta_0_solution)\n",
        "\n",
        "# Validation using Numpy\n",
        "beta_1_numpy, beta_0_numpy = np.polyfit(x_data, y_data, 1)\n",
        "print('\\nValidation using Numpy:')\n",
        "print('Beta 1 (Slope):', beta_1_numpy)\n",
        "print('Beta 0 (Intercept):', beta_0_numpy)\n"
      ],
      "metadata": {
        "colab": {
          "base_uri": "https://localhost:8080/"
        },
        "id": "kmDBnCQMHDY5",
        "outputId": "acc034c6-1a69-4129-ba67-b852caf2ca6c"
      },
      "execution_count": null,
      "outputs": [
        {
          "output_type": "stream",
          "name": "stdout",
          "text": [
            "Beta 1 (Slope): 0.75\n",
            "Beta 0 (Intercept): 1.39\n",
            "\n",
            "Validation using Numpy:\n",
            "Beta 1 (Slope): 0.7499999999999997\n",
            "Beta 0 (Intercept): 1.3900000000000006\n"
          ]
        }
      ]
    },
    {
      "cell_type": "code",
      "source": [
        "\n",
        "import matplotlib.pyplot as plt\n",
        "\n",
        "# Sample Data\n",
        "x_data = np.array([1, 2, 3, 4, 5])\n",
        "y_data = np.array([2.2, 2.8, 3.6, 4.5, 5.1])\n",
        "\n",
        "# Calculate coefficients\n",
        "beta_1, beta_0 = np.polyfit(x_data, y_data, 1)\n",
        "\n",
        "# Predicted y values\n",
        "y_pred = beta_1 * x_data + beta_0\n",
        "\n",
        "# Plotting the data points\n",
        "plt.scatter(x_data, y_data, color='blue', label='Data Points')\n",
        "\n",
        "# Plotting the linear regression line\n",
        "plt.plot(x_data, y_pred, color='red', label=f'Linear Fit: y={beta_1:.2f}x + {beta_0:.2f}')\n",
        "\n",
        "# Setting labels and title\n",
        "plt.xlabel('X Data')\n",
        "plt.ylabel('Y Data')\n",
        "plt.title('Linear Regression Fit')\n",
        "plt.legend()\n",
        "\n",
        "# Display the plot\n",
        "plt.show()"
      ],
      "metadata": {
        "colab": {
          "base_uri": "https://localhost:8080/",
          "height": 472
        },
        "id": "Ujcd1M9SkeTQ",
        "outputId": "5ce2f86a-f1d7-40d1-d5d3-6649d13b9e1a"
      },
      "execution_count": null,
      "outputs": [
        {
          "output_type": "display_data",
          "data": {
            "text/plain": [
              "<Figure size 640x480 with 1 Axes>"
            ],
            "image/png": "[encoded data removed]"
          },
          "metadata": {}
        }
      ]
    },
    {
      "cell_type": "markdown",
      "source": [
        "##Linear Regression"
      ],
      "metadata": {
        "id": "96L0TREeWKo0"
      }
    },
    {
      "cell_type": "code",
      "source": [
        "import numpy as np\n",
        "import pandas as pd\n",
        "import matplotlib.pyplot as plt\n",
        "import seaborn as sns"
      ],
      "metadata": {
        "id": "ikY90cV5WzQX"
      },
      "execution_count": null,
      "outputs": []
    },
    {
      "cell_type": "code",
      "source": [
        "df = pd.read_csv('Advertising.csv')\n",
        "df"
      ],
      "metadata": {
        "colab": {
          "base_uri": "https://localhost:8080/",
          "height": 488
        },
        "id": "ikZ9jqlOWWk8",
        "outputId": "91903480-0abc-4ad7-f16f-5374a3d3cbeb"
      },
      "execution_count": null,
      "outputs": [
        {
          "output_type": "execute_result",
          "data": {
            "text/plain": [
              "        TV  radio  newspaper  sales\n",
              "0    230.1   37.8       69.2   22.1\n",
              "1     44.5   39.3       45.1   10.4\n",
              "2     17.2   45.9       69.3    9.3\n",
              "3    151.5   41.3       58.5   18.5\n",
              "4    180.8   10.8       58.4   12.9\n",
              "..     ...    ...        ...    ...\n",
              "195   38.2    3.7       13.8    7.6\n",
              "196   94.2    4.9        8.1    9.7\n",
              "197  177.0    9.3        6.4   12.8\n",
              "198  283.6   42.0       66.2   25.5\n",
              "199  232.1    8.6        8.7   13.4\n",
              "\n",
              "[200 rows x 4 columns]"
            ],
            "text/html": [
              "\n",
              "  <div id=\"df-8516aba0-51f7-47be-ba1a-1b39a74e0e04\" class=\"colab-df-container\">\n",
              "    <div>\n",
              "<style scoped>\n",
              "    .dataframe tbody tr th:only-of-type {\n",
              "        vertical-align: middle;\n",
              "    }\n",
              "\n",
              "    .dataframe tbody tr th {\n",
              "        vertical-align: top;\n",
              "    }\n",
              "\n",
              "    .dataframe thead th {\n",
              "        text-align: right;\n",
              "    }\n",
              "</style>\n",
              "<table border=\"1\" class=\"dataframe\">\n",
              "  <thead>\n",
              "    <tr style=\"text-align: right;\">\n",
              "      <th></th>\n",
              "      <th>TV</th>\n",
              "      <th>radio</th>\n",
              "      <th>newspaper</th>\n",
              "      <th>sales</th>\n",
              "    </tr>\n",
              "  </thead>\n",
              "  <tbody>\n",
              "    <tr>\n",
              "      <th>0</th>\n",
              "      <td>230.1</td>\n",
              "      <td>37.8</td>\n",
              "      <td>69.2</td>\n",
              "      <td>22.1</td>\n",
              "    </tr>\n",
              "    <tr>\n",
              "      <th>1</th>\n",
              "      <td>44.5</td>\n",
              "      <td>39.3</td>\n",
              "      <td>45.1</td>\n",
              "      <td>10.4</td>\n",
              "    </tr>\n",
              "    <tr>\n",
              "      <th>2</th>\n",
              "      <td>17.2</td>\n",
              "      <td>45.9</td>\n",
              "      <td>69.3</td>\n",
              "      <td>9.3</td>\n",
              "    </tr>\n",
              "    <tr>\n",
              "      <th>3</th>\n",
              "      <td>151.5</td>\n",
              "      <td>41.3</td>\n",
              "      <td>58.5</td>\n",
              "      <td>18.5</td>\n",
              "    </tr>\n",
              "    <tr>\n",
              "      <th>4</th>\n",
              "      <td>180.8</td>\n",
              "      <td>10.8</td>\n",
              "      <td>58.4</td>\n",
              "      <td>12.9</td>\n",
              "    </tr>\n",
              "    <tr>\n",
              "      <th>...</th>\n",
              "      <td>...</td>\n",
              "      <td>...</td>\n",
              "      <td>...</td>\n",
              "      <td>...</td>\n",
              "    </tr>\n",
              "    <tr>\n",
              "      <th>195</th>\n",
              "      <td>38.2</td>\n",
              "      <td>3.7</td>\n",
              "      <td>13.8</td>\n",
              "      <td>7.6</td>\n",
              "    </tr>\n",
              "    <tr>\n",
              "      <th>196</th>\n",
              "      <td>94.2</td>\n",
              "      <td>4.9</td>\n",
              "      <td>8.1</td>\n",
              "      <td>9.7</td>\n",
              "    </tr>\n",
              "    <tr>\n",
              "      <th>197</th>\n",
              "      <td>177.0</td>\n",
              "      <td>9.3</td>\n",
              "      <td>6.4</td>\n",
              "      <td>12.8</td>\n",
              "    </tr>\n",
              "    <tr>\n",
              "      <th>198</th>\n",
              "      <td>283.6</td>\n",
              "      <td>42.0</td>\n",
              "      <td>66.2</td>\n",
              "      <td>25.5</td>\n",
              "    </tr>\n",
              "    <tr>\n",
              "      <th>199</th>\n",
              "      <td>232.1</td>\n",
              "      <td>8.6</td>\n",
              "      <td>8.7</td>\n",
              "      <td>13.4</td>\n",
              "    </tr>\n",
              "  </tbody>\n",
              "</table>\n",
              "<p>200 rows × 4 columns</p>\n",
              "</div>\n",
              "    <div class=\"colab-df-buttons\">\n",
              "\n",
              "  <div class=\"colab-df-container\">\n",
              "    <button class=\"colab-df-convert\" onclick=\"convertToInteractive('df-8516aba0-51f7-47be-ba1a-1b39a74e0e04')\"\n",
              "            title=\"Convert this dataframe to an interactive table.\"\n",
              "            style=\"display:none;\">\n",
              "\n",
              "  <svg xmlns=\"http://www.w3.org/2000/svg\" height=\"24px\" viewBox=\"0 -960 960 960\">\n",
              "    <path d=\"M120-120v-720h720v720H120Zm60-500h600v-160H180v160Zm220 220h160v-160H400v160Zm0 220h160v-160H400v160ZM180-400h160v-160H180v160Zm440 0h160v-160H620v160ZM180-180h160v-160H180v160Zm440 0h160v-160H620v160Z\"/>\n",
              "  </svg>\n",
              "    </button>\n",
              "\n",
              "  <style>\n",
              "    .colab-df-container {\n",
              "      display:flex;\n",
              "      gap: 12px;\n",
              "    }\n",
              "\n",
              "    .colab-df-convert {\n",
              "      background-color: #E8F0FE;\n",
              "      border: none;\n",
              "      border-radius: 50%;\n",
              "      cursor: pointer;\n",
              "      display: none;\n",
              "      fill: #1967D2;\n",
              "      height: 32px;\n",
              "      padding: 0 0 0 0;\n",
              "      width: 32px;\n",
              "    }\n",
              "\n",
              "    .colab-df-convert:hover {\n",
              "      background-color: #E2EBFA;\n",
              "      box-shadow: 0px 1px 2px rgba(60, 64, 67, 0.3), 0px 1px 3px 1px rgba(60, 64, 67, 0.15);\n",
              "      fill: #174EA6;\n",
              "    }\n",
              "\n",
              "    .colab-df-buttons div {\n",
              "      margin-bottom: 4px;\n",
              "    }\n",
              "\n",
              "    [theme=dark] .colab-df-convert {\n",
              "      background-color: #3B4455;\n",
              "      fill: #D2E3FC;\n",
              "    }\n",
              "\n",
              "    [theme=dark] .colab-df-convert:hover {\n",
              "      background-color: #434B5C;\n",
              "      box-shadow: 0px 1px 3px 1px rgba(0, 0, 0, 0.15);\n",
              "      filter: drop-shadow(0px 1px 2px rgba(0, 0, 0, 0.3));\n",
              "      fill: #FFFFFF;\n",
              "    }\n",
              "  </style>\n",
              "\n",
              "    <script>\n",
              "      const buttonEl =\n",
              "        document.querySelector('#df-8516aba0-51f7-47be-ba1a-1b39a74e0e04 button.colab-df-convert');\n",
              "      buttonEl.style.display =\n",
              "        google.colab.kernel.accessAllowed ? 'block' : 'none';\n",
              "\n",
              "      async function convertToInteractive(key) {\n",
              "        const element = document.querySelector('#df-8516aba0-51f7-47be-ba1a-1b39a74e0e04');\n",
              "        const dataTable =\n",
              "          await google.colab.kernel.invokeFunction('convertToInteractive',\n",
              "                                                    [key], {});\n",
              "        if (!dataTable) return;\n",
              "\n",
              "        const docLinkHtml = 'Like what you see? Visit the ' +\n",
              "          '<a target=\"_blank\" href=https://colab.research.google.com/notebooks/data_table.ipynb>data table notebook</a>'\n",
              "          + ' to learn more about interactive tables.';\n",
              "        element.innerHTML = '';\n",
              "        dataTable['output_type'] = 'display_data';\n",
              "        await google.colab.output.renderOutput(dataTable, element);\n",
              "        const docLink = document.createElement('div');\n",
              "        docLink.innerHTML = docLinkHtml;\n",
              "        element.appendChild(docLink);\n",
              "      }\n",
              "    </script>\n",
              "  </div>\n",
              "\n",
              "\n",
              "<div id=\"df-673671df-b609-46ea-ab8e-b9237efcc30f\">\n",
              "  <button class=\"colab-df-quickchart\" onclick=\"quickchart('df-673671df-b609-46ea-ab8e-b9237efcc30f')\"\n",
              "            title=\"Suggest charts.\"\n",
              "            style=\"display:none;\">\n",
              "\n",
              "<svg xmlns=\"http://www.w3.org/2000/svg\" height=\"24px\"viewBox=\"0 0 24 24\"\n",
              "     width=\"24px\">\n",
              "    <g>\n",
              "        <path d=\"M19 3H5c-1.1 0-2 .9-2 2v14c0 1.1.9 2 2 2h14c1.1 0 2-.9 2-2V5c0-1.1-.9-2-2-2zM9 17H7v-7h2v7zm4 0h-2V7h2v10zm4 0h-2v-4h2v4z\"/>\n",
              "    </g>\n",
              "</svg>\n",
              "  </button>\n",
              "\n",
              "<style>\n",
              "  .colab-df-quickchart {\n",
              "    background-color: #E8F0FE;\n",
              "    border: none;\n",
              "    border-radius: 50%;\n",
              "    cursor: pointer;\n",
              "    display: none;\n",
              "    fill: #1967D2;\n",
              "    height: 32px;\n",
              "    padding: 0 0 0 0;\n",
              "    width: 32px;\n",
              "  }\n",
              "\n",
              "  .colab-df-quickchart:hover {\n",
              "    background-color: #E2EBFA;\n",
              "    box-shadow: 0px 1px 2px rgba(60, 64, 67, 0.3), 0px 1px 3px 1px rgba(60, 64, 67, 0.15);\n",
              "    fill: #174EA6;\n",
              "  }\n",
              "\n",
              "  [theme=dark] .colab-df-quickchart {\n",
              "    background-color: #3B4455;\n",
              "    fill: #D2E3FC;\n",
              "  }\n",
              "\n",
              "  [theme=dark] .colab-df-quickchart:hover {\n",
              "    background-color: #434B5C;\n",
              "    box-shadow: 0px 1px 3px 1px rgba(0, 0, 0, 0.15);\n",
              "    filter: drop-shadow(0px 1px 2px rgba(0, 0, 0, 0.3));\n",
              "    fill: #FFFFFF;\n",
              "  }\n",
              "</style>\n",
              "\n",
              "  <script>\n",
              "    async function quickchart(key) {\n",
              "      const charts = await google.colab.kernel.invokeFunction(\n",
              "          'suggestCharts', [key], {});\n",
              "    }\n",
              "    (() => {\n",
              "      let quickchartButtonEl =\n",
              "        document.querySelector('#df-673671df-b609-46ea-ab8e-b9237efcc30f button');\n",
              "      quickchartButtonEl.style.display =\n",
              "        google.colab.kernel.accessAllowed ? 'block' : 'none';\n",
              "    })();\n",
              "  </script>\n",
              "</div>\n",
              "    </div>\n",
              "  </div>\n"
            ]
          },
          "metadata": {},
          "execution_count": 60
        }
      ]
    },
    {
      "cell_type": "code",
      "source": [
        "#sum all Media types to create only 1 independent var\n",
        "\n",
        "df['total'] = df['TV'] + df['newspaper'] + df['radio']\n",
        "df"
      ],
      "metadata": {
        "colab": {
          "base_uri": "https://localhost:8080/",
          "height": 488
        },
        "id": "t5zNP4qRW5ST",
        "outputId": "f8b6a47a-4b94-4fc3-f326-c6da518ed404"
      },
      "execution_count": null,
      "outputs": [
        {
          "output_type": "execute_result",
          "data": {
            "text/plain": [
              "        TV  radio  newspaper  sales  total\n",
              "0    230.1   37.8       69.2   22.1  337.1\n",
              "1     44.5   39.3       45.1   10.4  128.9\n",
              "2     17.2   45.9       69.3    9.3  132.4\n",
              "3    151.5   41.3       58.5   18.5  251.3\n",
              "4    180.8   10.8       58.4   12.9  250.0\n",
              "..     ...    ...        ...    ...    ...\n",
              "195   38.2    3.7       13.8    7.6   55.7\n",
              "196   94.2    4.9        8.1    9.7  107.2\n",
              "197  177.0    9.3        6.4   12.8  192.7\n",
              "198  283.6   42.0       66.2   25.5  391.8\n",
              "199  232.1    8.6        8.7   13.4  249.4\n",
              "\n",
              "[200 rows x 5 columns]"
            ],
            "text/html": [
              "\n",
              "  <div id=\"df-7ffbd23f-0eef-4dca-befc-aad80413d2bd\" class=\"colab-df-container\">\n",
              "    <div>\n",
              "<style scoped>\n",
              "    .dataframe tbody tr th:only-of-type {\n",
              "        vertical-align: middle;\n",
              "    }\n",
              "\n",
              "    .dataframe tbody tr th {\n",
              "        vertical-align: top;\n",
              "    }\n",
              "\n",
              "    .dataframe thead th {\n",
              "        text-align: right;\n",
              "    }\n",
              "</style>\n",
              "<table border=\"1\" class=\"dataframe\">\n",
              "  <thead>\n",
              "    <tr style=\"text-align: right;\">\n",
              "      <th></th>\n",
              "      <th>TV</th>\n",
              "      <th>radio</th>\n",
              "      <th>newspaper</th>\n",
              "      <th>sales</th>\n",
              "      <th>total</th>\n",
              "    </tr>\n",
              "  </thead>\n",
              "  <tbody>\n",
              "    <tr>\n",
              "      <th>0</th>\n",
              "      <td>230.1</td>\n",
              "      <td>37.8</td>\n",
              "      <td>69.2</td>\n",
              "      <td>22.1</td>\n",
              "      <td>337.1</td>\n",
              "    </tr>\n",
              "    <tr>\n",
              "      <th>1</th>\n",
              "      <td>44.5</td>\n",
              "      <td>39.3</td>\n",
              "      <td>45.1</td>\n",
              "      <td>10.4</td>\n",
              "      <td>128.9</td>\n",
              "    </tr>\n",
              "    <tr>\n",
              "      <th>2</th>\n",
              "      <td>17.2</td>\n",
              "      <td>45.9</td>\n",
              "      <td>69.3</td>\n",
              "      <td>9.3</td>\n",
              "      <td>132.4</td>\n",
              "    </tr>\n",
              "    <tr>\n",
              "      <th>3</th>\n",
              "      <td>151.5</td>\n",
              "      <td>41.3</td>\n",
              "      <td>58.5</td>\n",
              "      <td>18.5</td>\n",
              "      <td>251.3</td>\n",
              "    </tr>\n",
              "    <tr>\n",
              "      <th>4</th>\n",
              "      <td>180.8</td>\n",
              "      <td>10.8</td>\n",
              "      <td>58.4</td>\n",
              "      <td>12.9</td>\n",
              "      <td>250.0</td>\n",
              "    </tr>\n",
              "    <tr>\n",
              "      <th>...</th>\n",
              "      <td>...</td>\n",
              "      <td>...</td>\n",
              "      <td>...</td>\n",
              "      <td>...</td>\n",
              "      <td>...</td>\n",
              "    </tr>\n",
              "    <tr>\n",
              "      <th>195</th>\n",
              "      <td>38.2</td>\n",
              "      <td>3.7</td>\n",
              "      <td>13.8</td>\n",
              "      <td>7.6</td>\n",
              "      <td>55.7</td>\n",
              "    </tr>\n",
              "    <tr>\n",
              "      <th>196</th>\n",
              "      <td>94.2</td>\n",
              "      <td>4.9</td>\n",
              "      <td>8.1</td>\n",
              "      <td>9.7</td>\n",
              "      <td>107.2</td>\n",
              "    </tr>\n",
              "    <tr>\n",
              "      <th>197</th>\n",
              "      <td>177.0</td>\n",
              "      <td>9.3</td>\n",
              "      <td>6.4</td>\n",
              "      <td>12.8</td>\n",
              "      <td>192.7</td>\n",
              "    </tr>\n",
              "    <tr>\n",
              "      <th>198</th>\n",
              "      <td>283.6</td>\n",
              "      <td>42.0</td>\n",
              "      <td>66.2</td>\n",
              "      <td>25.5</td>\n",
              "      <td>391.8</td>\n",
              "    </tr>\n",
              "    <tr>\n",
              "      <th>199</th>\n",
              "      <td>232.1</td>\n",
              "      <td>8.6</td>\n",
              "      <td>8.7</td>\n",
              "      <td>13.4</td>\n",
              "      <td>249.4</td>\n",
              "    </tr>\n",
              "  </tbody>\n",
              "</table>\n",
              "<p>200 rows × 5 columns</p>\n",
              "</div>\n",
              "    <div class=\"colab-df-buttons\">\n",
              "\n",
              "  <div class=\"colab-df-container\">\n",
              "    <button class=\"colab-df-convert\" onclick=\"convertToInteractive('df-7ffbd23f-0eef-4dca-befc-aad80413d2bd')\"\n",
              "            title=\"Convert this dataframe to an interactive table.\"\n",
              "            style=\"display:none;\">\n",
              "\n",
              "  <svg xmlns=\"http://www.w3.org/2000/svg\" height=\"24px\" viewBox=\"0 -960 960 960\">\n",
              "    <path d=\"M120-120v-720h720v720H120Zm60-500h600v-160H180v160Zm220 220h160v-160H400v160Zm0 220h160v-160H400v160ZM180-400h160v-160H180v160Zm440 0h160v-160H620v160ZM180-180h160v-160H180v160Zm440 0h160v-160H620v160Z\"/>\n",
              "  </svg>\n",
              "    </button>\n",
              "\n",
              "  <style>\n",
              "    .colab-df-container {\n",
              "      display:flex;\n",
              "      gap: 12px;\n",
              "    }\n",
              "\n",
              "    .colab-df-convert {\n",
              "      background-color: #E8F0FE;\n",
              "      border: none;\n",
              "      border-radius: 50%;\n",
              "      cursor: pointer;\n",
              "      display: none;\n",
              "      fill: #1967D2;\n",
              "      height: 32px;\n",
              "      padding: 0 0 0 0;\n",
              "      width: 32px;\n",
              "    }\n",
              "\n",
              "    .colab-df-convert:hover {\n",
              "      background-color: #E2EBFA;\n",
              "      box-shadow: 0px 1px 2px rgba(60, 64, 67, 0.3), 0px 1px 3px 1px rgba(60, 64, 67, 0.15);\n",
              "      fill: #174EA6;\n",
              "    }\n",
              "\n",
              "    .colab-df-buttons div {\n",
              "      margin-bottom: 4px;\n",
              "    }\n",
              "\n",
              "    [theme=dark] .colab-df-convert {\n",
              "      background-color: #3B4455;\n",
              "      fill: #D2E3FC;\n",
              "    }\n",
              "\n",
              "    [theme=dark] .colab-df-convert:hover {\n",
              "      background-color: #434B5C;\n",
              "      box-shadow: 0px 1px 3px 1px rgba(0, 0, 0, 0.15);\n",
              "      filter: drop-shadow(0px 1px 2px rgba(0, 0, 0, 0.3));\n",
              "      fill: #FFFFFF;\n",
              "    }\n",
              "  </style>\n",
              "\n",
              "    <script>\n",
              "      const buttonEl =\n",
              "        document.querySelector('#df-7ffbd23f-0eef-4dca-befc-aad80413d2bd button.colab-df-convert');\n",
              "      buttonEl.style.display =\n",
              "        google.colab.kernel.accessAllowed ? 'block' : 'none';\n",
              "\n",
              "      async function convertToInteractive(key) {\n",
              "        const element = document.querySelector('#df-7ffbd23f-0eef-4dca-befc-aad80413d2bd');\n",
              "        const dataTable =\n",
              "          await google.colab.kernel.invokeFunction('convertToInteractive',\n",
              "                                                    [key], {});\n",
              "        if (!dataTable) return;\n",
              "\n",
              "        const docLinkHtml = 'Like what you see? Visit the ' +\n",
              "          '<a target=\"_blank\" href=https://colab.research.google.com/notebooks/data_table.ipynb>data table notebook</a>'\n",
              "          + ' to learn more about interactive tables.';\n",
              "        element.innerHTML = '';\n",
              "        dataTable['output_type'] = 'display_data';\n",
              "        await google.colab.output.renderOutput(dataTable, element);\n",
              "        const docLink = document.createElement('div');\n",
              "        docLink.innerHTML = docLinkHtml;\n",
              "        element.appendChild(docLink);\n",
              "      }\n",
              "    </script>\n",
              "  </div>\n",
              "\n",
              "\n",
              "<div id=\"df-590fa2af-0072-496b-ad44-cd798ad04d11\">\n",
              "  <button class=\"colab-df-quickchart\" onclick=\"quickchart('df-590fa2af-0072-496b-ad44-cd798ad04d11')\"\n",
              "            title=\"Suggest charts.\"\n",
              "            style=\"display:none;\">\n",
              "\n",
              "<svg xmlns=\"http://www.w3.org/2000/svg\" height=\"24px\"viewBox=\"0 0 24 24\"\n",
              "     width=\"24px\">\n",
              "    <g>\n",
              "        <path d=\"M19 3H5c-1.1 0-2 .9-2 2v14c0 1.1.9 2 2 2h14c1.1 0 2-.9 2-2V5c0-1.1-.9-2-2-2zM9 17H7v-7h2v7zm4 0h-2V7h2v10zm4 0h-2v-4h2v4z\"/>\n",
              "    </g>\n",
              "</svg>\n",
              "  </button>\n",
              "\n",
              "<style>\n",
              "  .colab-df-quickchart {\n",
              "    background-color: #E8F0FE;\n",
              "    border: none;\n",
              "    border-radius: 50%;\n",
              "    cursor: pointer;\n",
              "    display: none;\n",
              "    fill: #1967D2;\n",
              "    height: 32px;\n",
              "    padding: 0 0 0 0;\n",
              "    width: 32px;\n",
              "  }\n",
              "\n",
              "  .colab-df-quickchart:hover {\n",
              "    background-color: #E2EBFA;\n",
              "    box-shadow: 0px 1px 2px rgba(60, 64, 67, 0.3), 0px 1px 3px 1px rgba(60, 64, 67, 0.15);\n",
              "    fill: #174EA6;\n",
              "  }\n",
              "\n",
              "  [theme=dark] .colab-df-quickchart {\n",
              "    background-color: #3B4455;\n",
              "    fill: #D2E3FC;\n",
              "  }\n",
              "\n",
              "  [theme=dark] .colab-df-quickchart:hover {\n",
              "    background-color: #434B5C;\n",
              "    box-shadow: 0px 1px 3px 1px rgba(0, 0, 0, 0.15);\n",
              "    filter: drop-shadow(0px 1px 2px rgba(0, 0, 0, 0.3));\n",
              "    fill: #FFFFFF;\n",
              "  }\n",
              "</style>\n",
              "\n",
              "  <script>\n",
              "    async function quickchart(key) {\n",
              "      const charts = await google.colab.kernel.invokeFunction(\n",
              "          'suggestCharts', [key], {});\n",
              "    }\n",
              "    (() => {\n",
              "      let quickchartButtonEl =\n",
              "        document.querySelector('#df-590fa2af-0072-496b-ad44-cd798ad04d11 button');\n",
              "      quickchartButtonEl.style.display =\n",
              "        google.colab.kernel.accessAllowed ? 'block' : 'none';\n",
              "    })();\n",
              "  </script>\n",
              "</div>\n",
              "    </div>\n",
              "  </div>\n"
            ]
          },
          "metadata": {},
          "execution_count": 61
        }
      ]
    },
    {
      "cell_type": "code",
      "source": [
        "sns.scatterplot(data=df, x=\"total\", y=\"sales\", alpha=0.4)"
      ],
      "metadata": {
        "colab": {
          "base_uri": "https://localhost:8080/",
          "height": 472
        },
        "id": "98JAv1m9a21w",
        "outputId": "8d25d7df-1cac-44c6-aa95-15c3d2bd6a97"
      },
      "execution_count": null,
      "outputs": [
        {
          "output_type": "execute_result",
          "data": {
            "text/plain": [
              "<Axes: xlabel='total', ylabel='sales'>"
            ]
          },
          "metadata": {},
          "execution_count": 32
        },
        {
          "output_type": "display_data",
          "data": {
            "text/plain": [
              "<Figure size 640x480 with 1 Axes>"
            ],
            "image/png": "[encoded data removed]"
          },
          "metadata": {}
        }
      ]
    },
    {
      "cell_type": "code",
      "source": [
        "sns.regplot(data=df, x=\"total\", y=\"sales\")"
      ],
      "metadata": {
        "colab": {
          "base_uri": "https://localhost:8080/",
          "height": 472
        },
        "id": "rlY8GzPicl8C",
        "outputId": "cd67a942-5eab-4c19-815f-0f894f601fc7"
      },
      "execution_count": null,
      "outputs": [
        {
          "output_type": "execute_result",
          "data": {
            "text/plain": [
              "<Axes: xlabel='total', ylabel='sales'>"
            ]
          },
          "metadata": {},
          "execution_count": 34
        },
        {
          "output_type": "display_data",
          "data": {
            "text/plain": [
              "<Figure size 640x480 with 1 Axes>"
            ],
            "image/png": "[encoded data removed]"
          },
          "metadata": {}
        }
      ]
    },
    {
      "cell_type": "markdown",
      "source": [
        "###calc b0 and b1"
      ],
      "metadata": {
        "id": "PMHPVqxSc7J_"
      }
    },
    {
      "cell_type": "code",
      "source": [
        "X, y = df['total'], df['sales']"
      ],
      "metadata": {
        "id": "6WMCI1jfdBaY"
      },
      "execution_count": null,
      "outputs": []
    },
    {
      "cell_type": "code",
      "source": [
        "##  y = b1*x + b0\n",
        "b1, b0 = np.polyfit(x=X, y=y, deg=1)"
      ],
      "metadata": {
        "id": "INXiDKUsdIGu"
      },
      "execution_count": null,
      "outputs": []
    },
    {
      "cell_type": "code",
      "source": [
        "res = b0 + b1*X\n",
        "sns.scatterplot(data=df, x=\"total\", y=\"sales\", alpha=0.4)\n",
        "plt.plot(X, res)"
      ],
      "metadata": {
        "colab": {
          "base_uri": "https://localhost:8080/",
          "height": 472
        },
        "id": "nnbUQBqKdo6n",
        "outputId": "7adfb4aa-469c-4d63-8d47-9c18552ef14f"
      },
      "execution_count": null,
      "outputs": [
        {
          "output_type": "execute_result",
          "data": {
            "text/plain": [
              "[<matplotlib.lines.Line2D at 0x7e23f7eb3160>]"
            ]
          },
          "metadata": {},
          "execution_count": 64
        },
        {
          "output_type": "display_data",
          "data": {
            "text/plain": [
              "<Figure size 640x480 with 1 Axes>"
            ],
            "image/png": "[encoded data removed]"
          },
          "metadata": {}
        }
      ]
    },
    {
      "cell_type": "markdown",
      "source": [
        "##Polynomial Regression\n",
        "\n",
        "\n",
        "[Polynomial Regression](https://en.wikipedia.org/wiki/Polynomial_regression)"
      ],
      "metadata": {
        "id": "xqd7DQSZqNUA"
      }
    },
    {
      "cell_type": "code",
      "source": [
        "##  y = b1*x + b0\n",
        "##  y = b3*x**3 + b2*x**2 + b1*x + b0"
      ],
      "metadata": {
        "id": "W565-55NebxJ"
      },
      "execution_count": null,
      "outputs": []
    },
    {
      "cell_type": "code",
      "source": [
        "b3, b2, b1, b0 = np.polyfit(x=X, y=y, deg=3)\n",
        "b3, b2, b1, b0"
      ],
      "metadata": {
        "colab": {
          "base_uri": "https://localhost:8080/"
        },
        "id": "SUgSphbAk7Ea",
        "outputId": "54069839-8094-40ee-c22e-de475c573459"
      },
      "execution_count": null,
      "outputs": [
        {
          "output_type": "execute_result",
          "data": {
            "text/plain": [
              "(3.076150330479741e-07,\n",
              " -0.00018939244934762303,\n",
              " 0.08208863023067506,\n",
              " 2.7049505259500446)"
            ]
          },
          "metadata": {},
          "execution_count": 65
        }
      ]
    },
    {
      "cell_type": "code",
      "source": [
        "spent = np.linspace(0,500,len(X))\n",
        "\n",
        "res = b3*spent**3 + b2*spent**2 + b1*spent + b0\n",
        "\n",
        "sns.scatterplot(data=df, x=\"total\", y=\"sales\", alpha=0.4)\n",
        "plt.plot(spent, res)"
      ],
      "metadata": {
        "colab": {
          "base_uri": "https://localhost:8080/",
          "height": 472
        },
        "id": "35OWmKFrlMrX",
        "outputId": "dfbe921e-eb7f-4f43-866c-c3b431514fc5"
      },
      "execution_count": null,
      "outputs": [
        {
          "output_type": "execute_result",
          "data": {
            "text/plain": [
              "[<matplotlib.lines.Line2D at 0x7e23f7d5d810>]"
            ]
          },
          "metadata": {},
          "execution_count": 68
        },
        {
          "output_type": "display_data",
          "data": {
            "text/plain": [
              "<Figure size 640x480 with 1 Axes>"
            ],
            "image/png": "[encoded data removed]"
          },
          "metadata": {}
        }
      ]
    },
    {
      "cell_type": "code",
      "source": [
        "len(X)"
      ],
      "metadata": {
        "colab": {
          "base_uri": "https://localhost:8080/"
        },
        "id": "NlrJrY5pmzeq",
        "outputId": "7aeeb103-42ae-48d1-df68-a5dfbb44cb3d"
      },
      "execution_count": null,
      "outputs": [
        {
          "output_type": "execute_result",
          "data": {
            "text/plain": [
              "200"
            ]
          },
          "metadata": {},
          "execution_count": 59
        }
      ]
    }
  ]
}