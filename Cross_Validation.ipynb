{
  "nbformat": 4,
  "nbformat_minor": 0,
  "metadata": {
    "colab": {
      "provenance": [],
      "authorship_tag": "ABX9TyMT9qUR/7xQX9RfgDcogg7r",
      "include_colab_link": true
    },
    "kernelspec": {
      "name": "python3",
      "display_name": "Python 3"
    },
    "language_info": {
      "name": "python"
    }
  },
  "cells": [
    {
      "cell_type": "markdown",
      "metadata": {
        "id": "view-in-github",
        "colab_type": "text"
      },
      "source": [
        "<a href=\"https://colab.research.google.com/github/Metallicode/Math/blob/main/Cross_Validation.ipynb\" target=\"_parent\"><img src=\"https://colab.research.google.com/assets/colab-badge.svg\" alt=\"Open In Colab\"/></a>"
      ]
    },
    {
      "cell_type": "markdown",
      "source": [
        "# Train -- Validation  --  Test"
      ],
      "metadata": {
        "id": "sVClhW4K0cPY"
      }
    },
    {
      "cell_type": "code",
      "execution_count": 111,
      "metadata": {
        "id": "hPaGoNzizNSM"
      },
      "outputs": [],
      "source": [
        "import numpy as np\n",
        "import pandas as pd\n",
        "import matplotlib.pyplot as plt\n",
        "import seaborn as sns\n",
        "\n",
        "from sklearn.model_selection import train_test_split"
      ]
    },
    {
      "cell_type": "code",
      "source": [
        "df = pd.read_csv(\"Advertising.csv\")\n",
        "\n",
        "X = df.drop([\"sales\"], axis=1)\n",
        "y = df[\"sales\"]"
      ],
      "metadata": {
        "id": "JijqDESs0T-F"
      },
      "execution_count": 125,
      "outputs": []
    },
    {
      "cell_type": "code",
      "source": [
        "df[df.isnull()].count()"
      ],
      "metadata": {
        "colab": {
          "base_uri": "https://localhost:8080/"
        },
        "id": "2Jfi9ujeCuer",
        "outputId": "c2f6f148-71bd-4efd-dc58-b94f2fdbba8c"
      },
      "execution_count": 45,
      "outputs": [
        {
          "output_type": "execute_result",
          "data": {
            "text/plain": [
              "TV           0\n",
              "radio        0\n",
              "newspaper    0\n",
              "sales        0\n",
              "dtype: int64"
            ]
          },
          "metadata": {},
          "execution_count": 45
        }
      ]
    },
    {
      "cell_type": "code",
      "source": [
        "X"
      ],
      "metadata": {
        "id": "jkQmwpav2Aiw"
      },
      "execution_count": null,
      "outputs": []
    },
    {
      "cell_type": "code",
      "source": [
        "y"
      ],
      "metadata": {
        "id": "6BXNaDfq15Wl"
      },
      "execution_count": null,
      "outputs": []
    },
    {
      "cell_type": "code",
      "source": [
        "len(df)"
      ],
      "metadata": {
        "colab": {
          "base_uri": "https://localhost:8080/"
        },
        "id": "KX7LeZWC0YhB",
        "outputId": "06ab1349-8ac6-40f7-f1c2-a418918a9fc8"
      },
      "execution_count": 3,
      "outputs": [
        {
          "output_type": "execute_result",
          "data": {
            "text/plain": [
              "200"
            ]
          },
          "metadata": {},
          "execution_count": 3
        }
      ]
    },
    {
      "cell_type": "code",
      "source": [
        "X_train, X_, y_train, y_ = train_test_split(X, y, test_size=0.3, shuffle=True)"
      ],
      "metadata": {
        "id": "SsPiCNKl0aXa"
      },
      "execution_count": 46,
      "outputs": []
    },
    {
      "cell_type": "code",
      "source": [
        "from sklearn.preprocessing import StandardScaler\n",
        "\n",
        "scalar = StandardScaler()\n",
        "\n",
        "scalar.fit(X_train)\n",
        "\n",
        "X_train = scalar.transform(X_train)\n",
        "X_ = scalar.transform(X_)"
      ],
      "metadata": {
        "id": "irofTJ2H693b"
      },
      "execution_count": 47,
      "outputs": []
    },
    {
      "cell_type": "code",
      "source": [
        "X_validate, X_test, y_validate, y_test = train_test_split(X_, y_, test_size=0.5, shuffle=True)"
      ],
      "metadata": {
        "id": "lrdjZgKX2Y7n"
      },
      "execution_count": 48,
      "outputs": []
    },
    {
      "cell_type": "code",
      "source": [
        "len(X_train), len(X_validate), len(X_test)"
      ],
      "metadata": {
        "colab": {
          "base_uri": "https://localhost:8080/"
        },
        "id": "POc8IuSN5Uqg",
        "outputId": "abbbbc56-028b-408d-8e27-7abe0bcb2363"
      },
      "execution_count": 49,
      "outputs": [
        {
          "output_type": "execute_result",
          "data": {
            "text/plain": [
              "(140, 30, 30)"
            ]
          },
          "metadata": {},
          "execution_count": 49
        }
      ]
    },
    {
      "cell_type": "markdown",
      "source": [
        "##Create and Compare model evaluations\n"
      ],
      "metadata": {
        "id": "wF4meXub51VW"
      }
    },
    {
      "cell_type": "code",
      "source": [
        "from sklearn.linear_model import Ridge\n",
        "from sklearn.metrics import mean_squared_error"
      ],
      "metadata": {
        "id": "2mjaN7Iy6ewM"
      },
      "execution_count": 50,
      "outputs": []
    },
    {
      "cell_type": "code",
      "source": [
        "best_model = None\n",
        "ridge_alpha = 10\n",
        "best_RMSE = np.inf\n",
        "last_model = None\n",
        "\n",
        "while best_model is None:\n",
        "\n",
        "  model = Ridge(alpha=ridge_alpha)\n",
        "  model.fit(X_train, y_train)\n",
        "  y_pred = model.predict(X_validate)\n",
        "  RMSE = np.sqrt(mean_squared_error(y_pred, y_validate))\n",
        "\n",
        "  if best_RMSE > RMSE and ridge_alpha > 0.01:\n",
        "    best_RMSE = RMSE\n",
        "\n",
        "  else:\n",
        "    best_model=last_model\n",
        "    break\n",
        "\n",
        "  last_model = model\n",
        "  ridge_alpha = ridge_alpha-0.01"
      ],
      "metadata": {
        "id": "MQmaRmbP5Wzr"
      },
      "execution_count": 74,
      "outputs": []
    },
    {
      "cell_type": "code",
      "source": [
        "best_RMSE"
      ],
      "metadata": {
        "colab": {
          "base_uri": "https://localhost:8080/"
        },
        "id": "afv51_o09XY6",
        "outputId": "5cd2c255-ec71-43b0-8dc1-404f14dcff36"
      },
      "execution_count": 75,
      "outputs": [
        {
          "output_type": "execute_result",
          "data": {
            "text/plain": [
              "1.9357255440568473"
            ]
          },
          "metadata": {},
          "execution_count": 75
        }
      ]
    },
    {
      "cell_type": "code",
      "source": [
        "ridge_alpha"
      ],
      "metadata": {
        "colab": {
          "base_uri": "https://localhost:8080/"
        },
        "id": "rlxDdY4uI76A",
        "outputId": "29c4be65-cdf1-449e-b05f-2bf5eaf3b5ff"
      },
      "execution_count": 76,
      "outputs": [
        {
          "output_type": "execute_result",
          "data": {
            "text/plain": [
              "1.6888920817414999e-13"
            ]
          },
          "metadata": {},
          "execution_count": 76
        }
      ]
    },
    {
      "cell_type": "code",
      "source": [
        "y_pred = best_model.predict(X_test)\n",
        "RMSE = np.sqrt(mean_squared_error(y_pred, y_test))"
      ],
      "metadata": {
        "id": "7tVN7R-m9g_1"
      },
      "execution_count": 77,
      "outputs": []
    },
    {
      "cell_type": "code",
      "source": [
        "RMSE"
      ],
      "metadata": {
        "colab": {
          "base_uri": "https://localhost:8080/"
        },
        "id": "QfleQ2fdEda9",
        "outputId": "f8e790d2-a381-403e-bf3b-298084d36430"
      },
      "execution_count": 78,
      "outputs": [
        {
          "output_type": "execute_result",
          "data": {
            "text/plain": [
              "1.4587894987840422"
            ]
          },
          "metadata": {},
          "execution_count": 78
        }
      ]
    },
    {
      "cell_type": "markdown",
      "source": [
        "#Cross Validation"
      ],
      "metadata": {
        "id": "KKC_akFMH66U"
      }
    },
    {
      "cell_type": "code",
      "source": [
        "from sklearn.model_selection import cross_val_score"
      ],
      "metadata": {
        "id": "NHeO00LcIi5j"
      },
      "execution_count": 126,
      "outputs": []
    },
    {
      "cell_type": "markdown",
      "source": [
        "###Scoring\n",
        "\n",
        "[model_evaluation](https://scikit-learn.org/stable/modules/model_evaluation.html)\n",
        "\n"
      ],
      "metadata": {
        "id": "ZIXVP5xjJvUK"
      }
    },
    {
      "cell_type": "code",
      "source": [
        "X_train, X_test, y_train, y_test = train_test_split(X, y, test_size=0.3, shuffle=True)\n",
        "scalar = StandardScaler()\n",
        "scalar.fit(X_train)\n",
        "X_train = scalar.transform(X_train)\n",
        "X_test = scalar.transform(X_test)\n",
        "\n",
        "best_model = None\n",
        "ridge_alpha = 10\n",
        "best_score = np.inf\n",
        "last_model = None\n",
        "\n",
        "\n",
        "while best_model is None:\n",
        "\n",
        "\n",
        "  model = Ridge(alpha=ridge_alpha)\n",
        "\n",
        "  cv_score = cross_val_score(model, X_train, y_train, scoring=\"neg_mean_squared_error\", cv=5)\n",
        "\n",
        "  score = np.sqrt(abs(cv_score.mean()))\n",
        "\n",
        "  if best_score > score and ridge_alpha > 0.01:\n",
        "    best_score = score\n",
        "\n",
        "  else:\n",
        "    best_model=last_model\n",
        "    break\n",
        "\n",
        "  last_model = model\n",
        "  ridge_alpha = ridge_alpha-0.01"
      ],
      "metadata": {
        "id": "gqKjImwILrDX"
      },
      "execution_count": 127,
      "outputs": []
    },
    {
      "cell_type": "code",
      "source": [
        "ridge_alpha"
      ],
      "metadata": {
        "colab": {
          "base_uri": "https://localhost:8080/"
        },
        "id": "QN8uwxQDJBYr",
        "outputId": "3fc558e3-e855-444e-ec0d-b66f61054953"
      },
      "execution_count": 128,
      "outputs": [
        {
          "output_type": "execute_result",
          "data": {
            "text/plain": [
              "0.35000000000016906"
            ]
          },
          "metadata": {},
          "execution_count": 128
        }
      ]
    },
    {
      "cell_type": "code",
      "source": [
        "Final_Model = Ridge(alpha=ridge_alpha)\n",
        "\n",
        "Final_Model.fit(X_train, y_train)\n",
        "\n",
        "y_pred = Final_Model.predict(X_test)\n",
        "\n",
        "RMSE = np.sqrt(mean_squared_error(y_pred, y_test))"
      ],
      "metadata": {
        "id": "buk1cvlCPTX4"
      },
      "execution_count": 129,
      "outputs": []
    },
    {
      "cell_type": "code",
      "source": [
        "RMSE\n"
      ],
      "metadata": {
        "colab": {
          "base_uri": "https://localhost:8080/"
        },
        "id": "E7swP8fsQFKW",
        "outputId": "7b5cc1fc-7aa3-4da0-f330-1ca85f5ee153"
      },
      "execution_count": 130,
      "outputs": [
        {
          "output_type": "execute_result",
          "data": {
            "text/plain": [
              "1.6934766013408833"
            ]
          },
          "metadata": {},
          "execution_count": 130
        }
      ]
    },
    {
      "cell_type": "markdown",
      "source": [
        "##sklearn.model_selection **cross_validate**"
      ],
      "metadata": {
        "id": "yq7nUnf4WU6J"
      }
    },
    {
      "cell_type": "code",
      "source": [
        "from sklearn.model_selection import cross_validate"
      ],
      "metadata": {
        "id": "8-D-6E2FWsZ1"
      },
      "execution_count": 131,
      "outputs": []
    },
    {
      "cell_type": "code",
      "source": [
        "Final_Model = Ridge(alpha=ridge_alpha)\n",
        "\n",
        "#SCORING strings\n",
        "#https://scikit-learn.org/stable/modules/model_evaluation.html\n",
        "scoring = cross_validate(Final_Model, X_train, y_train, cv=5, scoring=[\"neg_mean_squared_error\",\n",
        "                                                                        \"neg_mean_absolute_error\"] )\n"
      ],
      "metadata": {
        "id": "vEgh3X0BQQLU"
      },
      "execution_count": 132,
      "outputs": []
    },
    {
      "cell_type": "code",
      "source": [
        "scoring_df = pd.DataFrame(scoring)"
      ],
      "metadata": {
        "id": "W3vn2DpgXjCR"
      },
      "execution_count": 133,
      "outputs": []
    },
    {
      "cell_type": "code",
      "source": [
        "scoring_df.mean()\n"
      ],
      "metadata": {
        "colab": {
          "base_uri": "https://localhost:8080/"
        },
        "id": "qIbNa7gzXsbm",
        "outputId": "69a48056-49f0-4508-ab5e-c307a884e8f6"
      },
      "execution_count": 135,
      "outputs": [
        {
          "output_type": "execute_result",
          "data": {
            "text/plain": [
              "fit_time                        0.002748\n",
              "score_time                      0.001473\n",
              "test_neg_mean_squared_error    -3.088105\n",
              "test_neg_mean_absolute_error   -1.317669\n",
              "dtype: float64"
            ]
          },
          "metadata": {},
          "execution_count": 135
        }
      ]
    }
  ]
}